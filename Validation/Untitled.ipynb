{
 "cells": [
  {
   "cell_type": "code",
   "execution_count": 1,
   "id": "d727a39c",
   "metadata": {},
   "outputs": [],
   "source": [
    "import json\n",
    "import datetime as dt\n",
    "\n",
    "path = '../Scraping/items_new/SOFÁ.19108.json'"
   ]
  },
  {
   "cell_type": "code",
   "execution_count": 2,
   "id": "c4f5e53f",
   "metadata": {},
   "outputs": [],
   "source": [
    "with open(path, encoding='utf-8') as f:\n",
    "    data = json.load(f)"
   ]
  },
  {
   "cell_type": "code",
   "execution_count": 4,
   "id": "48ced9fa",
   "metadata": {},
   "outputs": [
    {
     "name": "stdout",
     "output_type": "stream",
     "text": [
      "{'id': 'SOFÁ', 'link': 'https://www.pinterest.es/pin/1134555331096361986/', 'image': 'https://i.pinimg.com/236x/55/95/ae/5595ae49f5d113c8c66262165f7f9a6a.jpg', 'title': 'Consultoria de Interiores', 'tags': ['Beige Sofa Living Room', 'Small Living Rooms', 'House Color Schemes', 'Living Room Color Schemes', 'Colours That Go With Grey', 'Beige Pillows', 'Sofa Colors', 'Best Sofa', 'Living Room Inspiration'], 'description': ' ', 'description2': '4 Jun 2021 - This Pin was created by Mercê Design on Pinterest. Consultoria de Interiores..', 'followers': 'None', 'date': '2021-06-04 16:33:08', 'datePublished': '2021-06-04T16:33:08.000Z', 'authorName': 'Mercê Design', 'authorProfile': 'https://www.pinterest.es/mercedesign'}\n"
     ]
    }
   ],
   "source": [
    "for x in data:\n",
    "    if x['link'] == 'https://www.pinterest.es/pin/1134555331096361986/':\n",
    "        print(x)"
   ]
  },
  {
   "cell_type": "code",
   "execution_count": 6,
   "id": "32ab611c",
   "metadata": {},
   "outputs": [
    {
     "name": "stdout",
     "output_type": "stream",
     "text": [
      "https://www.pinterest.es/pin/8655424275904767/\n",
      "https://i.pinimg.com/236x/28/6c/90/286c90c5edecea268b7b9be69dab8912.jpg\n",
      "https://www.pinterest.es/pin/4714774600837948/\n",
      "https://i.pinimg.com/236x/e2/be/30/e2be30e1e052f9ad1cee2f6e4d828ae8.jpg\n",
      "https://www.pinterest.es/pin/296463587980927363/\n",
      "https://i.pinimg.com/236x/89/1a/13/891a133b92cad639983e304548135e2d.jpg\n",
      "https://www.pinterest.es/pin/414964553176159410/\n",
      "https://i.pinimg.com/236x/cc/eb/00/cceb0065b61ba8e0697d121b634990a3.jpg\n",
      "https://www.pinterest.es/pin/134052526400659638/\n",
      "https://i.pinimg.com/236x/d5/6b/0c/d56b0c92a9a3d2bd74413c4612a320ef.jpg\n",
      "https://www.pinterest.es/pin/80924124545190857/\n",
      "https://i.pinimg.com/236x/d3/c8/f5/d3c8f5b93beb0442a5958a67dd189154.jpg\n",
      "https://www.pinterest.es/pin/52846995618920270/\n",
      "https://i.pinimg.com/236x/67/96/86/679686648729e0665174eda3af5c146c.jpg\n",
      "https://www.pinterest.es/pin/319403798584119657/\n",
      "https://i.pinimg.com/236x/a9/bc/81/a9bc81df516713a34bfeb07423a7072c.jpg\n",
      "https://www.pinterest.es/pin/569001734178512953/\n",
      "https://i.pinimg.com/236x/e3/e1/da/e3e1dae51bd3bdcdee5398145169afac.jpg\n",
      "https://www.pinterest.es/pin/622481979752959680/\n",
      "https://i.pinimg.com/236x/70/d7/01/70d701dd67beeff83136ff93e7c431c7.jpg\n",
      "https://www.pinterest.es/pin/264164334383690649/\n",
      "https://i.pinimg.com/236x/3a/d7/2f/3ad72f193fa450e2405a36a69378b714.jpg\n",
      "https://www.pinterest.es/pin/80924124545317438/\n",
      "https://i.pinimg.com/236x/6a/8c/cc/6a8ccc0eb5f332ebb3a0eaa22cc58de5.jpg\n",
      "https://www.pinterest.es/pin/379217231132005306/\n",
      "https://i.pinimg.com/236x/c9/6b/92/c96b92fc58b004b0be17506cfe9b61a9.jpg\n",
      "https://www.pinterest.es/pin/296463587980096114/\n",
      "https://i.pinimg.com/236x/1e/42/8f/1e428fa33fd62d0fe19a6bfb19832162.jpg\n",
      "https://www.pinterest.es/pin/264164334383440839/\n",
      "https://i.pinimg.com/236x/ec/d8/b1/ecd8b11344eeb4293bd3ab108420a5d2.jpg\n",
      "https://www.pinterest.es/pin/531213718556694410/\n",
      "https://i.pinimg.com/236x/69/5c/b1/695cb1f64801610eb6f5844d98e4a22a.jpg\n",
      "https://www.pinterest.es/pin/134052526399615793/\n",
      "https://i.pinimg.com/236x/01/cb/84/01cb84e4521b7c6ecdaa7db8093d5de7.jpg\n",
      "https://www.pinterest.es/pin/740279257502579793/\n",
      "https://i.pinimg.com/236x/4b/46/2c/4b462cc4b9c5ebbf881cb662b649126a.jpg\n",
      "https://www.pinterest.es/pin/4503668368894917/\n",
      "https://i.pinimg.com/236x/ad/35/ac/ad35ac5643ce1c2c7a264c62334baeab.jpg\n",
      "https://www.pinterest.es/pin/142144931979191849/\n",
      "https://i.pinimg.com/236x/f8/1d/e7/f81de7498819dce0af8219938395ce51.jpg\n",
      "https://www.pinterest.es/pin/209910032624236936/\n",
      "https://i.pinimg.com/236x/d8/44/f5/d844f5cbfac0cc0f92d0c150928bdf2a.jpg\n",
      "https://www.pinterest.es/pin/354799276906679166/\n",
      "https://i.pinimg.com/236x/30/0f/c3/300fc32cb4692c676cb36f64cd1e6599.jpg\n",
      "https://www.pinterest.es/pin/370421138112910594/\n",
      "https://i.pinimg.com/236x/96/2d/7b/962d7bee7e0bec484b4797a1478477d0.jpg\n",
      "https://www.pinterest.es/pin/783344928939741555/\n",
      "https://i.pinimg.com/236x/cd/48/b8/cd48b814dcf402288163f281fe39f18b.jpg\n",
      "https://www.pinterest.es/pin/664703226259331742/\n",
      "https://i.pinimg.com/236x/e0/6d/62/e06d6272149000a3d87edee5e72dc123.jpg\n",
      "https://www.pinterest.es/pin/4151824647766839/\n",
      "https://i.pinimg.com/236x/63/19/31/6319315fff520ca8b5503ff3ea768d1d.jpg\n",
      "https://www.pinterest.es/pin/250372060525496986/\n",
      "https://i.pinimg.com/236x/2f/62/6c/2f626c463c4509199206fd7f3809ffa3.jpg\n",
      "https://www.pinterest.es/pin/58898707617596319/\n",
      "https://i.pinimg.com/236x/74/50/59/745059494bc4a071dab2e2982e6d3839--crochet-baskets-crochet-bags.jpg\n",
      "https://www.pinterest.es/pin/488851734562194560/\n",
      "https://i.pinimg.com/236x/0d/3d/65/0d3d65b2990c9a2c70a961f34b6fbf22.jpg\n",
      "https://www.pinterest.es/pin/1759287342602561/\n",
      "https://i.pinimg.com/236x/fd/a9/9a/fda99a4b9728357839149c0477b87306.jpg\n",
      "https://www.pinterest.es/pin/604467581230961540/\n",
      "https://i.pinimg.com/236x/ff/02/bd/ff02bda366e7291645c3d87ba4b7c83c.jpg\n",
      "https://www.pinterest.es/pin/1266706136147030/\n",
      "https://i.pinimg.com/236x/60/b2/3f/60b23faa768b8c4285488c0bc5556020.jpg\n",
      "https://www.pinterest.es/pin/544020829995979489/\n",
      "https://i.pinimg.com/236x/39/0e/e0/390ee0ea0a540e567d1c8c8e3260b25a.jpg\n",
      "https://www.pinterest.es/pin/176907091603762119/\n",
      "https://i.pinimg.com/236x/63/0b/90/630b9026b24956735d2f807c38789119.jpg\n",
      "https://www.pinterest.es/pin/71213237848708268/\n",
      "https://i.pinimg.com/236x/4d/1f/d8/4d1fd823fa5155af9e422bd6f9dec3d5.jpg\n",
      "https://www.pinterest.es/pin/21884748179645857/\n",
      "https://i.pinimg.com/236x/f1/cf/96/f1cf9691f380c627030427da9b380a8d.jpg\n",
      "https://www.pinterest.es/pin/154670568444249349/\n",
      "https://i.pinimg.com/236x/6d/59/2d/6d592d7d167dabbf44a6889c17fc04ed.jpg\n",
      "https://www.pinterest.es/pin/305259680999030781/\n",
      "https://i.pinimg.com/236x/d9/c9/12/d9c9121f3bcae8f21004be1f5d4c89ee.jpg\n",
      "https://www.pinterest.es/pin/301178293838463191/\n",
      "https://i.pinimg.com/236x/8a/fa/9f/8afa9fcf1a3a4ac3256134010d8f0d99.jpg\n",
      "https://www.pinterest.es/pin/413697915774687792/\n",
      "https://i.pinimg.com/236x/16/31/b2/1631b263d571933db43da20e2a55cbfa.jpg\n",
      "--------------------------------\n",
      "https://www.pinterest.es/pin/148689225186580636/\n",
      "https://i.pinimg.com/236x/a3/2b/bd/a32bbd5945ff451891dc28bcb25092bf.jpg\n",
      "https://www.pinterest.es/pin/715016878343400442/\n",
      "https://i.pinimg.com/236x/4a/10/d8/4a10d870da180cb05076e701e0adff4a.jpg\n",
      "https://www.pinterest.es/pin/201325045834113915/\n",
      "https://i.pinimg.com/236x/c5/a9/16/c5a916798ed2a24f4bb3752bb5b512a4.jpg\n",
      "https://www.pinterest.es/pin/162129655325421019/\n",
      "https://i.pinimg.com/236x/bc/c9/a7/bcc9a703b0a160e60c873c056ab78cc7.jpg\n",
      "https://www.pinterest.es/pin/425801339768020111/\n",
      "https://i.pinimg.com/236x/51/8d/f3/518df3c8f57138fd20ec61d141702cbc.jpg\n",
      "https://www.pinterest.es/pin/472033604705627403/\n",
      "https://i.pinimg.com/236x/f2/62/f6/f262f64037434616bc714bcf161a6e45.jpg\n",
      "https://www.pinterest.es/pin/240098223873688656/\n",
      "https://i.pinimg.com/236x/4a/f1/f7/4af1f71cd41837a6148ad965e468a973.jpg\n",
      "https://www.pinterest.es/pin/296463587982630926/\n",
      "https://i.pinimg.com/236x/aa/b5/98/aab5981098b62e5e2145cb1b1f730d02.jpg\n",
      "https://www.pinterest.es/pin/154670568444249260/\n",
      "https://i.pinimg.com/236x/e6/3f/b0/e63fb0c9d09eeb6ed551b52fb27e2364.jpg\n",
      "https://www.pinterest.es/pin/385409680613989526/\n",
      "https://i.pinimg.com/236x/f8/34/8a/f8348afc98ab7264f7a64871fbc5f8b5.jpg\n",
      "https://www.pinterest.es/pin/154670568444248049/\n",
      "https://i.pinimg.com/236x/97/ca/47/97ca474ba0e97357051f9b49bac11b5d.jpg\n",
      "https://www.pinterest.es/pin/573575702553248995/\n",
      "https://i.pinimg.com/236x/04/dc/49/04dc49b82549a4d8dd3227ccf117542f.jpg\n",
      "https://www.pinterest.es/pin/1196337393727469/\n",
      "https://i.pinimg.com/236x/3b/4a/5c/3b4a5ced8b68f1b261e9fa9f586bc019.jpg\n",
      "https://www.pinterest.es/pin/464504149076672025/\n",
      "https://i.pinimg.com/236x/61/ba/44/61ba44a5de0d78fe293921b0fe86b06a.jpg\n",
      "https://www.pinterest.es/pin/264164334383443691/\n",
      "https://i.pinimg.com/236x/b3/76/b3/b376b3113798cc15389e33cba8f2bb0a.jpg\n",
      "https://www.pinterest.es/pin/107734616077194452/\n",
      "https://i.pinimg.com/236x/73/27/b0/7327b0490ef1ab23723b508860ca08fa.jpg\n",
      "https://www.pinterest.es/pin/155233518395881980/\n",
      "https://i.pinimg.com/236x/1f/e9/92/1fe9926f2b6a821a1b72cbf309903bb6.jpg\n",
      "https://www.pinterest.es/pin/294985844356956515/\n",
      "https://i.pinimg.com/236x/c9/61/80/c961805a75e16083835199d10e966746.jpg\n",
      "https://www.pinterest.es/pin/132785889004738007/\n",
      "https://i.pinimg.com/236x/dd/8e/55/dd8e55c22cbf4601c8c81f6a254e6e7f.jpg\n",
      "https://www.pinterest.es/pin/379217231132104866/\n",
      "https://i.pinimg.com/236x/62/46/05/6246050ea726c6201858e138abd6c743.jpg\n"
     ]
    }
   ],
   "source": [
    "i = 0\n",
    "ids = []\n",
    "for x in data:\n",
    "#     print(x['link'])\n",
    "    if i == 40:\n",
    "        print('--------------------------------')\n",
    "    if i == 60:\n",
    "        break\n",
    "    if dt.datetime.strptime(x['datePublished'][0:10], '%Y-%m-%d').year >= 2021 and x['link'] not in ids:\n",
    "        i += 1\n",
    "        ids.append(x['link'])\n",
    "        print(x['link'])\n",
    "        print(x['image'])"
   ]
  },
  {
   "cell_type": "code",
   "execution_count": 19,
   "id": "d2428ca1",
   "metadata": {},
   "outputs": [
    {
     "data": {
      "text/plain": [
       "{'2022-03-25T20:52:18.000Z': 1,\n",
       " '2022-04-08T05:17:05.000Z': 1,\n",
       " '2022-03-08T11:30:46.000Z': 1,\n",
       " '2009-11-24T00:00:00.000Z': 1,\n",
       " '2017-11-20T00:00:00.000Z': 1,\n",
       " '2022-02-01T03:33:44.000Z': 1,\n",
       " '2022-04-15T22:09:11.000Z': 1,\n",
       " '2022-04-08T21:53:14.000Z': 1,\n",
       " '2022-03-29T20:44:47.000Z': 1,\n",
       " '2022-03-31T12:56:09.000Z': 2,\n",
       " '2021-08-06T03:04:52.000Z': 1,\n",
       " '2022-04-01T00:54:58.000Z': 2,\n",
       " '2021-07-17T21:48:19.000Z': 1,\n",
       " '2022-01-05T21:23:44.000Z': 1,\n",
       " '2022-04-08T15:34:32.000Z': 1,\n",
       " '2022-04-12T04:55:42.000Z': 1,\n",
       " '2021-11-30T11:31:14.000Z': 1,\n",
       " '2021-04-07T00:00:00.000Z': 1,\n",
       " '2022-03-31T04:13:19.000Z': 1}"
      ]
     },
     "execution_count": 19,
     "metadata": {},
     "output_type": "execute_result"
    }
   ],
   "source": [
    "d = dict()\n",
    "for x in data:\n",
    "    date = x['datePublished']\n",
    "    if date in d:\n",
    "        d[date] += 1\n",
    "    else:\n",
    "        d[date] = 1\n",
    "d"
   ]
  }
 ],
 "metadata": {
  "kernelspec": {
   "display_name": "Python 3 (ipykernel)",
   "language": "python",
   "name": "python3"
  },
  "language_info": {
   "codemirror_mode": {
    "name": "ipython",
    "version": 3
   },
   "file_extension": ".py",
   "mimetype": "text/x-python",
   "name": "python",
   "nbconvert_exporter": "python",
   "pygments_lexer": "ipython3",
   "version": "3.8.3"
  }
 },
 "nbformat": 4,
 "nbformat_minor": 5
}

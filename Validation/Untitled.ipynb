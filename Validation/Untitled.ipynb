{
 "cells": [
  {
   "cell_type": "code",
   "execution_count": 26,
   "id": "d727a39c",
   "metadata": {},
   "outputs": [],
   "source": [
    "import json\n",
    "import datetime as dt\n",
    "\n",
    "path = '../Scraping/items/SILLA.19075.json'"
   ]
  },
  {
   "cell_type": "code",
   "execution_count": 27,
   "id": "c4f5e53f",
   "metadata": {},
   "outputs": [],
   "source": [
    "with open(path, encoding='utf-8') as f:\n",
    "    data = json.load(f)"
   ]
  },
  {
   "cell_type": "code",
   "execution_count": 32,
   "id": "32ab611c",
   "metadata": {},
   "outputs": [
    {
     "name": "stdout",
     "output_type": "stream",
     "text": [
      "https://www.pinterest.es/pin/26529085294780573/\n",
      "https://i.pinimg.com/236x/81/9e/f7/819ef70909c47e6e2a58309e420a07e9.jpg\n",
      "https://www.pinterest.es/pin/123708321005277706/\n",
      "https://i.pinimg.com/236x/3a/50/62/3a5062fd0e7c4f374c876a21670b6a5a.jpg\n",
      "https://www.pinterest.es/pin/273453008614992467/\n",
      "https://i.pinimg.com/236x/c7/53/49/c7534985a1f9110dfb9061948954d343.jpg\n",
      "https://www.pinterest.es/pin/4433299625251273/\n",
      "https://i.pinimg.com/236x/18/30/b0/1830b02c688d7aadc0d8762ebea8211c.jpg\n",
      "https://www.pinterest.es/pin/582512533057598524/\n",
      "https://i.pinimg.com/236x/05/59/c7/0559c781ea27ac5de15d2b464a971111.jpg\n",
      "https://www.pinterest.es/pin/178525572720130471/\n",
      "https://i.pinimg.com/236x/59/d4/73/59d473aa3c3f601647a6d15ee5a1b5f3--sofas.jpg\n",
      "https://www.pinterest.es/pin/655907133243923847/\n",
      "https://i.pinimg.com/236x/ad/de/c1/addec109b9f299e88bbf17b884424372.jpg\n"
     ]
    }
   ],
   "source": [
    "i = 0\n",
    "ids = []\n",
    "for x in data:\n",
    "#     print(x['link'])\n",
    "    if i == 10:\n",
    "        break\n",
    "    if dt.datetime.strptime(x['datePublished'][0:10], '%Y-%m-%d').year >= 2021 and x['link'] not in ids:\n",
    "        i += 1\n",
    "        ids.append(x['link'])\n",
    "        print(x['link'])\n",
    "        print(x['image'])"
   ]
  },
  {
   "cell_type": "code",
   "execution_count": 34,
   "id": "d2428ca1",
   "metadata": {},
   "outputs": [
    {
     "data": {
      "text/plain": [
       "{'2021-02-17T06:37:03.000Z': 14,\n",
       " '2017-06-28T00:00:00.000Z': 14,\n",
       " '2020-06-18T00:00:00.000Z': 14,\n",
       " '2011-04-29T00:00:00.000Z': 14,\n",
       " '2019-07-08T20:21:03.000Z': 14,\n",
       " '2019-07-22T00:00:00.000Z': 14,\n",
       " '2016-01-20T00:00:00.000Z': 14,\n",
       " '2020-03-02T00:00:00.000Z': 14,\n",
       " '2020-07-18T07:45:04.000Z': 14,\n",
       " '2021-04-13T00:00:00.000Z': 14,\n",
       " '2015-06-08T00:00:00.000Z': 14,\n",
       " '2021-11-14T10:30:17.000Z': 14,\n",
       " '2015-12-08T00:00:00.000Z': 14,\n",
       " '2019-06-21T00:00:00.000Z': 27,\n",
       " '2019-01-25T00:00:00.000Z': 14,\n",
       " '2019-07-01T00:00:00.000Z': 27,\n",
       " '2018-03-01T00:00:00.000Z': 14,\n",
       " '2015-07-20T00:00:00.000Z': 27,\n",
       " '2014-07-09T00:00:00.000Z': 14,\n",
       " '2009-10-06T00:00:00.000Z': 14,\n",
       " '2020-05-20T00:00:00.000Z': 13,\n",
       " '2016-02-12T00:00:00.000Z': 13,\n",
       " '2021-07-06T00:00:00.000Z': 13,\n",
       " '2012-08-17T00:00:00.000Z': 13,\n",
       " '2013-11-13T00:00:00.000Z': 13,\n",
       " '2020-03-06T00:00:00.000Z': 13,\n",
       " '2021-05-26T21:24:21.000Z': 13,\n",
       " '2014-06-06T00:00:00.000Z': 13,\n",
       " '2012-11-15T00:00:00.000Z': 13,\n",
       " '2021-09-24T14:56:41.000Z': 13,\n",
       " '2020-06-05T04:05:50.000Z': 13,\n",
       " '2014-02-23T00:00:00.000Z': 13,\n",
       " '2022-03-15T05:02:28.000Z': 13,\n",
       " '2013-10-02T00:00:00.000Z': 13}"
      ]
     },
     "execution_count": 34,
     "metadata": {},
     "output_type": "execute_result"
    }
   ],
   "source": [
    "d = dict()\n",
    "for x in data:\n",
    "    date = x['datePublished']\n",
    "    if date in d:\n",
    "        d[date] += 1\n",
    "    else:\n",
    "        d[date] = 1\n",
    "d"
   ]
  }
 ],
 "metadata": {
  "kernelspec": {
   "display_name": "Python 3 (ipykernel)",
   "language": "python",
   "name": "python3"
  },
  "language_info": {
   "codemirror_mode": {
    "name": "ipython",
    "version": 3
   },
   "file_extension": ".py",
   "mimetype": "text/x-python",
   "name": "python",
   "nbconvert_exporter": "python",
   "pygments_lexer": "ipython3",
   "version": "3.8.3"
  }
 },
 "nbformat": 4,
 "nbformat_minor": 5
}

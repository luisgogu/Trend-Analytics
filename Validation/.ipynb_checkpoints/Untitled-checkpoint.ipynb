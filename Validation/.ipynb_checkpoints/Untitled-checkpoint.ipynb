{
 "cells": [
  {
   "cell_type": "code",
   "execution_count": 2,
   "id": "d727a39c",
   "metadata": {},
   "outputs": [],
   "source": [
    "import json\n",
    "import datetime as dt\n",
    "\n",
    "path = '../Scraping/items_new/SILLA.19108.json'"
   ]
  },
  {
   "cell_type": "code",
   "execution_count": 3,
   "id": "c4f5e53f",
   "metadata": {},
   "outputs": [],
   "source": [
    "with open(path, encoding='utf-8') as f:\n",
    "    data = json.load(f)"
   ]
  },
  {
   "cell_type": "code",
   "execution_count": 8,
   "id": "32ab611c",
   "metadata": {},
   "outputs": [
    {
     "name": "stdout",
     "output_type": "stream",
     "text": [
      "https://www.pinterest.es/pin/2251868554598565/\n",
      "https://i.pinimg.com/236x/9d/e9/ba/9de9baa6ef22e7680018163e2b186de3.jpg\n",
      "https://www.pinterest.es/pin/36169603248899796/\n",
      "https://i.pinimg.com/236x/ec/99/3c/ec993cb62c0789f01d30f7ac2486d9af.jpg\n",
      "https://www.pinterest.es/pin/5559199532620525/\n",
      "https://i.pinimg.com/236x/f0/0a/35/f00a3522069b8acf0eea66978183c308.jpg\n",
      "https://www.pinterest.es/pin/790029959638531431/\n",
      "https://i.pinimg.com/236x/04/18/63/0418638c4b246d0e28a07f23a1227666.jpg\n",
      "https://www.pinterest.es/pin/1125968648538717/\n",
      "https://i.pinimg.com/236x/97/54/bd/9754bd61c50f4c8f2878766cd0a11fd6.jpg\n",
      "https://www.pinterest.es/pin/1149192029888379110/\n",
      "https://i.pinimg.com/236x/f3/f0/90/f3f09076bc5972c2ca885131acd6b751.jpg\n",
      "https://www.pinterest.es/pin/166492517467087492/\n",
      "https://i.pinimg.com/236x/15/af/33/15af33bafbb8fbfce3e6743452a9f73f.jpg\n",
      "https://www.pinterest.es/pin/1028861477343413151/\n",
      "https://i.pinimg.com/236x/e3/ba/27/e3ba27de762617818dc25f6c298686a9.jpg\n",
      "https://www.pinterest.es/pin/422001427595438896/\n",
      "https://i.pinimg.com/236x/86/00/07/8600076a89e1c2a71b670b330aa426e9.jpg\n",
      "https://www.pinterest.es/pin/490188740702534914/\n",
      "https://i.pinimg.com/236x/60/2b/a2/602ba2accd070f36a361b9a7796aab9e.jpg\n",
      "https://www.pinterest.es/pin/847380486149479814/\n",
      "https://i.pinimg.com/236x/8a/de/0b/8ade0bc8d001d7867c4331238e6bd23a.jpg\n",
      "https://www.pinterest.es/pin/820499625870018730/\n",
      "https://i.pinimg.com/236x/2b/4e/af/2b4eafaaf6e4bc77279544652facddd0.jpg\n",
      "https://www.pinterest.es/pin/178525572720130471/\n",
      "https://i.pinimg.com/236x/59/d4/73/59d473aa3c3f601647a6d15ee5a1b5f3--sofas.jpg\n",
      "https://www.pinterest.es/pin/777715429411289454/\n",
      "https://i.pinimg.com/236x/37/ee/d3/37eed3f926ef89b7a70b7a24456aab94.jpg\n",
      "https://www.pinterest.es/pin/790100328387898906/\n",
      "https://i.pinimg.com/236x/41/63/e4/4163e463ed1e9ca7b3b0522ad4201617.jpg\n",
      "https://www.pinterest.es/pin/70228075430839248/\n",
      "https://i.pinimg.com/236x/ae/08/42/ae084236f38b0e2badb6d13f7567b0e2--art-nouveau-furniture-art-nouveau-design.jpg\n",
      "https://www.pinterest.es/pin/582512533057598524/\n",
      "https://i.pinimg.com/236x/05/59/c7/0559c781ea27ac5de15d2b464a971111.jpg\n",
      "https://www.pinterest.es/pin/422281207731345/\n",
      "https://i.pinimg.com/236x/1e/9f/0e/1e9f0ebc7635e6fa06881b810df4ff1b.jpg\n",
      "https://www.pinterest.es/pin/699465385887719341/\n",
      "https://i.pinimg.com/236x/b7/be/18/b7be1871a6b7ee7380be59deeaa8dfd6.jpg\n",
      "https://www.pinterest.es/pin/43699058876460311/\n",
      "https://i.pinimg.com/236x/aa/c7/47/aac747113a8c6198583a020cfc7de914.jpg\n"
     ]
    }
   ],
   "source": [
    "i = 0\n",
    "ids = []\n",
    "for x in data:\n",
    "#     print(x['link'])\n",
    "    if i == 20:\n",
    "        break\n",
    "    if dt.datetime.strptime(x['datePublished'][0:10], '%Y-%m-%d').year >= 2021 and x['link'] not in ids:\n",
    "        i += 1\n",
    "        ids.append(x['link'])\n",
    "        print(x['link'])\n",
    "        print(x['image'])"
   ]
  },
  {
   "cell_type": "code",
   "execution_count": 5,
   "id": "d2428ca1",
   "metadata": {},
   "outputs": [
    {
     "data": {
      "text/plain": [
       "484"
      ]
     },
     "execution_count": 5,
     "metadata": {},
     "output_type": "execute_result"
    }
   ],
   "source": [
    "d = dict()\n",
    "for x in data:\n",
    "    date = x['datePublished']\n",
    "    if date in d:\n",
    "        d[date] += 1\n",
    "    else:\n",
    "        d[date] = 1\n",
    "d"
   ]
  }
 ],
 "metadata": {
  "kernelspec": {
   "display_name": "Python 3 (ipykernel)",
   "language": "python",
   "name": "python3"
  },
  "language_info": {
   "codemirror_mode": {
    "name": "ipython",
    "version": 3
   },
   "file_extension": ".py",
   "mimetype": "text/x-python",
   "name": "python",
   "nbconvert_exporter": "python",
   "pygments_lexer": "ipython3",
   "version": "3.8.3"
  }
 },
 "nbformat": 4,
 "nbformat_minor": 5
}

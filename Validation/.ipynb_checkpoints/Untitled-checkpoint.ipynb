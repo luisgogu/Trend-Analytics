{
 "cells": [
  {
   "cell_type": "code",
   "execution_count": 19,
   "id": "d727a39c",
   "metadata": {},
   "outputs": [],
   "source": [
    "import json\n",
    "import datetime as dt\n",
    "\n",
    "path = '../Scraping/items_new2/COJÍN.19115.json'"
   ]
  },
  {
   "cell_type": "code",
   "execution_count": 20,
   "id": "c4f5e53f",
   "metadata": {},
   "outputs": [],
   "source": [
    "with open(path, encoding='utf-8') as f:\n",
    "    data = json.load(f)"
   ]
  },
  {
   "cell_type": "code",
   "execution_count": 21,
   "id": "32ab611c",
   "metadata": {},
   "outputs": [
    {
     "name": "stdout",
     "output_type": "stream",
     "text": [
      "https://www.pinterest.es/pin/481392647678094138/\n",
      "https://i.pinimg.com/236x/4e/2e/79/4e2e79c6716957395fa001e360b52178.jpg\n",
      "https://www.pinterest.es/pin/82050024453148792/\n",
      "https://i.pinimg.com/236x/c1/ac/c0/c1acc03730a4e1b2ea4ae6bd40445c41--throw-pillows-for-couch-decorative-throw-pillows.jpg\n",
      "https://www.pinterest.es/pin/22518066876988154/\n",
      "https://i.pinimg.com/236x/51/6b/3d/516b3d6bca1f9b7f93835d0a394c612c.jpg\n",
      "https://www.pinterest.es/pin/983473637350284066/\n",
      "https://i.pinimg.com/236x/05/06/53/050653d4edb239fdef8e491f56ec6e04.jpg\n",
      "https://www.pinterest.es/pin/11118330321940967/\n",
      "https://i.pinimg.com/236x/1d/48/d8/1d48d88c7298c3561e77f0ef007795b5.jpg\n",
      "https://www.pinterest.es/pin/1125477763100851124/\n",
      "https://i.pinimg.com/236x/75/b8/de/75b8decc1e5253a303a606601fc9786b.jpg\n",
      "https://www.pinterest.es/pin/42925002686186114/\n",
      "https://i.pinimg.com/236x/32/d7/d0/32d7d0eafc6cc65d4abaa45ef2dddbfe--fractions-fabric-crafts.jpg\n",
      "https://www.pinterest.es/pin/4855512090803310/\n",
      "https://i.pinimg.com/236x/f4/be/b0/f4beb027d3db0824355be463fa8ed552--needlepoint-pillows-pillow-talk.jpg\n",
      "https://www.pinterest.es/pin/154811305930129767/\n",
      "https://i.pinimg.com/236x/1d/9c/91/1d9c91e88a02bd144a6ad43c4272f0c7.jpg\n"
     ]
    }
   ],
   "source": [
    "i = 0\n",
    "ids = []\n",
    "for x in data:\n",
    "#     print(x['link'])\n",
    "    if i == 40:\n",
    "        print('--------------------------------')\n",
    "    if i == 60:\n",
    "        break\n",
    "    if dt.datetime.strptime(x['datePublished'][0:10], '%Y-%m-%d').year >= 2021 and x['link'] not in ids:\n",
    "        i += 1\n",
    "        ids.append(x['link'])\n",
    "        print(x['link'])\n",
    "        print(x['image'])"
   ]
  },
  {
   "cell_type": "code",
   "execution_count": 19,
   "id": "d2428ca1",
   "metadata": {},
   "outputs": [
    {
     "data": {
      "text/plain": [
       "{'2022-03-25T20:52:18.000Z': 1,\n",
       " '2022-04-08T05:17:05.000Z': 1,\n",
       " '2022-03-08T11:30:46.000Z': 1,\n",
       " '2009-11-24T00:00:00.000Z': 1,\n",
       " '2017-11-20T00:00:00.000Z': 1,\n",
       " '2022-02-01T03:33:44.000Z': 1,\n",
       " '2022-04-15T22:09:11.000Z': 1,\n",
       " '2022-04-08T21:53:14.000Z': 1,\n",
       " '2022-03-29T20:44:47.000Z': 1,\n",
       " '2022-03-31T12:56:09.000Z': 2,\n",
       " '2021-08-06T03:04:52.000Z': 1,\n",
       " '2022-04-01T00:54:58.000Z': 2,\n",
       " '2021-07-17T21:48:19.000Z': 1,\n",
       " '2022-01-05T21:23:44.000Z': 1,\n",
       " '2022-04-08T15:34:32.000Z': 1,\n",
       " '2022-04-12T04:55:42.000Z': 1,\n",
       " '2021-11-30T11:31:14.000Z': 1,\n",
       " '2021-04-07T00:00:00.000Z': 1,\n",
       " '2022-03-31T04:13:19.000Z': 1}"
      ]
     },
     "execution_count": 19,
     "metadata": {},
     "output_type": "execute_result"
    }
   ],
   "source": [
    "d = dict()\n",
    "for x in data:\n",
    "    date = x['datePublished']\n",
    "    if date in d:\n",
    "        d[date] += 1\n",
    "    else:\n",
    "        d[date] = 1\n",
    "d"
   ]
  }
 ],
 "metadata": {
  "kernelspec": {
   "display_name": "Python 3 (ipykernel)",
   "language": "python",
   "name": "python3"
  },
  "language_info": {
   "codemirror_mode": {
    "name": "ipython",
    "version": 3
   },
   "file_extension": ".py",
   "mimetype": "text/x-python",
   "name": "python",
   "nbconvert_exporter": "python",
   "pygments_lexer": "ipython3",
   "version": "3.8.3"
  }
 },
 "nbformat": 4,
 "nbformat_minor": 5
}

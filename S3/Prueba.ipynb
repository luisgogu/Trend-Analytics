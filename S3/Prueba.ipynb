{
 "cells": [
  {
   "cell_type": "code",
   "execution_count": 14,
   "metadata": {},
   "outputs": [
    {
     "name": "stdout",
     "output_type": "stream",
     "text": [
      "2013/01/18/silla/silla_2013_01_18.json\n",
      "2013/01/26/silla/silla_2013_01_26.json\n",
      "2013/02/19/silla/silla_2013_02_19.json\n",
      "2013/02/22/silla/silla_2013_02_22.json\n",
      "2013/06/18/silla/silla_2013_06_18.json\n",
      "2013/06/20/silla/silla_2013_06_20.json\n",
      "2013/06/25/silla/silla_2013_06_25.json\n",
      "2013/07/16/silla/silla_2013_07_16.json\n",
      "2013/07/21/silla/silla_2013_07_21.json\n",
      "2013/07/28/silla/silla_2013_07_28.json\n",
      "2013/07/31/silla/silla_2013_07_31.json\n",
      "2013/08/05/silla/silla_2013_08_05.json\n",
      "2013/08/15/silla/silla_2013_08_15.json\n",
      "2013/09/09/silla/silla_2013_09_09.json\n",
      "2013/09/27/silla/silla_2013_09_27.json\n",
      "2013/10/02/silla/silla_2013_10_02.json\n",
      "2013/10/18/silla/silla_2013_10_18.json\n",
      "2013/10/22/silla/silla_2013_10_22.json\n",
      "2013/11/06/silla/silla_2013_11_06.json\n",
      "2013/11/13/silla/silla_2013_11_13.json\n",
      "2013/11/19/silla/silla_2013_11_19.json\n",
      "2013/11/22/silla/silla_2013_11_22.json\n"
     ]
    }
   ],
   "source": [
    "from Query import Answer_Query_Alg1\n",
    "\n",
    "r = Answer_Query_Alg1({\"from\": None, \"to\":None, \"product\":[\"silla\"]})"
   ]
  },
  {
   "cell_type": "code",
   "execution_count": null,
   "metadata": {},
   "outputs": [],
   "source": []
  },
  {
   "cell_type": "code",
   "execution_count": 1,
   "metadata": {},
   "outputs": [
    {
     "name": "stdout",
     "output_type": "stream",
     "text": [
      "2013/01/18/silla/silla_2013_01_18.json\n",
      "2013/01/26/silla/silla_2013_01_26.json\n",
      "2013/02/19/silla/silla_2013_02_19.json\n",
      "2013/02/22/silla/silla_2013_02_22.json\n",
      "2013/06/18/silla/silla_2013_06_18.json\n",
      "2013/06/20/silla/silla_2013_06_20.json\n",
      "2013/06/25/silla/silla_2013_06_25.json\n",
      "2013/07/16/silla/silla_2013_07_16.json\n",
      "2013/07/21/silla/silla_2013_07_21.json\n",
      "2013/07/28/silla/silla_2013_07_28.json\n",
      "2013/07/31/silla/silla_2013_07_31.json\n",
      "2013/08/05/silla/silla_2013_08_05.json\n",
      "2013/08/15/silla/silla_2013_08_15.json\n",
      "2013/09/09/silla/silla_2013_09_09.json\n",
      "2013/09/27/silla/silla_2013_09_27.json\n",
      "2013/10/02/silla/silla_2013_10_02.json\n",
      "2013/10/18/silla/silla_2013_10_18.json\n",
      "2013/10/22/silla/silla_2013_10_22.json\n",
      "2013/11/06/silla/silla_2013_11_06.json\n",
      "2013/11/13/silla/silla_2013_11_13.json\n",
      "2013/11/19/silla/silla_2013_11_19.json\n",
      "2013/11/22/silla/silla_2013_11_22.json\n"
     ]
    }
   ],
   "source": [
    "from Query import Answer_Query_Alg2\n",
    "r = Answer_Query_Alg2({\"feature\":\"Style\", \"product\":[\"Chair\"]})"
   ]
  },
  {
   "cell_type": "code",
   "execution_count": 2,
   "metadata": {},
   "outputs": [
    {
     "data": {
      "text/plain": [
       "{'Feature': ['viejo',\n",
       "  'nuevo',\n",
       "  'tecnologías',\n",
       "  'precioso',\n",
       "  'ideas',\n",
       "  'imaginería',\n",
       "  'Piet Mondrian',\n",
       "  'vintage',\n",
       "  'Barato',\n",
       "  'obsoleta']}"
      ]
     },
     "execution_count": 2,
     "metadata": {},
     "output_type": "execute_result"
    }
   ],
   "source": [
    "r.dic"
   ]
  },
  {
   "cell_type": "code",
   "execution_count": null,
   "metadata": {},
   "outputs": [],
   "source": []
  }
 ],
 "metadata": {
  "kernelspec": {
   "display_name": "Python 3",
   "language": "python",
   "name": "python3"
  },
  "language_info": {
   "codemirror_mode": {
    "name": "ipython",
    "version": 3
   },
   "file_extension": ".py",
   "mimetype": "text/x-python",
   "name": "python",
   "nbconvert_exporter": "python",
   "pygments_lexer": "ipython3",
   "version": "3.7.6"
  }
 },
 "nbformat": 4,
 "nbformat_minor": 4
}

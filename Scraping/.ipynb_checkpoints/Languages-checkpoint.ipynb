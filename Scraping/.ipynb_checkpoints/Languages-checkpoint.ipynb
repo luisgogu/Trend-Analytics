{
 "cells": [
  {
   "cell_type": "code",
   "execution_count": 1,
   "id": "ae88c2d4",
   "metadata": {},
   "outputs": [],
   "source": [
    "import pickle\n",
    "import pandas as pd\n",
    "import numpy\n",
    "import os\n",
    "import langid\n",
    "import json"
   ]
  },
  {
   "cell_type": "code",
   "execution_count": 30,
   "id": "a2d91a0a",
   "metadata": {},
   "outputs": [],
   "source": [
    "language_list = ['es','en', 'fr', 'it', 'pt']\n",
    "langid.set_languages(language_list)"
   ]
  },
  {
   "cell_type": "code",
   "execution_count": 8,
   "id": "6080ef03",
   "metadata": {},
   "outputs": [],
   "source": [
    "with open(\"items_new/SOFÁ.19108.json\", \"r\", encoding='utf-8') as read_file:\n",
    "    posts = json.load(read_file)"
   ]
  },
  {
   "cell_type": "code",
   "execution_count": 9,
   "id": "291c70ed",
   "metadata": {},
   "outputs": [
    {
     "data": {
      "text/plain": [
       "{'en': 12873,\n",
       " 'it': 942,\n",
       " 'hu': 614,\n",
       " 'fr': 558,\n",
       " 'de': 546,\n",
       " 'es': 377,\n",
       " 'pt': 354,\n",
       " 'nl': 221,\n",
       " 'pl': 193,\n",
       " 'cs': 57,\n",
       " 'et': 50,\n",
       " 'sv': 49,\n",
       " 'gl': 23,\n",
       " 'lt': 19,\n",
       " 'ro': 18,\n",
       " 'da': 12,\n",
       " 'ru': 12,\n",
       " 'mt': 11,\n",
       " 'ca': 9,\n",
       " 'fi': 9,\n",
       " 'eu': 8,\n",
       " 'no': 7,\n",
       " 'ga': 7,\n",
       " 'tr': 6,\n",
       " 'mg': 5,\n",
       " 'xh': 5,\n",
       " 'sk': 5,\n",
       " 'eo': 4,\n",
       " 'id': 4,\n",
       " 'ms': 4,\n",
       " 'cy': 4,\n",
       " 'vi': 4,\n",
       " 'ja': 3,\n",
       " 'la': 3,\n",
       " 'is': 3,\n",
       " 'se': 3,\n",
       " 'vo': 3,\n",
       " 'zh': 2,\n",
       " 'tl': 2,\n",
       " 'sl': 2,\n",
       " 'hr': 2,\n",
       " 'oc': 2,\n",
       " 'bg': 2,\n",
       " 'th': 1,\n",
       " 'rw': 1,\n",
       " 'af': 1}"
      ]
     },
     "execution_count": 9,
     "metadata": {},
     "output_type": "execute_result"
    }
   ],
   "source": [
    "d = dict()\n",
    "for p in posts:\n",
    "    for k,v in p.items():\n",
    "        if k in ['id','title','description','description2']:\n",
    "            lang = langid.classify(v)[0]\n",
    "            \n",
    "            if lang in d:\n",
    "                d[lang] += 1\n",
    "            else:\n",
    "                d[lang] = 1\n",
    "        \n",
    "        elif k == 'tags':\n",
    "            for t in v:\n",
    "                lang = langid.classify(t)[0]\n",
    "                \n",
    "                if lang in d:\n",
    "                    d[lang] += 1\n",
    "                else:\n",
    "                    d[lang] = 1\n",
    "\n",
    "{k: v for k, v in sorted(d.items(), key=lambda item: item[1], reverse=True)}"
   ]
  }
 ],
 "metadata": {
  "kernelspec": {
   "display_name": "Python 3 (ipykernel)",
   "language": "python",
   "name": "python3"
  },
  "language_info": {
   "codemirror_mode": {
    "name": "ipython",
    "version": 3
   },
   "file_extension": ".py",
   "mimetype": "text/x-python",
   "name": "python",
   "nbconvert_exporter": "python",
   "pygments_lexer": "ipython3",
   "version": "3.8.3"
  }
 },
 "nbformat": 4,
 "nbformat_minor": 5
}

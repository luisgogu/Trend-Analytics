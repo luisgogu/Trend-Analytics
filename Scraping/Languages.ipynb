{
 "cells": [
  {
   "cell_type": "code",
   "execution_count": 1,
   "id": "ae88c2d4",
   "metadata": {},
   "outputs": [],
   "source": [
    "import pickle\n",
    "import pandas as pd\n",
    "import numpy\n",
    "import os\n",
    "import langid\n",
    "import json"
   ]
  },
  {
   "cell_type": "code",
   "execution_count": 2,
   "id": "a2d91a0a",
   "metadata": {},
   "outputs": [],
   "source": [
    "language_list = ['es','en', 'fr', 'it', 'pt', 'de', 'ru', 'nl']\n",
    "langid.set_languages(language_list)"
   ]
  },
  {
   "cell_type": "code",
   "execution_count": 4,
   "id": "291c70ed",
   "metadata": {},
   "outputs": [
    {
     "name": "stdout",
     "output_type": "stream",
     "text": [
      "ALMOHADA.19108.json\n",
      "ARMARIO.19108.json\n",
      "ASIENTO.19108.json\n",
      "BANDEJA.19108.json\n",
      "BOLSA.19108.json\n",
      "BUTACA.19108.json\n",
      "CADIRA.19108.json\n",
      "CAJA.19108.json\n",
      "CAJÓN.19108.json\n",
      "CAMA.19108.json\n",
      "CAMBIADOR.19108.json\n",
      "CANAPÉ.19108.json\n",
      "CESTO.19108.json\n",
      "CHAISELONGUE.19108.json\n",
      "COJÍN.19108.json\n",
      "COLCHONETA.19108.json\n",
      "COLCHÓN.19108.json\n",
      "COLGADOR.19108.json\n",
      "CORTINA.19108.json\n",
      "CUADRO.19108.json\n"
     ]
    },
    {
     "data": {
      "text/plain": [
       "{'en': 19026,\n",
       " 'es': 6416,\n",
       " 'pt': 3696,\n",
       " 'fr': 1889,\n",
       " 'de': 1438,\n",
       " 'nl': 670,\n",
       " 'ru': 636,\n",
       " 'it': 546}"
      ]
     },
     "execution_count": 4,
     "metadata": {},
     "output_type": "execute_result"
    }
   ],
   "source": [
    "d = dict()\n",
    "for filename in os.listdir(\"items_new\")[:20]:\n",
    "    print(filename)\n",
    "    with open(\"items_new/\"+filename, \"r\", encoding='utf-8') as read_file:\n",
    "        posts = json.load(read_file)\n",
    "    for p in posts:\n",
    "        for k,v in p.items():\n",
    "            if k in ['title','description','description2']:\n",
    "                lang = langid.classify(v)[0]\n",
    "\n",
    "                if lang in d:\n",
    "                    d[lang] += 1\n",
    "                else:\n",
    "                    d[lang] = 1\n",
    "\n",
    "{k: v for k, v in sorted(d.items(), key=lambda item: item[1], reverse=True)}"
   ]
  }
 ],
 "metadata": {
  "kernelspec": {
   "display_name": "Python 3 (ipykernel)",
   "language": "python",
   "name": "python3"
  },
  "language_info": {
   "codemirror_mode": {
    "name": "ipython",
    "version": 3
   },
   "file_extension": ".py",
   "mimetype": "text/x-python",
   "name": "python",
   "nbconvert_exporter": "python",
   "pygments_lexer": "ipython3",
   "version": "3.8.3"
  }
 },
 "nbformat": 4,
 "nbformat_minor": 5
}

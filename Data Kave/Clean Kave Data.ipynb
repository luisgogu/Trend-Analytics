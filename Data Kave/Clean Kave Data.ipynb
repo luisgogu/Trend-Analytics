{
 "cells": [
  {
   "cell_type": "code",
   "execution_count": 1,
   "metadata": {},
   "outputs": [],
   "source": [
    "import pandas as pd\n",
    "import numpy as np\n",
    "import unidecode\n",
    "pd.set_option('display.max_rows', 400)\n",
    "pd.set_option('display.max_columns', None)\n",
    "import re"
   ]
  },
  {
   "cell_type": "code",
   "execution_count": 2,
   "metadata": {},
   "outputs": [],
   "source": [
    "def drop_columns(df, columns):\n",
    "    df.drop(columns,axis=1, inplace=True)\n",
    "    return df"
   ]
  },
  {
   "cell_type": "code",
   "execution_count": 3,
   "metadata": {},
   "outputs": [],
   "source": [
    "def get_furniture(row, furnitures):\n",
    "    for w in row[1].split(): # asumeixo que la categoria bona es la primera que surt\n",
    "\n",
    "        if w.lower() in ['cestas', 'cestos', 'cesta']:\n",
    "            return 'CESTO'\n",
    "        elif w.lower() == 'puf':\n",
    "            return 'PUFF'\n",
    "        elif w.lower() == 'chaise':\n",
    "            return 'CHAISELONGUE'\n",
    "        elif w.lower() == 'aplique':\n",
    "            return 'LÁMPARA'\n",
    "        elif w.lower() == 'jarras':\n",
    "            return 'JARRA'\n",
    "        elif w.lower() == 'jarrones':\n",
    "            return 'JARRÓN'\n",
    "        elif w.lower() in ['somier', 'somieres']:\n",
    "            return 'CAMA'\n",
    "        \n",
    "        else:\n",
    "            for f in furnitures:\n",
    "                if f == 'VENTOSAS':\n",
    "                    f = f[:-1]\n",
    "\n",
    "                if w.lower() == unidecode.unidecode(f.lower()):\n",
    "                    return f\n",
    "               \n",
    "    return 'otro'"
   ]
  },
  {
   "cell_type": "code",
   "execution_count": 4,
   "metadata": {},
   "outputs": [],
   "source": [
    "from os import listdir\n",
    "from os.path import isfile, join\n",
    "\n",
    "files = [f for f in listdir('../Scraping/items_new/') if isfile(join('../Scraping/items_new/', f))]\n",
    "files2 = [f for f in listdir('../Scraping/items_new2/') if isfile(join('../Scraping/items_new2/', f))]"
   ]
  },
  {
   "cell_type": "code",
   "execution_count": 5,
   "metadata": {},
   "outputs": [],
   "source": [
    "ids = set()\n",
    "for x in files:\n",
    "    ids.add(x.split('.')[0])\n",
    "for x in files2:\n",
    "    ids.add(x.split('.')[0])"
   ]
  },
  {
   "cell_type": "code",
   "execution_count": 88,
   "metadata": {},
   "outputs": [],
   "source": [
    "# variables\n",
    "\n",
    "# # the order of the categories matter!!\n",
    "# furnitures = ['abridor', 'alfombra', 'almohada', 'ambientador', 'aparado',\n",
    "#        'aplique', 'armario', 'asiento', 'azucarero', 'bandeja', 'ban',\n",
    "#        'base', 'biombo', 'bolsa', 'bol', 'bombilla', 'book',\n",
    "#        'bote', 'botell', 'butaca', 'cabecero', 'caja',\n",
    "#        'cajon', 'cama', 'cambiador', 'canape', 'candelabro', 'cesto', 'cesta', 'chaise',\n",
    "#        'cojin', 'colchoneta', 'colchon', 'colgador', 'consola', 'copa', \n",
    "#        'corona', 'cortina', 'cuadro', 'cubo', 'delantal', 'escalera', \n",
    "#        'escobilla', 'escritorio', 'espejo', 'estanteria', 'estante', 'estrella', \n",
    "#        'figura', 'ganchos', 'guirnalda', 'hamaca', 'jabon', 'jarra', 'jarron', \n",
    "#        'lampara', 'libreria', 'lienzo', 'llitera', 'macetero', 'maceta', \n",
    "#        'mantel', 'marco', 'mecedora', 'mesa', 'mesita', 'modulo', 'mortero',\n",
    "#        'mueble', 'neceser', 'panel', 'pantalla', 'silla', 'papel', 'perchero', 'pizarra', \n",
    "#        'planta', 'plato', 'portacepillo', 'protector', 'puf', 'reloj',\n",
    "#        'reposacabezas', 'reposapies', 'revistero', 'rodillo', 'sabana',\n",
    "#        'salero', 'set',  'sillon', 'sofacama', 'sofa',\n",
    "#        'somier', 'tabla', 'taburete', 'tapiceria', 'tapiz', 'taza',\n",
    "#        'tetera', 'tipi', 'toall', 'tumbona', 'vaso', 'vela', 'ventosas',\n",
    "#        'zapatero']\n",
    "\n",
    "# file = open(\"links.txt\", \"r\", encoding='utf-8')\n",
    "# url = file.read().split('\\n')\n",
    "# file.close()\n",
    "    \n",
    "# for i,f in enumerate(url):\n",
    "#     url[i] = unidecode.unidecode(f.lower())\n",
    "# url.remove('chaiselongue')\n",
    "# url.remove('cesto')\n",
    "# url.remove('puff')\n",
    "\n",
    "# url = url + ['chaise', 'cest', 'puf']\n",
    "\n",
    "# ban -> banco, banqueta\n",
    "# macet -> macetas, macetero\n",
    "# cest -> cesta, cestas, cestos\n",
    "# toall -> toalla, toallas, toallero\n",
    "# jarr -> jarra, jarron"
   ]
  },
  {
   "cell_type": "code",
   "execution_count": 10,
   "metadata": {},
   "outputs": [],
   "source": [
    "df = pd.read_csv(\"descripcion_productos.csv\", encoding='utf-8', sep=\";\")"
   ]
  },
  {
   "cell_type": "code",
   "execution_count": 13,
   "metadata": {},
   "outputs": [],
   "source": [
    "alts = descripcion: 4, color: 1, id: 1\n",
    "baixos = id: 1, descripcion: 1, Materiales: 2, Material principal: 2, Construccion...: 1"
   ]
  },
  {
   "cell_type": "code",
   "execution_count": 11,
   "metadata": {},
   "outputs": [
    {
     "ename": "NameError",
     "evalue": "name 'l' is not defined",
     "output_type": "error",
     "traceback": [
      "\u001b[0;31m---------------------------------------------------------------------------\u001b[0m",
      "\u001b[0;31mNameError\u001b[0m                                 Traceback (most recent call last)",
      "\u001b[0;32m<ipython-input-11-e7f2ffbf6072>\u001b[0m in \u001b[0;36m<module>\u001b[0;34m\u001b[0m\n\u001b[1;32m      1\u001b[0m \u001b[0;31m# get columns of interest\u001b[0m\u001b[0;34m\u001b[0m\u001b[0;34m\u001b[0m\u001b[0;34m\u001b[0m\u001b[0m\n\u001b[0;32m----> 2\u001b[0;31m \u001b[0;32mfor\u001b[0m \u001b[0mx\u001b[0m \u001b[0;32min\u001b[0m \u001b[0ml\u001b[0m\u001b[0;34m:\u001b[0m\u001b[0;34m\u001b[0m\u001b[0;34m\u001b[0m\u001b[0m\n\u001b[0m\u001b[1;32m      3\u001b[0m     \u001b[0mcolumns\u001b[0m\u001b[0;34m.\u001b[0m\u001b[0mremove\u001b[0m\u001b[0;34m(\u001b[0m\u001b[0mx\u001b[0m\u001b[0;34m)\u001b[0m\u001b[0;34m\u001b[0m\u001b[0;34m\u001b[0m\u001b[0m\n\u001b[1;32m      4\u001b[0m \u001b[0mdf\u001b[0m \u001b[0;34m=\u001b[0m \u001b[0mdrop_columns\u001b[0m\u001b[0;34m(\u001b[0m\u001b[0mdf\u001b[0m\u001b[0;34m,\u001b[0m \u001b[0mcolumns\u001b[0m\u001b[0;34m)\u001b[0m\u001b[0;34m\u001b[0m\u001b[0;34m\u001b[0m\u001b[0m\n\u001b[1;32m      5\u001b[0m \u001b[0;34m\u001b[0m\u001b[0m\n",
      "\u001b[0;31mNameError\u001b[0m: name 'l' is not defined"
     ]
    }
   ],
   "source": [
    "# get columns of interest\n",
    "for x in l:\n",
    "    columns.remove(x)\n",
    "df = drop_columns(df, columns)\n",
    "\n",
    "# drop rows with a lot of NA\n",
    "df.dropna(how='all', subset=['Material de las patas','Materiales','Construcción de la estructura',\n",
    "                             'Forma del producto','Material principal','Color principal',\n",
    "                             'Colores','Estilo principal','Estancias'], inplace=True)\n",
    "df.dropna(subset=['descripcion'], inplace=True)\n",
    "\n",
    "# lowercase\n",
    "df['descripcion'] = df['descripcion'].str.lower()\n",
    "df['descripcion'] = df.apply(lambda x: unidecode.unidecode(x[1]), axis=1)\n",
    "\n",
    "# add label\n",
    "df['id'] = df.apply(lambda x: get_furniture(x, ids), axis=1)\n",
    "\n",
    "# Año de publicacion\n",
    "df['Año de publicación'] = df['Año de publicación'].str.rstrip()\n",
    "\n",
    "df_output = df[df['id'] != 'otro']"
   ]
  },
  {
   "cell_type": "code",
   "execution_count": 8,
   "metadata": {},
   "outputs": [],
   "source": [
    "validation = pd.read_excel(r'../Validation/Validation dataset.xlsx')"
   ]
  },
  {
   "cell_type": "code",
   "execution_count": 9,
   "metadata": {},
   "outputs": [
    {
     "ename": "NameError",
     "evalue": "name 'df_output' is not defined",
     "output_type": "error",
     "traceback": [
      "\u001b[0;31m---------------------------------------------------------------------------\u001b[0m",
      "\u001b[0;31mNameError\u001b[0m                                 Traceback (most recent call last)",
      "\u001b[0;32m<ipython-input-9-78975a176ee9>\u001b[0m in \u001b[0;36m<module>\u001b[0;34m\u001b[0m\n\u001b[1;32m      1\u001b[0m \u001b[0mskus\u001b[0m \u001b[0;34m=\u001b[0m \u001b[0mset\u001b[0m\u001b[0;34m(\u001b[0m\u001b[0mlist\u001b[0m\u001b[0;34m(\u001b[0m\u001b[0mvalidation\u001b[0m\u001b[0;34m[\u001b[0m\u001b[0;34m'PRODUCTO1'\u001b[0m\u001b[0;34m]\u001b[0m\u001b[0;34m.\u001b[0m\u001b[0munique\u001b[0m\u001b[0;34m(\u001b[0m\u001b[0;34m)\u001b[0m\u001b[0;34m)\u001b[0m\u001b[0;34m+\u001b[0m\u001b[0mlist\u001b[0m\u001b[0;34m(\u001b[0m\u001b[0mvalidation\u001b[0m\u001b[0;34m[\u001b[0m\u001b[0;34m'PRODUCTO2'\u001b[0m\u001b[0;34m]\u001b[0m\u001b[0;34m.\u001b[0m\u001b[0munique\u001b[0m\u001b[0;34m(\u001b[0m\u001b[0;34m)\u001b[0m\u001b[0;34m)\u001b[0m\u001b[0;34m+\u001b[0m\u001b[0mlist\u001b[0m\u001b[0;34m(\u001b[0m\u001b[0mvalidation\u001b[0m\u001b[0;34m[\u001b[0m\u001b[0;34m'PRODUCTO3'\u001b[0m\u001b[0;34m]\u001b[0m\u001b[0;34m.\u001b[0m\u001b[0munique\u001b[0m\u001b[0;34m(\u001b[0m\u001b[0;34m)\u001b[0m\u001b[0;34m)\u001b[0m\u001b[0;34m)\u001b[0m\u001b[0;34m\u001b[0m\u001b[0;34m\u001b[0m\u001b[0m\n\u001b[1;32m      2\u001b[0m \u001b[0;34m\u001b[0m\u001b[0m\n\u001b[0;32m----> 3\u001b[0;31m \u001b[0mskus2\u001b[0m \u001b[0;34m=\u001b[0m \u001b[0mset\u001b[0m\u001b[0;34m(\u001b[0m\u001b[0mdf_output\u001b[0m\u001b[0;34m[\u001b[0m\u001b[0;34m'sku'\u001b[0m\u001b[0;34m]\u001b[0m\u001b[0;34m.\u001b[0m\u001b[0munique\u001b[0m\u001b[0;34m(\u001b[0m\u001b[0;34m)\u001b[0m\u001b[0;34m)\u001b[0m\u001b[0;34m\u001b[0m\u001b[0;34m\u001b[0m\u001b[0m\n\u001b[0m\u001b[1;32m      4\u001b[0m \u001b[0mdif\u001b[0m \u001b[0;34m=\u001b[0m \u001b[0mlist\u001b[0m\u001b[0;34m(\u001b[0m\u001b[0mskus\u001b[0m \u001b[0;34m-\u001b[0m \u001b[0mskus2\u001b[0m\u001b[0;34m)\u001b[0m\u001b[0;34m\u001b[0m\u001b[0;34m\u001b[0m\u001b[0m\n",
      "\u001b[0;31mNameError\u001b[0m: name 'df_output' is not defined"
     ]
    }
   ],
   "source": [
    "skus = set(list(validation['PRODUCTO1'].unique())+list(validation['PRODUCTO2'].unique())+list(validation['PRODUCTO3'].unique()))\n",
    "\n",
    "skus2 = set(df_output['sku'].unique())\n",
    "dif = list(skus - skus2)"
   ]
  },
  {
   "cell_type": "code",
   "execution_count": 19,
   "metadata": {},
   "outputs": [
    {
     "name": "stderr",
     "output_type": "stream",
     "text": [
      "C:\\Users\\Luis\\AppData\\Local\\Temp/ipykernel_2488/1914668619.py:16: FutureWarning: The frame.append method is deprecated and will be removed from pandas in a future version. Use pandas.concat instead.\n",
      "  df_output2 = df_output.append(df[df['sku'].isin(dif)], ignore_index=True).reset_index(drop=True)\n"
     ]
    }
   ],
   "source": [
    "df = pd.read_csv(\"descripcion_productos.csv\", encoding='utf-8', sep=\";\")\n",
    "df = drop_columns(df, columns)\n",
    "\n",
    "df.dropna(subset=['descripcion'], inplace=True)\n",
    "\n",
    "# lowercase\n",
    "df['descripcion'] = df['descripcion'].str.lower()\n",
    "df['descripcion'] = df.apply(lambda x: unidecode.unidecode(x[1]), axis=1)\n",
    "\n",
    "# add label\n",
    "df['id'] = df.apply(lambda x: get_furniture(x, ids), axis=1)\n",
    "\n",
    "# Año de publicacion\n",
    "df['Año de publicación'] = df['Año de publicación'].str.rstrip()\n",
    "\n",
    "df_output2 = df_output.append(df[df['sku'].isin(dif)], ignore_index=True).reset_index(drop=True)"
   ]
  },
  {
   "cell_type": "code",
   "execution_count": 20,
   "metadata": {},
   "outputs": [],
   "source": [
    "df_output2.loc[df_output2['id'] == 'otro', 'id'] = ['ESPEJO']*2 + ['CAJÓN']*2"
   ]
  },
  {
   "cell_type": "code",
   "execution_count": 11,
   "metadata": {},
   "outputs": [],
   "source": [
    "df_output2.to_json(\"kavehome_clean.json\", orient='records')"
   ]
  },
  {
   "cell_type": "code",
   "execution_count": 9,
   "metadata": {},
   "outputs": [],
   "source": [
    "muebles = ['sofás', 'sofá', 'mesa', 'mesas', 'silla', 'sillas', 'sillón', \n",
    "           'sillones', 'cama', 'camas', 'alfombra', 'alfombras', 'jarrón', \n",
    "           'jarrones', 'estantería', 'estanterías', 'librería', 'librerías', \n",
    "           'escritorio', 'escritorios', 'colchón', 'colchones', 'cómodas', \n",
    "           'cómoda', 'otomanas', 'otomana', 'mueble', 'muebles', 'biblioteca', \n",
    "           'bibliotecas', 'futón', 'futones', 'litera', 'literas', 'mesita', 'mesitas',\n",
    "           'mesón', 'mesones', 'taburete', 'taburetes', 'espejo', 'espejos', 'armario', 'armarios', \n",
    "           'banco', 'bancos', 'organizador', 'organizadores', 'perchero', 'percheros', 'tocador', 'tocadores',\n",
    "           'somier', 'somieres', 'lámpara', 'lámparas', 'butaca', 'butacas', 'cambiador', 'cambiadores', \n",
    "           'chaiselongue', 'chaiselongues', 'cojín', 'cojines', 'cuadro', 'cuadros', 'jarra', 'jarras',\n",
    "           'colgador', 'colgadores', 'asiento', 'asientos', 'reloj', 'relojes', 'toallero', 'toalleros', \n",
    "           'maceta', 'macetas', 'tumbona', 'tumbonas', 'papel', 'papeles', 'cesto', 'cestos', 'cesta', \n",
    "           'cestas', 'cuna', 'cunas', 'trona', 'tronas', 'biombo', 'biombos']"
   ]
  },
  {
   "cell_type": "code",
   "execution_count": 56,
   "metadata": {},
   "outputs": [],
   "source": [
    "df = df.reindex(columns=[\"sku\", \"descripcion\", \"Material de las patas\", \"Materiales\", \n",
    "                         \"Construcción de la estructura\", \"Material principal\", \n",
    "                         \"Color principal\", \"Estancias\", \"Colores\", \"Estilo principal\", \"id\", \"Forma del Producto\"])"
   ]
  }
 ],
 "metadata": {
  "kernelspec": {
   "display_name": "Python 3",
   "language": "python",
   "name": "python3"
  },
  "language_info": {
   "codemirror_mode": {
    "name": "ipython",
    "version": 3
   },
   "file_extension": ".py",
   "mimetype": "text/x-python",
   "name": "python",
   "nbconvert_exporter": "python",
   "pygments_lexer": "ipython3",
   "version": "3.7.3"
  }
 },
 "nbformat": 4,
 "nbformat_minor": 5
}

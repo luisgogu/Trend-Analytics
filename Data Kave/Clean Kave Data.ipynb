{
 "cells": [
  {
   "cell_type": "code",
   "execution_count": 1,
   "id": "8ae38cfe",
   "metadata": {},
   "outputs": [],
   "source": [
    "import pandas as pd\n",
    "import numpy as np\n",
    "import unidecode\n",
    "pd.set_option('display.max_rows', 400)\n",
    "pd.set_option('display.max_columns', None)\n",
    "import re"
   ]
  },
  {
   "cell_type": "code",
   "execution_count": 2,
   "id": "3a11da04",
   "metadata": {},
   "outputs": [],
   "source": [
    "def drop_columns(df, columns):\n",
    "    df.drop(columns,axis=1, inplace=True)\n",
    "    return df"
   ]
  },
  {
   "cell_type": "code",
   "execution_count": 3,
   "id": "5ef7b92d",
   "metadata": {},
   "outputs": [],
   "source": [
    "def get_furniture(row, furnitures):\n",
    "    for f in furnitures:\n",
    "        if f in row[1]:\n",
    "            return f\n",
    "    return 'otro'"
   ]
  },
  {
   "cell_type": "code",
   "execution_count": 4,
   "id": "4ad1de7e",
   "metadata": {},
   "outputs": [],
   "source": [
    "df = pd.read_csv(\"descripcion_productos.csv\", encoding='utf-8', sep=\";\")"
   ]
  },
  {
   "cell_type": "code",
   "execution_count": 5,
   "id": "0d7f1499",
   "metadata": {},
   "outputs": [],
   "source": [
    "# variables\n",
    "columns = list(df.columns)\n",
    "l = ['sku','descripcion','img_ambiente', 'img','Material de las patas',\n",
    "     'Materiales','Construcción de la estructura','Forma del producto',\n",
    "     'Material principal','Color principal','Año de publicación','Colores',\n",
    "     'Estilo principal','Estancias']\n",
    "\n",
    "# the order of the categories matter!!\n",
    "furnitures = ['abridor', 'alfombra', 'almohada', 'ambientador', 'aparado',\n",
    "       'aplique', 'armario', 'asiento', 'azucarero', 'bandeja', 'ban',\n",
    "       'base', 'biombo', 'bolsa', 'bol', 'bombilla', 'book',\n",
    "       'bote', 'botell', 'brazo', 'butaca', 'cabecero', 'caja',\n",
    "       'cajon', 'cama', 'cambiador', 'canape', 'candelabro', 'cest', 'chaise',\n",
    "       'cojin', 'colchoneta', 'colchon', 'colgador', 'consola', 'copa', \n",
    "       'corona', 'cortina', 'cuadro', 'cubo', 'delantal', 'escalera', \n",
    "       'escobilla', 'escritorio', 'espejo', 'estanteria', 'estante', 'estrella', \n",
    "       'figura', 'ganchos', 'guirnalda', 'hamaca', 'jabon', 'jarra', 'jarron', \n",
    "       'lampara', 'libreria', 'lienzo', 'llitera', 'macet', 'manta', \n",
    "       'mantel', 'marco', 'mecedora', 'mesa', 'mesita', 'modulo', 'mortero',\n",
    "       'mueble', 'neceser', 'panel', 'pantalla', 'papel', 'perchero', 'pizarra', \n",
    "       'planta', 'plato', 'portacepillo', 'protector', 'puf', 'reloj',\n",
    "       'reposacabezas', 'reposapies', 'revistero', 'rodillo', 'sabana',\n",
    "       'salero', 'set', 'silla', 'sillon', 'sofacama', 'sofa',\n",
    "       'somier', 'tabla', 'taburete', 'tapiceria', 'tapiz', 'taza',\n",
    "       'tetera', 'tipi', 'toall', 'tumbona', 'vaso', 'vela', 'ventosas',\n",
    "       'zapatero']\n",
    "\n",
    "file = open(\"links.txt\", \"r\", encoding='utf-8')\n",
    "url = file.read().split('\\n')\n",
    "file.close()\n",
    "    \n",
    "for i,f in enumerate(url):\n",
    "    url[i] = unidecode.unidecode(f.lower())\n",
    "url.remove('chaiselongue')\n",
    "url.remove('cesto')\n",
    "url.remove('puff')\n",
    "\n",
    "url = url + ['chaise', 'cest', 'puf']\n",
    "\n",
    "# ban -> banco, banqueta\n",
    "# macet -> macetas, macetero\n",
    "# cest -> cesta, cestas, cestos\n",
    "# toall -> toalla, toallas, toallero\n",
    "# jarr -> jarra, jarron"
   ]
  },
  {
   "cell_type": "code",
   "execution_count": 6,
   "id": "dc2488e7",
   "metadata": {},
   "outputs": [],
   "source": [
    "# get columns of interest\n",
    "for x in l:\n",
    "    columns.remove(x)\n",
    "df = drop_columns(df, columns)\n",
    "\n",
    "# drop rows with a lot of NA\n",
    "df.dropna(how='all', subset=['Material de las patas','Materiales','Construcción de la estructura',\n",
    "                             'Forma del producto','Material principal','Color principal',\n",
    "                             'Colores','Estilo principal','Estancias'], inplace=True)\n",
    "df.dropna(subset=['descripcion'], inplace=True)\n",
    "\n",
    "# lowercase\n",
    "df['descripcion'] = df['descripcion'].str.lower()\n",
    "df['descripcion'] = df.apply(lambda x: unidecode.unidecode(x[1]), axis=1)\n",
    "\n",
    "# add label\n",
    "df['id'] = df.apply(lambda x: get_furniture(x, furnitures), axis=1)"
   ]
  },
  {
   "cell_type": "code",
   "execution_count": 7,
   "id": "d27a74b6",
   "metadata": {},
   "outputs": [],
   "source": [
    "df_output = df[df['id'].isin(url)].reset_index(drop=True)"
   ]
  },
  {
   "cell_type": "code",
   "execution_count": 9,
   "id": "2a3e4ae6",
   "metadata": {},
   "outputs": [
    {
     "data": {
      "text/html": [
       "<div>\n",
       "<style scoped>\n",
       "    .dataframe tbody tr th:only-of-type {\n",
       "        vertical-align: middle;\n",
       "    }\n",
       "\n",
       "    .dataframe tbody tr th {\n",
       "        vertical-align: top;\n",
       "    }\n",
       "\n",
       "    .dataframe thead th {\n",
       "        text-align: right;\n",
       "    }\n",
       "</style>\n",
       "<table border=\"1\" class=\"dataframe\">\n",
       "  <thead>\n",
       "    <tr style=\"text-align: right;\">\n",
       "      <th></th>\n",
       "      <th>sku</th>\n",
       "      <th>descripcion</th>\n",
       "      <th>img_ambiente</th>\n",
       "      <th>img</th>\n",
       "      <th>Material de las patas</th>\n",
       "      <th>Materiales</th>\n",
       "      <th>Construcción de la estructura</th>\n",
       "      <th>Forma del producto</th>\n",
       "      <th>Material principal</th>\n",
       "      <th>Color principal</th>\n",
       "      <th>Año de publicación</th>\n",
       "      <th>Colores</th>\n",
       "      <th>Estilo principal</th>\n",
       "      <th>Estancias</th>\n",
       "      <th>id</th>\n",
       "    </tr>\n",
       "  </thead>\n",
       "  <tbody>\n",
       "    <tr>\n",
       "      <th>6205</th>\n",
       "      <td>AA8135</td>\n",
       "      <td>cuadro kamara algas marinas multicolor 50 x 70 cm</td>\n",
       "      <td>https://storage.googleapis.com/web-pro-nilo-ka...</td>\n",
       "      <td>http://intranet.juliagrup.com/GestionDocumenta...</td>\n",
       "      <td>NaN</td>\n",
       "      <td>Papel, MDF E0 (tablero de fibra de densidad me...</td>\n",
       "      <td>NaN</td>\n",
       "      <td>Rectangular</td>\n",
       "      <td>Madera manufacturada</td>\n",
       "      <td>Multicolor</td>\n",
       "      <td>23/02/21</td>\n",
       "      <td>Multicolor</td>\n",
       "      <td>Colonial</td>\n",
       "      <td>Salón, Comedor, Dormitorio, Recibidor, Cocina,...</td>\n",
       "      <td>cuadro</td>\n",
       "    </tr>\n",
       "  </tbody>\n",
       "</table>\n",
       "</div>"
      ],
      "text/plain": [
       "         sku                                        descripcion  \\\n",
       "6205  AA8135  cuadro kamara algas marinas multicolor 50 x 70 cm   \n",
       "\n",
       "                                           img_ambiente  \\\n",
       "6205  https://storage.googleapis.com/web-pro-nilo-ka...   \n",
       "\n",
       "                                                    img Material de las patas  \\\n",
       "6205  http://intranet.juliagrup.com/GestionDocumenta...                   NaN   \n",
       "\n",
       "                                             Materiales  \\\n",
       "6205  Papel, MDF E0 (tablero de fibra de densidad me...   \n",
       "\n",
       "     Construcción de la estructura Forma del producto    Material principal  \\\n",
       "6205                           NaN        Rectangular  Madera manufacturada   \n",
       "\n",
       "     Color principal Año de publicación     Colores Estilo principal  \\\n",
       "6205      Multicolor          23/02/21   Multicolor         Colonial   \n",
       "\n",
       "                                              Estancias      id  \n",
       "6205  Salón, Comedor, Dormitorio, Recibidor, Cocina,...  cuadro  "
      ]
     },
     "execution_count": 9,
     "metadata": {},
     "output_type": "execute_result"
    }
   ],
   "source": [
    "df[df['sku'] == 'AA8135']"
   ]
  },
  {
   "cell_type": "code",
   "execution_count": 13,
   "id": "0d32c16b",
   "metadata": {},
   "outputs": [
    {
     "data": {
      "text/html": [
       "<div>\n",
       "<style scoped>\n",
       "    .dataframe tbody tr th:only-of-type {\n",
       "        vertical-align: middle;\n",
       "    }\n",
       "\n",
       "    .dataframe tbody tr th {\n",
       "        vertical-align: top;\n",
       "    }\n",
       "\n",
       "    .dataframe thead th {\n",
       "        text-align: right;\n",
       "    }\n",
       "</style>\n",
       "<table border=\"1\" class=\"dataframe\">\n",
       "  <thead>\n",
       "    <tr style=\"text-align: right;\">\n",
       "      <th></th>\n",
       "      <th>sku</th>\n",
       "      <th>descripcion</th>\n",
       "      <th>img</th>\n",
       "    </tr>\n",
       "  </thead>\n",
       "  <tbody>\n",
       "  </tbody>\n",
       "</table>\n",
       "</div>"
      ],
      "text/plain": [
       "Empty DataFrame\n",
       "Columns: [sku, descripcion, img]\n",
       "Index: []"
      ]
     },
     "execution_count": 13,
     "metadata": {},
     "output_type": "execute_result"
    }
   ],
   "source": [
    "df_output[(df_output['id'] == 'silla') & (df_output['descripcion'])][['sku','descripcion','img']]"
   ]
  },
  {
   "cell_type": "code",
   "execution_count": 205,
   "id": "8dc8e859",
   "metadata": {},
   "outputs": [],
   "source": [
    "df_output.to_json(\"kavehome_clean.json\", orient='records')"
   ]
  }
 ],
 "metadata": {
  "kernelspec": {
   "display_name": "Python 3 (ipykernel)",
   "language": "python",
   "name": "python3"
  },
  "language_info": {
   "codemirror_mode": {
    "name": "ipython",
    "version": 3
   },
   "file_extension": ".py",
   "mimetype": "text/x-python",
   "name": "python",
   "nbconvert_exporter": "python",
   "pygments_lexer": "ipython3",
   "version": "3.8.3"
  }
 },
 "nbformat": 4,
 "nbformat_minor": 5
}

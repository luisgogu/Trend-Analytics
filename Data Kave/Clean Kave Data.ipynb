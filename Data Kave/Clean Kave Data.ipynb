{
 "cells": [
  {
   "cell_type": "code",
   "execution_count": 17,
   "id": "534158ee",
   "metadata": {},
   "outputs": [],
   "source": [
    "import pandas as pd\n",
    "import numpy as np\n",
    "pd.set_option('display.max_rows', 400)\n",
    "pd.set_option('display.max_columns', None)"
   ]
  },
  {
   "cell_type": "code",
   "execution_count": 59,
   "id": "37fc6f32",
   "metadata": {},
   "outputs": [],
   "source": [
    "def drop_columns(df, columns):\n",
    "    df.drop(columns,axis=1, inplace=True)\n",
    "    return df"
   ]
  },
  {
   "cell_type": "code",
   "execution_count": 96,
   "id": "8ee06b8e",
   "metadata": {},
   "outputs": [],
   "source": [
    "def get_furniture(row):\n",
    "    file = open(\"links.txt\", \"r\", encoding='utf-8')\n",
    "    furnitures = file.read().split('\\n')\n",
    "    file.close()\n",
    "    \n",
    "    for f in furnitures:\n",
    "        if f.lower() in row[1]:\n",
    "            return f.lower()\n",
    "    return 'otro'\n",
    "    \n",
    "    "
   ]
  },
  {
   "cell_type": "code",
   "execution_count": 91,
   "id": "84619d40",
   "metadata": {},
   "outputs": [],
   "source": [
    "# variables\n",
    "columns = list(df.columns)\n",
    "l = ['sku','descripcion','img_ambiente', 'img','Material de las patas',\n",
    "     'Materiales','Construcción de la estructura','Forma del producto',\n",
    "     'Material principal','Color principal','Año de publicación','Colores',\n",
    "     'Estilo principal','Estancias']\n"
   ]
  },
  {
   "cell_type": "code",
   "execution_count": 90,
   "id": "5444d69a",
   "metadata": {},
   "outputs": [],
   "source": [
    "df = pd.read_csv(\"descripcion_productos.csv\", encoding='utf-8', sep=\";\")\n",
    "\n",
    "for x in l:\n",
    "    columns.remove(x)\n",
    "df = drop_columns(df, columns)"
   ]
  },
  {
   "cell_type": "code",
   "execution_count": 92,
   "id": "f48e46ae",
   "metadata": {},
   "outputs": [],
   "source": [
    "df.dropna(how='all', subset=['Material de las patas','Materiales','Construcción de la estructura',\n",
    "                             'Forma del producto','Material principal','Color principal',\n",
    "                             'Colores','Estilo principal','Estancias'], inplace=True)\n",
    "df.dropna(subset=['descripcion'], inplace=True)"
   ]
  },
  {
   "cell_type": "code",
   "execution_count": 93,
   "id": "6e77a7f8",
   "metadata": {},
   "outputs": [],
   "source": [
    "df['descripcion'].str.lower()\n",
    "df['Mueble'] = df.apply(lambda x: get_furniture(x), axis=1)"
   ]
  },
  {
   "cell_type": "code",
   "execution_count": 97,
   "id": "956fa535",
   "metadata": {},
   "outputs": [
    {
     "data": {
      "text/plain": [
       "array(['somier', 'zapatero', 'lámpara', 'mesa', 'mueble', 'estante',\n",
       "       'Otro', 'espejo', 'cuadro', 'cojín', 'alfombra', 'jarrón', 'cajón',\n",
       "       'reloj', 'perchero', 'caja', 'bandeja', 'cesto', 'marco',\n",
       "       'colgador', 'jarra', 'papel', 'almohada', 'cama', 'cambiador',\n",
       "       'bolsa', 'butaca', 'protector', 'silla', 'taburete', 'escritorio',\n",
       "       'sillón', 'sofá', 'armario', 'asiento', 'colchón', 'canapé',\n",
       "       'cortina', 'escalera', 'colchoneta'], dtype=object)"
      ]
     },
     "execution_count": 97,
     "metadata": {},
     "output_type": "execute_result"
    }
   ],
   "source": [
    "df['Mueble'].unique()"
   ]
  }
 ],
 "metadata": {
  "kernelspec": {
   "display_name": "Python 3 (ipykernel)",
   "language": "python",
   "name": "python3"
  },
  "language_info": {
   "codemirror_mode": {
    "name": "ipython",
    "version": 3
   },
   "file_extension": ".py",
   "mimetype": "text/x-python",
   "name": "python",
   "nbconvert_exporter": "python",
   "pygments_lexer": "ipython3",
   "version": "3.8.3"
  }
 },
 "nbformat": 4,
 "nbformat_minor": 5
}

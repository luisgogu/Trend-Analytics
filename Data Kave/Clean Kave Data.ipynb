{
 "cells": [
  {
   "cell_type": "code",
   "execution_count": 184,
   "id": "8ae38cfe",
   "metadata": {},
   "outputs": [],
   "source": [
    "import pandas as pd\n",
    "import numpy as np\n",
    "import unidecode\n",
    "pd.set_option('display.max_rows', 400)\n",
    "pd.set_option('display.max_columns', None)\n",
    "import re"
   ]
  },
  {
   "cell_type": "code",
   "execution_count": 185,
   "id": "3a11da04",
   "metadata": {},
   "outputs": [],
   "source": [
    "def drop_columns(df, columns):\n",
    "    df.drop(columns,axis=1, inplace=True)\n",
    "    return df"
   ]
  },
  {
   "cell_type": "code",
   "execution_count": 186,
   "id": "5ef7b92d",
   "metadata": {},
   "outputs": [],
   "source": [
    "def get_furniture(row, furnitures):\n",
    "#     file = open(\"links.txt\", \"r\", encoding='utf-8')\n",
    "#     furnitures = file.read().split('\\n')\n",
    "#     file.close()\n",
    "    \n",
    "#     for i,f in enumerate(furnitures):\n",
    "#         furnitures[i] = unidecode.unidecode(f.lower())\n",
    "    \n",
    "    for f in furnitures:\n",
    "        if f in row[1]:\n",
    "            return f\n",
    "    return 'otro'\n",
    "    \n",
    "    "
   ]
  },
  {
   "cell_type": "code",
   "execution_count": 187,
   "id": "4ad1de7e",
   "metadata": {},
   "outputs": [],
   "source": [
    "df = pd.read_csv(\"descripcion_productos.csv\", encoding='utf-8', sep=\";\")"
   ]
  },
  {
   "cell_type": "code",
   "execution_count": 192,
   "id": "0d7f1499",
   "metadata": {},
   "outputs": [],
   "source": [
    "# variables\n",
    "columns = list(df.columns)\n",
    "l = ['sku','descripcion','img_ambiente', 'img','Material de las patas',\n",
    "     'Materiales','Construcción de la estructura','Forma del producto',\n",
    "     'Material principal','Color principal','Año de publicación','Colores',\n",
    "     'Estilo principal','Estancias']\n",
    "\n",
    "# the order of the categories matter!!\n",
    "furnitures = ['abridor', 'alfombra', 'almohada', 'ambientador', 'aparado',\n",
    "       'aplique', 'armario', 'asiento', 'azucarero', 'bandeja', 'ban',\n",
    "       'base', 'biombo', 'bolsa', 'bol', 'bombilla', 'book',\n",
    "       'bote', 'botell', 'brazo', 'butaca', 'cabecero', 'caja',\n",
    "       'cajon', 'cama', 'cambiador', 'canape', 'candelabro', 'cest', 'chaise',\n",
    "       'cojin', 'colchoneta', 'colchon', 'colgador', 'consola', 'copa', \n",
    "       'corona', 'cortina', 'cuadro', 'cubo', 'delantal', 'escalera', \n",
    "       'escobilla', 'escritorio', 'espejo', 'estanteria', 'estante', 'estrella', \n",
    "       'figura', 'ganchos', 'guirnalda', 'hamaca', 'jabon', 'jarra', 'jarron', \n",
    "       'lampara', 'libreria', 'lienzo', 'llitera', 'macet', 'manta', \n",
    "       'mantel', 'marco', 'mecedora', 'mesa', 'mesita', 'modulo', 'mortero',\n",
    "       'mueble', 'neceser', 'panel', 'pantalla', 'papel', 'perchero', 'pizarra', \n",
    "       'planta', 'plato', 'portacepillo', 'protector', 'puf', 'reloj',\n",
    "       'reposacabezas', 'reposapies', 'revistero', 'rodillo', 'sabana',\n",
    "       'salero', 'set', 'silla', 'sillon', 'sofacama', 'sofa',\n",
    "       'somier', 'tabla', 'taburete', 'tapiceria', 'tapiz', 'taza',\n",
    "       'tetera', 'tipi', 'toall', 'tumbona', 'vaso', 'vela', 'ventosas',\n",
    "       'zapatero']\n",
    "\n",
    "file = open(\"links.txt\", \"r\", encoding='utf-8')\n",
    "url = file.read().split('\\n')\n",
    "file.close()\n",
    "    \n",
    "for i,f in enumerate(url):\n",
    "    url[i] = unidecode.unidecode(f.lower())\n",
    "url.remove('chaiselongue')\n",
    "url.remove('cesto')\n",
    "url.remove('puff')\n",
    "\n",
    "url = url + ['chaise', 'cest', 'puf']\n",
    "\n",
    "# ban -> banco, banqueta\n",
    "# macet -> macetas, macetero\n",
    "# cest -> cesta, cestas, cestos\n",
    "# toall -> toalla, toallas, toallero\n",
    "# jarr -> jarra, jarron"
   ]
  },
  {
   "cell_type": "code",
   "execution_count": 193,
   "id": "dc2488e7",
   "metadata": {},
   "outputs": [],
   "source": [
    "# get columns of interest\n",
    "for x in l:\n",
    "    columns.remove(x)\n",
    "df = drop_columns(df, columns)\n",
    "\n",
    "# drop rows with a lot of NA\n",
    "df.dropna(how='all', subset=['Material de las patas','Materiales','Construcción de la estructura',\n",
    "                             'Forma del producto','Material principal','Color principal',\n",
    "                             'Colores','Estilo principal','Estancias'], inplace=True)\n",
    "df.dropna(subset=['descripcion'], inplace=True)\n",
    "\n",
    "# lowercase\n",
    "df['descripcion'] = df['descripcion'].str.lower()\n",
    "df['descripcion'] = df.apply(lambda x: unidecode.unidecode(x[1]), axis=1)\n",
    "\n",
    "# add label\n",
    "df['id'] = df.apply(lambda x: get_furniture(x, furnitures), axis=1)"
   ]
  },
  {
   "cell_type": "code",
   "execution_count": 196,
   "id": "69a146c0",
   "metadata": {},
   "outputs": [],
   "source": [
    "df_output = df[df['id'].isin(url)].reset_index(drop=True)"
   ]
  },
  {
   "cell_type": "code",
   "execution_count": 205,
   "id": "4772323a",
   "metadata": {},
   "outputs": [],
   "source": [
    "df_output.to_json(\"kavehome_clean.json\", orient='records')"
   ]
  }
 ],
 "metadata": {
  "kernelspec": {
   "display_name": "Python 3 (ipykernel)",
   "language": "python",
   "name": "python3"
  },
  "language_info": {
   "codemirror_mode": {
    "name": "ipython",
    "version": 3
   },
   "file_extension": ".py",
   "mimetype": "text/x-python",
   "name": "python",
   "nbconvert_exporter": "python",
   "pygments_lexer": "ipython3",
   "version": "3.8.3"
  }
 },
 "nbformat": 4,
 "nbformat_minor": 5
}

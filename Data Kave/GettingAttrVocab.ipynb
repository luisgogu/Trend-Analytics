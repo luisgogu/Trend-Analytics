{
 "cells": [
  {
   "cell_type": "code",
   "execution_count": 1,
   "id": "fcfa53c2",
   "metadata": {},
   "outputs": [],
   "source": [
    "import json"
   ]
  },
  {
   "cell_type": "code",
   "execution_count": 2,
   "id": "47868ed0",
   "metadata": {},
   "outputs": [],
   "source": [
    "import json\n",
    "\n",
    "with open('kavehome_clean.json', 'r') as f:\n",
    "    data = json.load(f)"
   ]
  },
  {
   "cell_type": "code",
   "execution_count": 4,
   "id": "9713beb1",
   "metadata": {},
   "outputs": [
    {
     "data": {
      "text/plain": [
       "dict_keys(['sku', 'descripcion', 'img_ambiente', 'img', 'Material de las patas', 'Materiales', 'Construcción de la estructura', 'Forma del producto', 'Material principal', 'Color principal', 'Año de publicación', 'Colores', 'Estilo principal', 'Estancias', 'id'])"
      ]
     },
     "execution_count": 4,
     "metadata": {},
     "output_type": "execute_result"
    }
   ],
   "source": [
    "data[0].keys()"
   ]
  },
  {
   "cell_type": "code",
   "execution_count": 5,
   "id": "9e345bf4",
   "metadata": {},
   "outputs": [],
   "source": [
    "import pandas as pd"
   ]
  },
  {
   "cell_type": "code",
   "execution_count": 6,
   "id": "ddb267f3",
   "metadata": {},
   "outputs": [],
   "source": [
    "df = pd.DataFrame(data)"
   ]
  },
  {
   "cell_type": "code",
   "execution_count": 8,
   "id": "7c6aa077",
   "metadata": {},
   "outputs": [
    {
     "data": {
      "text/html": [
       "<div>\n",
       "<style scoped>\n",
       "    .dataframe tbody tr th:only-of-type {\n",
       "        vertical-align: middle;\n",
       "    }\n",
       "\n",
       "    .dataframe tbody tr th {\n",
       "        vertical-align: top;\n",
       "    }\n",
       "\n",
       "    .dataframe thead th {\n",
       "        text-align: right;\n",
       "    }\n",
       "</style>\n",
       "<table border=\"1\" class=\"dataframe\">\n",
       "  <thead>\n",
       "    <tr style=\"text-align: right;\">\n",
       "      <th></th>\n",
       "      <th>sku</th>\n",
       "      <th>descripcion</th>\n",
       "      <th>img_ambiente</th>\n",
       "      <th>img</th>\n",
       "      <th>Material de las patas</th>\n",
       "      <th>Materiales</th>\n",
       "      <th>Construcción de la estructura</th>\n",
       "      <th>Forma del producto</th>\n",
       "      <th>Material principal</th>\n",
       "      <th>Color principal</th>\n",
       "      <th>Año de publicación</th>\n",
       "      <th>Colores</th>\n",
       "      <th>Estilo principal</th>\n",
       "      <th>Estancias</th>\n",
       "      <th>id</th>\n",
       "    </tr>\n",
       "  </thead>\n",
       "  <tbody>\n",
       "    <tr>\n",
       "      <th>0</th>\n",
       "      <td>2027135190</td>\n",
       "      <td>somier talo 135 x 190 cm</td>\n",
       "      <td>None</td>\n",
       "      <td>http://intranet.juliagrup.com/GestionDocumenta...</td>\n",
       "      <td>None</td>\n",
       "      <td>None</td>\n",
       "      <td>None</td>\n",
       "      <td>Rectangular</td>\n",
       "      <td>Metal</td>\n",
       "      <td>Gris</td>\n",
       "      <td>01/08/18</td>\n",
       "      <td>Gris</td>\n",
       "      <td>Moderno</td>\n",
       "      <td>Dormitorio</td>\n",
       "      <td>somier</td>\n",
       "    </tr>\n",
       "    <tr>\n",
       "      <th>1</th>\n",
       "      <td>2027150190</td>\n",
       "      <td>somier talo 150 x 190 cm</td>\n",
       "      <td>None</td>\n",
       "      <td>http://intranet.juliagrup.com/GestionDocumenta...</td>\n",
       "      <td>None</td>\n",
       "      <td>None</td>\n",
       "      <td>None</td>\n",
       "      <td>Rectangular</td>\n",
       "      <td>Metal</td>\n",
       "      <td>Gris</td>\n",
       "      <td>01/08/18</td>\n",
       "      <td>Gris</td>\n",
       "      <td>Moderno</td>\n",
       "      <td>Dormitorio</td>\n",
       "      <td>somier</td>\n",
       "    </tr>\n",
       "    <tr>\n",
       "      <th>2</th>\n",
       "      <td>770106BLA</td>\n",
       "      <td>ode zapatero 3 puertas metal blanco</td>\n",
       "      <td>https://storage.googleapis.com/web-pro-nilo-ka...</td>\n",
       "      <td>http://intranet.juliagrup.com/GestionDocumenta...</td>\n",
       "      <td>None</td>\n",
       "      <td>Acero</td>\n",
       "      <td>None</td>\n",
       "      <td>Rectangular</td>\n",
       "      <td>Metal</td>\n",
       "      <td>Blanco</td>\n",
       "      <td>01/01/13</td>\n",
       "      <td>Blanco</td>\n",
       "      <td>Moderno</td>\n",
       "      <td>Salón, Dormitorio, Recibidor</td>\n",
       "      <td>zapatero</td>\n",
       "    </tr>\n",
       "    <tr>\n",
       "      <th>3</th>\n",
       "      <td>770306BLA</td>\n",
       "      <td>ode zapatero 5 puertas metal blanco</td>\n",
       "      <td>https://storage.googleapis.com/web-pro-nilo-ka...</td>\n",
       "      <td>http://intranet.juliagrup.com/GestionDocumenta...</td>\n",
       "      <td>None</td>\n",
       "      <td>Acero</td>\n",
       "      <td>None</td>\n",
       "      <td>Rectangular</td>\n",
       "      <td>Metal</td>\n",
       "      <td>Blanco</td>\n",
       "      <td>01/01/13</td>\n",
       "      <td>Blanco</td>\n",
       "      <td>Moderno</td>\n",
       "      <td>Salón, Dormitorio, Recibidor</td>\n",
       "      <td>zapatero</td>\n",
       "    </tr>\n",
       "    <tr>\n",
       "      <th>4</th>\n",
       "      <td>807809ADUK</td>\n",
       "      <td>asai lampara sobremesa cromada brillo adaptado...</td>\n",
       "      <td>None</td>\n",
       "      <td>http://intranet.juliagrup.com/GestionDocumenta...</td>\n",
       "      <td>None</td>\n",
       "      <td>Acero, Plástico</td>\n",
       "      <td>None</td>\n",
       "      <td>Cónico</td>\n",
       "      <td>Metal</td>\n",
       "      <td>Plateado</td>\n",
       "      <td>26/08/17</td>\n",
       "      <td>Plateado</td>\n",
       "      <td>Moderno</td>\n",
       "      <td>Salón, Dormitorio, Recibidor, Espacio de trabajo</td>\n",
       "      <td>lampara</td>\n",
       "    </tr>\n",
       "  </tbody>\n",
       "</table>\n",
       "</div>"
      ],
      "text/plain": [
       "          sku                                        descripcion  \\\n",
       "0  2027135190                           somier talo 135 x 190 cm   \n",
       "1  2027150190                           somier talo 150 x 190 cm   \n",
       "2   770106BLA               ode zapatero 3 puertas metal blanco    \n",
       "3   770306BLA               ode zapatero 5 puertas metal blanco    \n",
       "4  807809ADUK  asai lampara sobremesa cromada brillo adaptado...   \n",
       "\n",
       "                                        img_ambiente  \\\n",
       "0                                               None   \n",
       "1                                               None   \n",
       "2  https://storage.googleapis.com/web-pro-nilo-ka...   \n",
       "3  https://storage.googleapis.com/web-pro-nilo-ka...   \n",
       "4                                               None   \n",
       "\n",
       "                                                 img Material de las patas  \\\n",
       "0  http://intranet.juliagrup.com/GestionDocumenta...                  None   \n",
       "1  http://intranet.juliagrup.com/GestionDocumenta...                  None   \n",
       "2  http://intranet.juliagrup.com/GestionDocumenta...                  None   \n",
       "3  http://intranet.juliagrup.com/GestionDocumenta...                  None   \n",
       "4  http://intranet.juliagrup.com/GestionDocumenta...                  None   \n",
       "\n",
       "        Materiales Construcción de la estructura Forma del producto  \\\n",
       "0             None                          None        Rectangular   \n",
       "1             None                          None        Rectangular   \n",
       "2            Acero                          None        Rectangular   \n",
       "3            Acero                          None        Rectangular   \n",
       "4  Acero, Plástico                          None             Cónico   \n",
       "\n",
       "  Material principal Color principal Año de publicación   Colores  \\\n",
       "0              Metal            Gris          01/08/18       Gris   \n",
       "1              Metal            Gris          01/08/18       Gris   \n",
       "2              Metal          Blanco          01/01/13     Blanco   \n",
       "3              Metal          Blanco          01/01/13     Blanco   \n",
       "4              Metal        Plateado          26/08/17   Plateado   \n",
       "\n",
       "  Estilo principal                                         Estancias        id  \n",
       "0          Moderno                                        Dormitorio    somier  \n",
       "1          Moderno                                        Dormitorio    somier  \n",
       "2          Moderno                      Salón, Dormitorio, Recibidor  zapatero  \n",
       "3          Moderno                      Salón, Dormitorio, Recibidor  zapatero  \n",
       "4          Moderno  Salón, Dormitorio, Recibidor, Espacio de trabajo   lampara  "
      ]
     },
     "execution_count": 8,
     "metadata": {},
     "output_type": "execute_result"
    }
   ],
   "source": [
    "df.head(5)"
   ]
  },
  {
   "cell_type": "code",
   "execution_count": 32,
   "id": "2ed4e1e7",
   "metadata": {},
   "outputs": [
    {
     "name": "stdout",
     "output_type": "stream",
     "text": [
      "172\n",
      "125\n",
      "259\n",
      "253\n",
      "239\n",
      "2138\n",
      "225\n",
      "337\n"
     ]
    }
   ],
   "source": [
    "print(df.Materiales.isna().sum())\n",
    "print(df[\"Material principal\"].isna().sum())\n",
    "\n",
    "print(df[\"Colores\"].isna().sum())\n",
    "print(df[\"Color principal\"].isna().sum())\n",
    "\n",
    "print(df[\"Forma del producto\"].isna().sum())\n",
    "\n",
    "print(df[\"Construcción de la estructura\"].isna().sum())\n",
    "\n",
    "print(df[\"Estilo principal\"].isna().sum())\n",
    "\n",
    "print(df[\"Estancias\"].isna().sum())\n",
    "\n"
   ]
  },
  {
   "cell_type": "code",
   "execution_count": 72,
   "id": "93d18064",
   "metadata": {},
   "outputs": [
    {
     "data": {
      "text/plain": [
       "array(['Gris', 'Blanco', 'Plateado', 'Natural', None, 'Negro', 'Azul',\n",
       "       'Beige', 'Rosa', 'Mostaza', 'Rojo', 'Verde', 'Transparente',\n",
       "       'Marrón', 'Dorado', 'Lila', 'Multicolor', 'Cobre', 'Naranja',\n",
       "       'Amarillo', 'Turquesa'], dtype=object)"
      ]
     },
     "execution_count": 72,
     "metadata": {},
     "output_type": "execute_result"
    }
   ],
   "source": [
    "df[\"Color principal\"].unique()"
   ]
  },
  {
   "cell_type": "code",
   "execution_count": 28,
   "id": "0817f891",
   "metadata": {},
   "outputs": [
    {
     "data": {
      "text/plain": [
       "2952"
      ]
     },
     "execution_count": 28,
     "metadata": {},
     "output_type": "execute_result"
    }
   ],
   "source": [
    "len(df)"
   ]
  },
  {
   "cell_type": "code",
   "execution_count": 40,
   "id": "44f51182",
   "metadata": {},
   "outputs": [],
   "source": [
    "import os\n",
    "import gensim\n",
    "# import module we'll need to import our custom module\n",
    "from shutil import copyfile\n",
    "\n"
   ]
  },
  {
   "cell_type": "code",
   "execution_count": 36,
   "id": "202d55d9",
   "metadata": {},
   "outputs": [],
   "source": [
    "c = 0\n",
    "for i in range(len(df)):\n",
    "    if df.iloc[i][\"Materiales\"] is None:\n",
    "        c += 1"
   ]
  },
  {
   "cell_type": "code",
   "execution_count": 37,
   "id": "e9edb9ba",
   "metadata": {},
   "outputs": [
    {
     "data": {
      "text/plain": [
       "172"
      ]
     },
     "execution_count": 37,
     "metadata": {},
     "output_type": "execute_result"
    }
   ],
   "source": [
    "c"
   ]
  },
  {
   "cell_type": "code",
   "execution_count": 42,
   "id": "6d6f5cd1",
   "metadata": {},
   "outputs": [
    {
     "ename": "FileNotFoundError",
     "evalue": "[Errno 2] No such file or directory: '/kaggle/input/fasttext-aligned-word-vectors/wiki.en.align.vec'",
     "output_type": "error",
     "traceback": [
      "\u001b[0;31m---------------------------------------------------------------------------\u001b[0m",
      "\u001b[0;31mFileNotFoundError\u001b[0m                         Traceback (most recent call last)",
      "\u001b[0;32m<ipython-input-42-dbcc9f4b5cf2>\u001b[0m in \u001b[0;36m<module>\u001b[0;34m\u001b[0m\n\u001b[0;32m----> 1\u001b[0;31m \u001b[0mmodel\u001b[0m \u001b[0;34m=\u001b[0m \u001b[0mget_models\u001b[0m\u001b[0;34m(\u001b[0m\u001b[0;34m)\u001b[0m\u001b[0;34m\u001b[0m\u001b[0;34m\u001b[0m\u001b[0m\n\u001b[0m",
      "\u001b[0;32m<ipython-input-41-45da135d464e>\u001b[0m in \u001b[0;36mget_models\u001b[0;34m()\u001b[0m\n\u001b[1;32m      3\u001b[0m     \u001b[0mmodel\u001b[0m \u001b[0;34m=\u001b[0m \u001b[0;34m{\u001b[0m\u001b[0;34m}\u001b[0m\u001b[0;34m\u001b[0m\u001b[0;34m\u001b[0m\u001b[0m\n\u001b[1;32m      4\u001b[0m     \u001b[0;32mfor\u001b[0m \u001b[0mab\u001b[0m \u001b[0;32min\u001b[0m \u001b[0mmodel_ab\u001b[0m\u001b[0;34m:\u001b[0m\u001b[0;34m\u001b[0m\u001b[0;34m\u001b[0m\u001b[0m\n\u001b[0;32m----> 5\u001b[0;31m         \u001b[0mmodel\u001b[0m\u001b[0;34m[\u001b[0m\u001b[0mab\u001b[0m\u001b[0;34m]\u001b[0m \u001b[0;34m=\u001b[0m \u001b[0mgensim\u001b[0m\u001b[0;34m.\u001b[0m\u001b[0mmodels\u001b[0m\u001b[0;34m.\u001b[0m\u001b[0mKeyedVectors\u001b[0m\u001b[0;34m.\u001b[0m\u001b[0mload_word2vec_format\u001b[0m\u001b[0;34m(\u001b[0m\u001b[0;34m'/kaggle/input/fasttext-aligned-word-vectors/wiki.{}.align.vec'\u001b[0m\u001b[0;34m.\u001b[0m\u001b[0mformat\u001b[0m\u001b[0;34m(\u001b[0m\u001b[0mab\u001b[0m\u001b[0;34m)\u001b[0m\u001b[0;34m)\u001b[0m\u001b[0;34m\u001b[0m\u001b[0;34m\u001b[0m\u001b[0m\n\u001b[0m\u001b[1;32m      6\u001b[0m     \u001b[0;32mreturn\u001b[0m \u001b[0mmodel\u001b[0m\u001b[0;34m\u001b[0m\u001b[0;34m\u001b[0m\u001b[0m\n",
      "\u001b[0;32m~/.local/lib/python3.6/site-packages/gensim/models/keyedvectors.py\u001b[0m in \u001b[0;36mload_word2vec_format\u001b[0;34m(cls, fname, fvocab, binary, encoding, unicode_errors, limit, datatype, no_header)\u001b[0m\n\u001b[1;32m   1629\u001b[0m         return _load_word2vec_format(\n\u001b[1;32m   1630\u001b[0m             \u001b[0mcls\u001b[0m\u001b[0;34m,\u001b[0m \u001b[0mfname\u001b[0m\u001b[0;34m,\u001b[0m \u001b[0mfvocab\u001b[0m\u001b[0;34m=\u001b[0m\u001b[0mfvocab\u001b[0m\u001b[0;34m,\u001b[0m \u001b[0mbinary\u001b[0m\u001b[0;34m=\u001b[0m\u001b[0mbinary\u001b[0m\u001b[0;34m,\u001b[0m \u001b[0mencoding\u001b[0m\u001b[0;34m=\u001b[0m\u001b[0mencoding\u001b[0m\u001b[0;34m,\u001b[0m \u001b[0municode_errors\u001b[0m\u001b[0;34m=\u001b[0m\u001b[0municode_errors\u001b[0m\u001b[0;34m,\u001b[0m\u001b[0;34m\u001b[0m\u001b[0;34m\u001b[0m\u001b[0m\n\u001b[0;32m-> 1631\u001b[0;31m             \u001b[0mlimit\u001b[0m\u001b[0;34m=\u001b[0m\u001b[0mlimit\u001b[0m\u001b[0;34m,\u001b[0m \u001b[0mdatatype\u001b[0m\u001b[0;34m=\u001b[0m\u001b[0mdatatype\u001b[0m\u001b[0;34m,\u001b[0m \u001b[0mno_header\u001b[0m\u001b[0;34m=\u001b[0m\u001b[0mno_header\u001b[0m\u001b[0;34m,\u001b[0m\u001b[0;34m\u001b[0m\u001b[0;34m\u001b[0m\u001b[0m\n\u001b[0m\u001b[1;32m   1632\u001b[0m         )\n\u001b[1;32m   1633\u001b[0m \u001b[0;34m\u001b[0m\u001b[0m\n",
      "\u001b[0;32m~/.local/lib/python3.6/site-packages/gensim/models/keyedvectors.py\u001b[0m in \u001b[0;36m_load_word2vec_format\u001b[0;34m(cls, fname, fvocab, binary, encoding, unicode_errors, limit, datatype, no_header, binary_chunk_size)\u001b[0m\n\u001b[1;32m   1953\u001b[0m \u001b[0;34m\u001b[0m\u001b[0m\n\u001b[1;32m   1954\u001b[0m     \u001b[0mlogger\u001b[0m\u001b[0;34m.\u001b[0m\u001b[0minfo\u001b[0m\u001b[0;34m(\u001b[0m\u001b[0;34m\"loading projection weights from %s\"\u001b[0m\u001b[0;34m,\u001b[0m \u001b[0mfname\u001b[0m\u001b[0;34m)\u001b[0m\u001b[0;34m\u001b[0m\u001b[0;34m\u001b[0m\u001b[0m\n\u001b[0;32m-> 1955\u001b[0;31m     \u001b[0;32mwith\u001b[0m \u001b[0mutils\u001b[0m\u001b[0;34m.\u001b[0m\u001b[0mopen\u001b[0m\u001b[0;34m(\u001b[0m\u001b[0mfname\u001b[0m\u001b[0;34m,\u001b[0m \u001b[0;34m'rb'\u001b[0m\u001b[0;34m)\u001b[0m \u001b[0;32mas\u001b[0m \u001b[0mfin\u001b[0m\u001b[0;34m:\u001b[0m\u001b[0;34m\u001b[0m\u001b[0;34m\u001b[0m\u001b[0m\n\u001b[0m\u001b[1;32m   1956\u001b[0m         \u001b[0;32mif\u001b[0m \u001b[0mno_header\u001b[0m\u001b[0;34m:\u001b[0m\u001b[0;34m\u001b[0m\u001b[0;34m\u001b[0m\u001b[0m\n\u001b[1;32m   1957\u001b[0m             \u001b[0;31m# deduce both vocab_size & vector_size from 1st pass over file\u001b[0m\u001b[0;34m\u001b[0m\u001b[0;34m\u001b[0m\u001b[0;34m\u001b[0m\u001b[0m\n",
      "\u001b[0;32m~/.local/lib/python3.6/site-packages/smart_open/smart_open_lib.py\u001b[0m in \u001b[0;36mopen\u001b[0;34m(uri, mode, buffering, encoding, errors, newline, closefd, opener, ignore_ext, compression, transport_params)\u001b[0m\n\u001b[1;32m    193\u001b[0m         \u001b[0mencoding\u001b[0m\u001b[0;34m=\u001b[0m\u001b[0mencoding\u001b[0m\u001b[0;34m,\u001b[0m\u001b[0;34m\u001b[0m\u001b[0;34m\u001b[0m\u001b[0m\n\u001b[1;32m    194\u001b[0m         \u001b[0merrors\u001b[0m\u001b[0;34m=\u001b[0m\u001b[0merrors\u001b[0m\u001b[0;34m,\u001b[0m\u001b[0;34m\u001b[0m\u001b[0;34m\u001b[0m\u001b[0m\n\u001b[0;32m--> 195\u001b[0;31m         \u001b[0mnewline\u001b[0m\u001b[0;34m=\u001b[0m\u001b[0mnewline\u001b[0m\u001b[0;34m,\u001b[0m\u001b[0;34m\u001b[0m\u001b[0;34m\u001b[0m\u001b[0m\n\u001b[0m\u001b[1;32m    196\u001b[0m     )\n\u001b[1;32m    197\u001b[0m     \u001b[0;32mif\u001b[0m \u001b[0mfobj\u001b[0m \u001b[0;32mis\u001b[0m \u001b[0;32mnot\u001b[0m \u001b[0;32mNone\u001b[0m\u001b[0;34m:\u001b[0m\u001b[0;34m\u001b[0m\u001b[0;34m\u001b[0m\u001b[0m\n",
      "\u001b[0;32m~/.local/lib/python3.6/site-packages/smart_open/smart_open_lib.py\u001b[0m in \u001b[0;36m_shortcut_open\u001b[0;34m(uri, mode, compression, buffering, encoding, errors, newline)\u001b[0m\n\u001b[1;32m    359\u001b[0m         \u001b[0mopen_kwargs\u001b[0m\u001b[0;34m[\u001b[0m\u001b[0;34m'errors'\u001b[0m\u001b[0;34m]\u001b[0m \u001b[0;34m=\u001b[0m \u001b[0merrors\u001b[0m\u001b[0;34m\u001b[0m\u001b[0;34m\u001b[0m\u001b[0m\n\u001b[1;32m    360\u001b[0m \u001b[0;34m\u001b[0m\u001b[0m\n\u001b[0;32m--> 361\u001b[0;31m     \u001b[0;32mreturn\u001b[0m \u001b[0m_builtin_open\u001b[0m\u001b[0;34m(\u001b[0m\u001b[0mlocal_path\u001b[0m\u001b[0;34m,\u001b[0m \u001b[0mmode\u001b[0m\u001b[0;34m,\u001b[0m \u001b[0mbuffering\u001b[0m\u001b[0;34m=\u001b[0m\u001b[0mbuffering\u001b[0m\u001b[0;34m,\u001b[0m \u001b[0;34m**\u001b[0m\u001b[0mopen_kwargs\u001b[0m\u001b[0;34m)\u001b[0m\u001b[0;34m\u001b[0m\u001b[0;34m\u001b[0m\u001b[0m\n\u001b[0m\u001b[1;32m    362\u001b[0m \u001b[0;34m\u001b[0m\u001b[0m\n\u001b[1;32m    363\u001b[0m \u001b[0;34m\u001b[0m\u001b[0m\n",
      "\u001b[0;31mFileNotFoundError\u001b[0m: [Errno 2] No such file or directory: '/kaggle/input/fasttext-aligned-word-vectors/wiki.en.align.vec'"
     ]
    }
   ],
   "source": []
  },
  {
   "cell_type": "code",
   "execution_count": 80,
   "id": "89ce27d3",
   "metadata": {},
   "outputs": [],
   "source": [
    "wds = set()\n",
    "for i  in list(df.Materiales.unique()):\n",
    "    if i:\n",
    "        l = (i.split(\" \"))\n",
    "        for j in l:\n",
    "            if len(j) > 0:\n",
    "                if j[-1] == \",\":\n",
    "                    if j[0] == \"(\":\n",
    "                        if j[-2] == \")\":\n",
    "                            wds.add(j[1:-2])\n",
    "                        else:\n",
    "                            wds.add(j[1:-1])\n",
    "                    else:\n",
    "                        if j[-2] == \")\":\n",
    "                            wds.add(j[:-2])\n",
    "                        else:\n",
    "                            wds.add(j[:-1])\n",
    "                elif j[-1] == \")\":\n",
    "                    if j[0] == \"(\":\n",
    "                        wds.add(j[1:-1])\n",
    "                    else:\n",
    "                        wds.add(j[:-1])\n",
    "                else:\n",
    "                    if j[0] == \"(\":\n",
    "                        wds.add(j[1:])"
   ]
  },
  {
   "cell_type": "code",
   "execution_count": 81,
   "id": "b94564b4",
   "metadata": {},
   "outputs": [
    {
     "data": {
      "text/plain": [
       "127"
      ]
     },
     "execution_count": 81,
     "metadata": {},
     "output_type": "execute_result"
    }
   ],
   "source": [
    "len(wds)"
   ]
  },
  {
   "cell_type": "code",
   "execution_count": 82,
   "id": "ef3d95b1",
   "metadata": {},
   "outputs": [
    {
     "data": {
      "text/plain": [
       "{'ABS',\n",
       " 'Acacia',\n",
       " 'Acero',\n",
       " 'Albizia',\n",
       " 'Algodón',\n",
       " 'Aluminio',\n",
       " 'Aucoumea',\n",
       " 'Betula',\n",
       " 'Borra',\n",
       " 'Caña',\n",
       " 'Cemento',\n",
       " 'Cerámico',\n",
       " 'Cincha',\n",
       " 'Contrachapado',\n",
       " 'Cristal',\n",
       " 'Cuerda',\n",
       " 'Cunninghamia',\n",
       " 'E0',\n",
       " 'E1',\n",
       " 'EPS',\n",
       " 'Eichhornia',\n",
       " 'Espuma',\n",
       " 'Estrophiolata',\n",
       " 'Eucalyptus',\n",
       " 'Excelsior',\n",
       " 'Fagus',\n",
       " 'Felpa',\n",
       " 'Ficus',\n",
       " 'Fimbristylis',\n",
       " 'Fraxinus',\n",
       " 'Hevea',\n",
       " 'Hierro',\n",
       " 'Hormigón',\n",
       " 'Indica',\n",
       " 'Juglans',\n",
       " 'Lana',\n",
       " 'Latón',\n",
       " 'Lino',\n",
       " 'Madera',\n",
       " 'Mandshurica',\n",
       " 'Mangifera',\n",
       " 'Mangium',\n",
       " 'Melamina',\n",
       " 'Melia',\n",
       " 'Metal',\n",
       " 'Mármol',\n",
       " 'Nylon',\n",
       " 'Papel',\n",
       " 'Petraea',\n",
       " 'Phyllostachys',\n",
       " 'Piel',\n",
       " 'Pinus',\n",
       " 'Plástico',\n",
       " 'Policloruro',\n",
       " 'Poliestireno',\n",
       " 'Polietileno',\n",
       " 'Polipropileno',\n",
       " 'Poliuretano',\n",
       " 'Poliéster',\n",
       " 'Populus',\n",
       " 'Quercus',\n",
       " 'Rafia',\n",
       " 'Ratán',\n",
       " 'Resina',\n",
       " 'Saman',\n",
       " 'Samanea',\n",
       " 'Swietenia',\n",
       " 'Sylvatica',\n",
       " 'Tapizado',\n",
       " 'Tectona',\n",
       " 'Tejido',\n",
       " 'Tela',\n",
       " 'Terrazo',\n",
       " 'Textileno',\n",
       " 'Triplochiton',\n",
       " 'Ulmus',\n",
       " 'Xylia',\n",
       " 'Yute',\n",
       " 'Zea',\n",
       " 'acacia',\n",
       " 'acrílicas',\n",
       " 'alba',\n",
       " 'auriculiformis',\n",
       " 'azedarach',\n",
       " 'brasiliensis',\n",
       " 'búfalo',\n",
       " 'cabra',\n",
       " 'camaldulensis',\n",
       " 'cemento',\n",
       " 'costata',\n",
       " 'crassipes',\n",
       " 'edulis',\n",
       " 'elastica',\n",
       " 'fresno',\n",
       " 'galvanizado',\n",
       " 'globulosa',\n",
       " 'grandis',\n",
       " 'klaineana',\n",
       " 'lanceolata',\n",
       " 'lato',\n",
       " 'maciza',\n",
       " 'macrophylla',\n",
       " 'manufacturada',\n",
       " 'marinas',\n",
       " 'mays',\n",
       " 'media',\n",
       " 'naturales',\n",
       " 'nogal',\n",
       " 'partículas',\n",
       " 'parvifolia',\n",
       " 'piedra',\n",
       " 'pinaster',\n",
       " 'radiata',\n",
       " 'recicladas',\n",
       " 'regia',\n",
       " 'scleroxylon',\n",
       " 'sintética',\n",
       " 'sintético',\n",
       " 'spp.',\n",
       " 'sylvestris',\n",
       " 'tablero',\n",
       " 'tejer',\n",
       " 'templado',\n",
       " 'vaca',\n",
       " 'vinilo',\n",
       " 'viña',\n",
       " 'xylocarpa'}"
      ]
     },
     "execution_count": 82,
     "metadata": {},
     "output_type": "execute_result"
    }
   ],
   "source": [
    "wds"
   ]
  },
  {
   "cell_type": "code",
   "execution_count": 83,
   "id": "a0870b48",
   "metadata": {},
   "outputs": [],
   "source": [
    "wds2 = set()\n",
    "for i  in list(df.Colores.unique()):\n",
    "    if i:\n",
    "        l = (i.split(\" \"))\n",
    "        for j in l:\n",
    "            if len(j) > 0:\n",
    "                if j[-1] == \",\":\n",
    "                    if j[0] == \"(\":\n",
    "                        if j[-2] == \")\":\n",
    "                            wds2.add(j[1:-2])\n",
    "                        else:\n",
    "                            wds2.add(j[1:-1])\n",
    "                    else:\n",
    "                        if j[-2] == \")\":\n",
    "                            wds2.add(j[:-2])\n",
    "                        else:\n",
    "                            wds2.add(j[:-1])\n",
    "                elif j[-1] == \")\":\n",
    "                    if j[0] == \"(\":\n",
    "                        wds2.add(j[1:-1])\n",
    "                    else:\n",
    "                        wds2.add(j[:-1])\n",
    "                else:\n",
    "                    if j[0] == \"(\":\n",
    "                        wds2.add(j[1:])"
   ]
  },
  {
   "cell_type": "code",
   "execution_count": 84,
   "id": "04e308d7",
   "metadata": {},
   "outputs": [
    {
     "data": {
      "text/plain": [
       "20"
      ]
     },
     "execution_count": 84,
     "metadata": {},
     "output_type": "execute_result"
    }
   ],
   "source": [
    "len(wds2)"
   ]
  },
  {
   "cell_type": "code",
   "execution_count": 85,
   "id": "1a7e10f5",
   "metadata": {},
   "outputs": [
    {
     "data": {
      "text/plain": [
       "{'Amarillo',\n",
       " 'Azul',\n",
       " 'Beige',\n",
       " 'Blanco',\n",
       " 'Cobre',\n",
       " 'Dorado',\n",
       " 'Gris',\n",
       " 'Lila',\n",
       " 'Marrón',\n",
       " 'Mostaza',\n",
       " 'Multicolor',\n",
       " 'Naranja',\n",
       " 'Natural',\n",
       " 'Negro',\n",
       " 'Plateado',\n",
       " 'Rojo',\n",
       " 'Rosa',\n",
       " 'Transparente',\n",
       " 'Turquesa',\n",
       " 'Verde'}"
      ]
     },
     "execution_count": 85,
     "metadata": {},
     "output_type": "execute_result"
    }
   ],
   "source": [
    "wds2"
   ]
  },
  {
   "cell_type": "code",
   "execution_count": 86,
   "id": "7506a1ff",
   "metadata": {},
   "outputs": [],
   "source": [
    "wds3 = set()\n",
    "for i in list(df[\"Color principal\"].unique()):\n",
    "    wds3.add(i)"
   ]
  },
  {
   "cell_type": "code",
   "execution_count": 87,
   "id": "7c3b6471",
   "metadata": {},
   "outputs": [
    {
     "data": {
      "text/plain": [
       "21"
      ]
     },
     "execution_count": 87,
     "metadata": {},
     "output_type": "execute_result"
    }
   ],
   "source": [
    "len(wds3)"
   ]
  },
  {
   "cell_type": "code",
   "execution_count": 90,
   "id": "97165aa2",
   "metadata": {},
   "outputs": [
    {
     "data": {
      "text/plain": [
       "148"
      ]
     },
     "execution_count": 90,
     "metadata": {},
     "output_type": "execute_result"
    }
   ],
   "source": [
    "len(s)"
   ]
  },
  {
   "cell_type": "code",
   "execution_count": 92,
   "id": "c6e29828",
   "metadata": {},
   "outputs": [],
   "source": [
    "wds4 = set()\n",
    "for i  in list(df.Estancias.unique()):\n",
    "    if i:\n",
    "        l = (i.split(\" \"))\n",
    "        for j in l:\n",
    "            if len(j) > 0:\n",
    "                if j[-1] == \",\":\n",
    "                    if j[0] == \"(\":\n",
    "                        if j[-2] == \")\":\n",
    "                            wds4.add(j[1:-2])\n",
    "                        else:\n",
    "                            wds4.add(j[1:-1])\n",
    "                    else:\n",
    "                        if j[-2] == \")\":\n",
    "                            wds4.add(j[:-2])\n",
    "                        else:\n",
    "                            wds4.add(j[:-1])\n",
    "                elif j[-1] == \")\":\n",
    "                    if j[0] == \"(\":\n",
    "                        wds4.add(j[1:-1])\n",
    "                    else:\n",
    "                        wds4.add(j[:-1])\n",
    "                else:\n",
    "                    if j[0] == \"(\":\n",
    "                        wds4.add(j[1:])"
   ]
  },
  {
   "cell_type": "code",
   "execution_count": 93,
   "id": "290158b5",
   "metadata": {},
   "outputs": [
    {
     "data": {
      "text/plain": [
       "8"
      ]
     },
     "execution_count": 93,
     "metadata": {},
     "output_type": "execute_result"
    }
   ],
   "source": [
    "len(wds4)"
   ]
  },
  {
   "cell_type": "code",
   "execution_count": 94,
   "id": "7d3b4189",
   "metadata": {},
   "outputs": [
    {
     "data": {
      "text/plain": [
       "{'Baño',\n",
       " 'Cocina',\n",
       " 'Comedor',\n",
       " 'Dormitorio',\n",
       " 'Recibidor',\n",
       " 'Salón',\n",
       " 'terraza',\n",
       " 'trabajo'}"
      ]
     },
     "execution_count": 94,
     "metadata": {},
     "output_type": "execute_result"
    }
   ],
   "source": [
    "wds4"
   ]
  },
  {
   "cell_type": "code",
   "execution_count": 95,
   "id": "fdbea2ef",
   "metadata": {},
   "outputs": [],
   "source": [
    "s = wds.union(wds2).union(wds3).union(wds4)"
   ]
  },
  {
   "cell_type": "code",
   "execution_count": 96,
   "id": "b76dfa9b",
   "metadata": {},
   "outputs": [
    {
     "data": {
      "text/plain": [
       "156"
      ]
     },
     "execution_count": 96,
     "metadata": {},
     "output_type": "execute_result"
    }
   ],
   "source": [
    "len(s)"
   ]
  },
  {
   "cell_type": "code",
   "execution_count": 98,
   "id": "baf30f79",
   "metadata": {},
   "outputs": [
    {
     "data": {
      "text/plain": [
       "['Algodón',\n",
       " 'Multicolor',\n",
       " 'Hevea',\n",
       " 'Contrachapado',\n",
       " 'trabajo',\n",
       " 'Mangium',\n",
       " 'cemento',\n",
       " 'media',\n",
       " 'Mandshurica',\n",
       " 'Azul',\n",
       " 'Dormitorio',\n",
       " 'Triplochiton',\n",
       " 'spp.',\n",
       " 'parvifolia',\n",
       " 'Lila',\n",
       " 'Ratán',\n",
       " 'búfalo',\n",
       " 'E1',\n",
       " 'Beige',\n",
       " None,\n",
       " 'naturales',\n",
       " 'Phyllostachys',\n",
       " 'radiata',\n",
       " 'cabra',\n",
       " 'Poliéster',\n",
       " 'Amarillo',\n",
       " 'edulis',\n",
       " 'Lana',\n",
       " 'Cobre',\n",
       " 'Mangifera',\n",
       " 'Xylia',\n",
       " 'Cemento',\n",
       " 'Saman',\n",
       " 'templado',\n",
       " 'alba',\n",
       " 'Mármol',\n",
       " 'Samanea',\n",
       " 'vinilo',\n",
       " 'Aluminio',\n",
       " 'Plástico',\n",
       " 'manufacturada',\n",
       " 'ABS',\n",
       " 'Polipropileno',\n",
       " 'Rafia',\n",
       " 'Nylon',\n",
       " 'Ficus',\n",
       " 'Gris',\n",
       " 'crassipes',\n",
       " 'sintético',\n",
       " 'Marrón',\n",
       " 'Blanco',\n",
       " 'partículas',\n",
       " 'piedra',\n",
       " 'Dorado',\n",
       " 'macrophylla',\n",
       " 'Eichhornia',\n",
       " 'lato',\n",
       " 'lanceolata',\n",
       " 'acacia',\n",
       " 'Albizia',\n",
       " 'Poliestireno',\n",
       " 'Melamina',\n",
       " 'pinaster',\n",
       " 'Cocina',\n",
       " 'Polietileno',\n",
       " 'Turquesa',\n",
       " 'elastica',\n",
       " 'EPS',\n",
       " 'azedarach',\n",
       " 'Ulmus',\n",
       " 'scleroxylon',\n",
       " 'klaineana',\n",
       " 'acrílicas',\n",
       " 'Rosa',\n",
       " 'maciza',\n",
       " 'Natural',\n",
       " 'Resina',\n",
       " 'Poliuretano',\n",
       " 'Recibidor',\n",
       " 'Plateado',\n",
       " 'Quercus',\n",
       " 'Sylvatica',\n",
       " 'brasiliensis',\n",
       " 'Zea',\n",
       " 'Rojo',\n",
       " 'auriculiformis',\n",
       " 'tejer',\n",
       " 'Latón',\n",
       " 'Melia',\n",
       " 'Tectona',\n",
       " 'tablero',\n",
       " 'Eucalyptus',\n",
       " 'regia',\n",
       " 'Naranja',\n",
       " 'Cunninghamia',\n",
       " 'Estrophiolata',\n",
       " 'Excelsior',\n",
       " 'sylvestris',\n",
       " 'Caña',\n",
       " 'Petraea',\n",
       " 'Fagus',\n",
       " 'sintética',\n",
       " 'Tela',\n",
       " 'costata',\n",
       " 'Pinus',\n",
       " 'globulosa',\n",
       " 'Acacia',\n",
       " 'Comedor',\n",
       " 'vaca',\n",
       " 'Cincha',\n",
       " 'mays',\n",
       " 'Indica',\n",
       " 'Papel',\n",
       " 'grandis',\n",
       " 'Fimbristylis',\n",
       " 'Espuma',\n",
       " 'Metal',\n",
       " 'Juglans',\n",
       " 'camaldulensis',\n",
       " 'Acero',\n",
       " 'fresno',\n",
       " 'Textileno',\n",
       " 'Transparente',\n",
       " 'Mostaza',\n",
       " 'Fraxinus',\n",
       " 'Salón',\n",
       " 'galvanizado',\n",
       " 'Baño',\n",
       " 'Cuerda',\n",
       " 'marinas',\n",
       " 'Aucoumea',\n",
       " 'viña',\n",
       " 'recicladas',\n",
       " 'Cerámico',\n",
       " 'Negro',\n",
       " 'Cristal',\n",
       " 'Swietenia',\n",
       " 'Hierro',\n",
       " 'Felpa',\n",
       " 'Betula',\n",
       " 'Lino',\n",
       " 'nogal',\n",
       " 'Populus',\n",
       " 'Policloruro',\n",
       " 'Tejido',\n",
       " 'Terrazo',\n",
       " 'xylocarpa',\n",
       " 'Yute',\n",
       " 'terraza',\n",
       " 'Verde',\n",
       " 'Tapizado',\n",
       " 'Hormigón',\n",
       " 'Borra',\n",
       " 'E0',\n",
       " 'Piel',\n",
       " 'Madera']"
      ]
     },
     "execution_count": 98,
     "metadata": {},
     "output_type": "execute_result"
    }
   ],
   "source": [
    "list(s)"
   ]
  },
  {
   "cell_type": "code",
   "execution_count": null,
   "id": "5dfe1285",
   "metadata": {},
   "outputs": [],
   "source": []
  }
 ],
 "metadata": {
  "kernelspec": {
   "display_name": "Python 3",
   "language": "python",
   "name": "python3"
  },
  "language_info": {
   "codemirror_mode": {
    "name": "ipython",
    "version": 3
   },
   "file_extension": ".py",
   "mimetype": "text/x-python",
   "name": "python",
   "nbconvert_exporter": "python",
   "pygments_lexer": "ipython3",
   "version": "3.6.9"
  }
 },
 "nbformat": 4,
 "nbformat_minor": 5
}

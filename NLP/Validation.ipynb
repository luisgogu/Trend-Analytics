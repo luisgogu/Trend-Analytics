{
 "cells": [
  {
   "cell_type": "markdown",
   "id": "75da307f",
   "metadata": {},
   "source": [
    "# Validation data"
   ]
  },
  {
   "cell_type": "code",
   "execution_count": 24,
   "id": "8c925238",
   "metadata": {},
   "outputs": [],
   "source": [
    "import json\n",
    "import pandas as pd\n",
    "import langid\n",
    "import nltk\n",
    "from nltk.tokenize import word_tokenize\n",
    "from nltk.corpus import stopwords\n",
    "import gensim"
   ]
  },
  {
   "cell_type": "code",
   "execution_count": 19,
   "id": "a0624029",
   "metadata": {},
   "outputs": [],
   "source": [
    "with open(\"validation_model_1.json\") as f:\n",
    "    data = json.load(f)\n",
    "\n",
    "validation = dict()\n",
    "for i in data.keys():\n",
    "    cat, link = tuple(i.split(\", \"))\n",
    "    validation[link] = dict()\n",
    "\n",
    "for i in data.keys():\n",
    "    cat, link = tuple(i.split(\", \"))\n",
    "    validation[link][cat] = data[i]"
   ]
  },
  {
   "cell_type": "markdown",
   "id": "45f23814",
   "metadata": {},
   "source": [
    "# Language models"
   ]
  },
  {
   "cell_type": "code",
   "execution_count": 25,
   "id": "c9844591",
   "metadata": {},
   "outputs": [
    {
     "name": "stderr",
     "output_type": "stream",
     "text": [
      "[nltk_data] Downloading package stopwords to\n",
      "[nltk_data]     /home/gonzalo/nltk_data...\n",
      "[nltk_data]   Package stopwords is already up-to-date!\n"
     ]
    }
   ],
   "source": [
    "def get_models(): \n",
    "    model_ab = ['es', 'en']\n",
    "    model = {}\n",
    "    for ab in model_ab:\n",
    "        model[ab] = gensim.models.KeyedVectors.load_word2vec_format('./wiki.es.align.vec')\n",
    "    return model\n",
    "\n",
    "# Language stopwords\n",
    "def get_stopwords():\n",
    "    nltk.download('stopwords')\n",
    "    stop_words = {}\n",
    "    stop_words[\"en\"] = stopwords.words('english')\n",
    "    stop_words[\"es\"] = stopwords.words('spanish')\n",
    "    stop_words[\"fr\"] = stopwords.words('french')\n",
    "    stop_words[\"pt\"] = stopwords.words('portuguese')\n",
    "    return stop_words\n",
    "\n",
    "\n",
    "# Language detection\n",
    "language_list = ['en','es']\n",
    "langid.set_languages(language_list)\n",
    "\n",
    "stop_words = get_stopwords()\n",
    "model = get_models()"
   ]
  },
  {
   "cell_type": "markdown",
   "id": "3b97ce66",
   "metadata": {},
   "source": [
    "# Functions for test"
   ]
  },
  {
   "cell_type": "markdown",
   "id": "28148a05",
   "metadata": {},
   "source": [
    "The model:"
   ]
  },
  {
   "cell_type": "code",
   "execution_count": null,
   "id": "b23ace36",
   "metadata": {},
   "outputs": [],
   "source": [
    "knn = det.load_knn(\"model_v5.sav\")"
   ]
  },
  {
   "cell_type": "code",
   "execution_count": null,
   "id": "eb78d341",
   "metadata": {},
   "outputs": [],
   "source": []
  },
  {
   "cell_type": "code",
   "execution_count": null,
   "id": "46955d3b",
   "metadata": {},
   "outputs": [],
   "source": [
    "def classify_words(text, stop_words, model, attr, knn):\n",
    "    lang = langid.classify(text)[0]\n",
    "    type_word = syntax_detection(text, lang)\n",
    "    if lang in model:\n",
    "        word_tokens = word_tokenize(text)\n",
    "        for w in word_tokens:\n",
    "            if not w.lower() in stop_words[lang] and type_word[w] in ['NOUN','ADJ']:\n",
    "                clas = cat_detector.get_attr_cat(w.lower(), model[lang], knn, known)\n",
    "                if clas is not None:\n",
    "                    attr[clas].append(w.lower())"
   ]
  },
  {
   "cell_type": "code",
   "execution_count": null,
   "id": "352ac064",
   "metadata": {},
   "outputs": [],
   "source": [
    "attr = {\"Material\":[],\"Color\":[],\"Habitación\":[], \"Estilo\":[], \"Forma\":[],\"not_an_attr\":[]}"
   ]
  },
  {
   "cell_type": "code",
   "execution_count": null,
   "id": "03be0e84",
   "metadata": {},
   "outputs": [],
   "source": [
    "for label in [\"title\", \"description\", \"description2\", \"tags\"]:\n",
    "                classify_words(i[label], stop_words, model, attr, knn)"
   ]
  }
 ],
 "metadata": {
  "kernelspec": {
   "display_name": "Python 3",
   "language": "python",
   "name": "python3"
  },
  "language_info": {
   "codemirror_mode": {
    "name": "ipython",
    "version": 3
   },
   "file_extension": ".py",
   "mimetype": "text/x-python",
   "name": "python",
   "nbconvert_exporter": "python",
   "pygments_lexer": "ipython3",
   "version": "3.6.9"
  }
 },
 "nbformat": 4,
 "nbformat_minor": 5
}

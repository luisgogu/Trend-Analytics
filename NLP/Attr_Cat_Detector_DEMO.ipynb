{
 "cells": [
  {
   "cell_type": "code",
   "execution_count": 1,
   "id": "8481ba41",
   "metadata": {},
   "outputs": [],
   "source": [
    "import cat_detector as det\n",
    "from cat_detector import known\n",
    "import gensim"
   ]
  },
  {
   "cell_type": "code",
   "execution_count": 2,
   "id": "83f20157",
   "metadata": {},
   "outputs": [],
   "source": [
    "knn = det.load_knn(\"finalized_model.sav\")"
   ]
  },
  {
   "cell_type": "markdown",
   "id": "6160abbd",
   "metadata": {},
   "source": [
    "Only execute next cell if model is not loaded yet:"
   ]
  },
  {
   "cell_type": "code",
   "execution_count": 3,
   "id": "840afb60",
   "metadata": {},
   "outputs": [],
   "source": [
    "def get_models(): \n",
    "    model_ab = ['es']\n",
    "    model = {}\n",
    "    for ab in model_ab:\n",
    "        model[ab] = gensim.models.KeyedVectors.load_word2vec_format('./wiki.es.align.vec')\n",
    "    return model\n",
    "\n",
    "model = get_models()['es']"
   ]
  },
  {
   "cell_type": "code",
   "execution_count": 28,
   "id": "b99636ee",
   "metadata": {},
   "outputs": [],
   "source": [
    "word = [\"aluminio\",\"azulejo\", \"comedor\", \"cobre\", \"terraza\", \"roble\", \"agua\"]"
   ]
  },
  {
   "cell_type": "code",
   "execution_count": 29,
   "id": "88301ce7",
   "metadata": {},
   "outputs": [
    {
     "data": {
      "text/plain": [
       "['Material',\n",
       " 'Material',\n",
       " 'Habitación',\n",
       " 'Color',\n",
       " 'Habitación',\n",
       " 'Material',\n",
       " 'not_an_attr']"
      ]
     },
     "execution_count": 29,
     "metadata": {},
     "output_type": "execute_result"
    }
   ],
   "source": [
    "det.get_attr_cat(word, model, knn, known)"
   ]
  },
  {
   "cell_type": "code",
   "execution_count": null,
   "id": "2c270ba0",
   "metadata": {},
   "outputs": [],
   "source": []
  }
 ],
 "metadata": {
  "kernelspec": {
   "display_name": "Python 3",
   "language": "python",
   "name": "python3"
  },
  "language_info": {
   "codemirror_mode": {
    "name": "ipython",
    "version": 3
   },
   "file_extension": ".py",
   "mimetype": "text/x-python",
   "name": "python",
   "nbconvert_exporter": "python",
   "pygments_lexer": "ipython3",
   "version": "3.6.9"
  }
 },
 "nbformat": 4,
 "nbformat_minor": 5
}

{
 "cells": [
  {
   "cell_type": "code",
   "execution_count": 1,
   "id": "8c17282d",
   "metadata": {},
   "outputs": [],
   "source": [
    "from joblib import Parallel, delayed"
   ]
  },
  {
   "cell_type": "markdown",
   "id": "f865def4",
   "metadata": {},
   "source": [
    "# Getting language models and data"
   ]
  },
  {
   "cell_type": "code",
   "execution_count": 2,
   "id": "f231d4b8",
   "metadata": {},
   "outputs": [],
   "source": [
    "import pandas as pd\n",
    "import numpy as np\n",
    "from numpy import dot\n",
    "from numpy.linalg import norm\n",
    "from toke2emb import similarity\n",
    "import gensim\n",
    "from sklearn.cluster import KMeans\n",
    "from sklearn.metrics import pairwise_distances_argmin_min\n",
    "from mpl_toolkits.mplot3d import Axes3D\n",
    "import seaborn as sbc\n",
    "import matplotlib.pyplot as plt\n",
    "from tqdm import tqdm\n",
    "%matplotlib inline"
   ]
  },
  {
   "cell_type": "code",
   "execution_count": 3,
   "id": "02f41813",
   "metadata": {},
   "outputs": [],
   "source": [
    "def get_models(): \n",
    "    model_ab = ['es']\n",
    "    model = {}\n",
    "    for ab in model_ab:\n",
    "        model[ab] = gensim.models.KeyedVectors.load_word2vec_format('./wiki.es.align.vec')\n",
    "    return model\n",
    "model = get_models()['es']"
   ]
  },
  {
   "cell_type": "code",
   "execution_count": 5,
   "id": "e1fa4001",
   "metadata": {},
   "outputs": [
    {
     "ename": "SyntaxError",
     "evalue": "unexpected EOF while parsing (<ipython-input-5-cd4bea4c61aa>, line 35)",
     "output_type": "error",
     "traceback": [
      "\u001b[0;36m  File \u001b[0;32m\"<ipython-input-5-cd4bea4c61aa>\"\u001b[0;36m, line \u001b[0;32m35\u001b[0m\n\u001b[0;31m    }\u001b[0m\n\u001b[0m     ^\u001b[0m\n\u001b[0;31mSyntaxError\u001b[0m\u001b[0;31m:\u001b[0m unexpected EOF while parsing\n"
     ]
    }
   ],
   "source": [
    "cluster_dict = {\n",
    "    \"Material\":{\n",
    "        'abs','albizia','aucoumea','betula','caña','cerámico','contrachapado','cunninghamia','eps',\n",
    "    'espuma','felpa','fimbristylis','fraxinus','hevea','latón','lino','mangium','melamina','melia','ratán',\n",
    "    'resina','saman','samanea','tapizado','tectona','terrazo','textileno','triplochiton','ulmus','yute','zea'\n",
    "    'acrílicas','alba','azedarach','búfalo','cabra','costata','elastica','galvanizado','globulosa','lato','maciza',\n",
    "    'manufacturada','marinas','mays','media','naturales','partículas','pinaster','radiata','recicladas','regia',\n",
    "    'sintética','sintético','spp.','tablero','tejer','templado','vaca','vinilo','viña','madera','haya','fresno',\n",
    "    'nogal','cerezo','caoba','teca','acacia','pino','arce','roble', 'algodón','nylon','papel','cuerda','tejido',\n",
    "    'tela','piel','rafia','lana', 'plástico','policloruro','poliestireno','polietileno','polipropileno','poliuretano',\n",
    "    'poliéster', 'acero','hierro','metal','aluminio', 'mármol','hormigon','cemento','piedra'\n",
    "               },\n",
    "    \"Color\":{\n",
    "        'amarillo','azul','beige','blanco','cobre','dorado','gris','lila','marrón','mostaza','multicolor',\n",
    "    'naranja','natural','negro','plateado','rojo','rosa','transparente','turquesa','verde'\n",
    "    },\n",
    "    \"Habitación\":{\n",
    "        'baño','cocina','comedor','dormitorio','recibidor','salón','terraza','trabajo'\n",
    "        },\n",
    "    \"Estilo\":{\n",
    "        \"moderno\",\"clásico\",\"bohemio\",\"industrial\",\"minimalista\",\"vintage\",\"nórdico\",\"escandinavo\",\n",
    "        \"náutico\",\"rústico\",\"ecléctico\",\"romántico\",\"oriental\"\n",
    "        },\n",
    "    'Forma':{\n",
    "        'Rectangular', 'Cónico', 'Circular', 'Geométrico', 'Cuadrada',\n",
    "        'Ovalada', 'Imitación', 'Cilindrico', 'Amorfo', 'Triangular',\n",
    "        'Hexágono', 'Cuadrado', 'Cilindrica', 'Ovalado'\n",
    "    },\n",
    "    'non_an_attr':{\n",
    "        \"camiseta\", \"pantalón\", \"nevera\", \"microondas\"\n",
    "    #    \"silla\",\"sofa\",'mesa','taburete','alfombra','armario','espejo',\"sillón\",\n",
    "    #    \"butaca\",\"tocador\",\"estantería\",\"perchero\",\"armario\",\n",
    "    #    \"perchero\",\"cojín\",\"cortina\",\"espejo\",\n",
    "    #}\n",
    "}"
   ]
  },
  {
   "cell_type": "code",
   "execution_count": 9,
   "id": "2cd6160b",
   "metadata": {},
   "outputs": [],
   "source": [
    "five_nearest = dict()\n",
    "for cat in cluster_dict.keys():\n",
    "    for elem in cluster_dict[cat]:\n",
    "        if elem.lower() in model:\n",
    "            five_nearest[elem.lower()] = []"
   ]
  },
  {
   "cell_type": "code",
   "execution_count": 11,
   "id": "3cb1832e",
   "metadata": {},
   "outputs": [
    {
     "name": "stderr",
     "output_type": "stream",
     "text": [
      "100%|██████████| 985667/985667 [38:25<00:00, 427.45it/s]\n"
     ]
    }
   ],
   "source": [
    "\n",
    "for word in tqdm(list(model.key_to_index.keys())):\n",
    "    w = model[word]\n",
    "    for cat in cluster_dict.keys():\n",
    "        for elem in cluster_dict[cat]:\n",
    "            if word != elem:\n",
    "                if elem in model:\n",
    "                    emb = model[elem.lower()]\n",
    "                    dist =  dot(emb, w)/(norm(emb)*norm(w))\n",
    "                    five_nearest[elem.lower()].append((word, dist))\n",
    "                    if (len(five_nearest[elem.lower()])) > 8:\n",
    "                        five_nearest[elem.lower()].sort(key=lambda x:x[1])\n",
    "                        five_nearest[elem.lower()] = five_nearest[elem.lower()][1:]\n"
   ]
  },
  {
   "cell_type": "code",
   "execution_count": 12,
   "id": "6d420247",
   "metadata": {},
   "outputs": [
    {
     "name": "stdout",
     "output_type": "stream",
     "text": [
      "{'hevea': [('clevea', 0.5767525), ('cinchona', 0.58249086), ('guayule', 0.5908155), ('caesalpinia', 0.59144944), ('manilkara', 0.6030914), ('evea', 0.604401), ('rauwolfia', 0.6078694), ('theobroma', 0.6243575)], 'cunninghamia': [('cunn', 0.75701255), ('grahamia', 0.765645), ('kinghamia', 0.7836007), ('binghamia', 0.79250836), ('cunninghamiaceae', 0.80535614), ('cunninghami', 0.91155696), ('cunninghamii', 0.9265138), ('cunninghamiana', 0.9407989)], 'hierro': [('hierros', 0.7133952), ('hierro\\xa0', 0.7149045), ('hierro»', 0.73215944), ('hierro\\xa0el', 0.7436724), ('hierro/', 0.7444764), ('hierro—', 0.75035375), ('hierro\\xa0con', 0.77947783), ('hierro,', 0.80689937)], 'poliestireno': [('polietilentereftalato', 0.74012107), ('polipropileno', 0.7600731), ('poliuretano', 0.7755266), ('poliester', 0.7773732), ('polibutadieno', 0.78782123), ('polietileno', 0.79341555), ('estireno', 0.85882294), ('poliestirenos', 0.9606501)], 'radiata': [('radiat', 0.6631408), ('breviradiata', 0.71226263), ('quinqueradiata', 0.7460325), ('pauciradiata', 0.7676494), ('multiradiata', 0.7716311), ('quadriradiata', 0.79807734), ('luteoradiata', 0.7985501), ('triradiata', 0.81418175)], 'tablero': [('juego,', 0.5805119), ('juego', 0.6096222), ('tableras', 0.64042616), ('cablero', 0.65030414), ('tabler', 0.6777238), ('tablero»', 0.7471751), ('tableroot', 0.7517202), ('tableros', 0.7689135)], 'nogal': [('nogalar', 0.57564276), ('ébano', 0.5764201), ('ñogal', 0.5816711), ('nogalito', 0.60473156), ('ciprés', 0.608725), ('roble', 0.6276413), ('caoba', 0.63113153), ('cedro', 0.68509835)], 'melamina': [('etanolamina', 0.71932405), ('tripropilamina', 0.73004335), ('filamina', 0.7320326), ('propilamina', 0.735128), ('dodecilamina', 0.738962), ('dialilamina', 0.7440249), ('alilamina', 0.7514196), ('amilamina', 0.7594062)], 'aluminio': [('laca/aluminio', 0.77094734), ('aleación', 0.7750525), ('aluminij', 0.77955174), ('aluminios', 0.7869648), ('alumino', 0.7994239), ('duraluminio', 0.81096816), ('aluminio»', 0.8293825), ('cuproaluminio', 0.8402441)], 'lato': [('equisetaceae', 0.5012836), ('cladonia', 0.5021669), ('altingiaceae', 0.50223356), ('derbesiaceae', 0.5032773), ('millettieae', 0.50742584), ('diplaziopsidaceae', 0.5143541), ('stricto', 0.53864807), ('sensu', 0.6394489)], 'caña': [('guanábana', 0.59366673), ('chontaduro', 0.5942371), ('panelera', 0.59801847), ('maracuyá', 0.598468), ('banano', 0.5989164), ('yuca', 0.6065487), ('plátano', 0.610476), ('azúcar', 0.65092725)], 'vaca': [('ubre', 0.59206635), ('leche', 0.60380274), ('gallina', 0.6130362), ('cerdo', 0.6142319), ('carnero', 0.629055), ('vacas', 0.6316502), ('cabra', 0.64199275), ('oveja', 0.64769816)], 'mangium': [('sarcozygium', 0.7159687), ('platanifolium', 0.7196597), ('palmifolium', 0.7211248), ('sorangium', 0.75615317), ('alangium', 0.7956712), ('changium', 0.82841945), ('rangium', 0.8427554), ('pangium', 0.85723996)], 'viña': [('viñamarina', 0.548094), ('viña»', 0.554211), ('viñas', 0.5542559), ('reñaca', 0.5545001), ('viñamarino', 0.566461), ('mar/valparaíso/quilpué', 0.57156765), ('olmué', 0.5732536), ('valparaíso/viña', 0.65691066)], 'haya': [('¿hubiera', 0.58104), ('haber', 0.58118683), ('hubieras', 0.60413295), ('habrá', 0.60771126), ('hayamos', 0.60958415), ('hubiese', 0.6166556), ('hubiera', 0.6552529), ('hayan', 0.67137784)], 'polipropileno': [('polietilentereftalato', 0.74561614), ('poliuretano', 0.74689215), ('poliéster', 0.7506626), ('polietilenos', 0.75838643), ('poliestireno', 0.7600731), ('poliestirenos', 0.7651601), ('polietileno', 0.81250215), ('propileno', 0.8408079)], 'eps': [('nijiiro', 0.48347223), ('eiyū', 0.48367414), ('utatsuki', 0.4859674), ('~enishi~', 0.48778242), ('koibana', 0.48953214), ('上ちゃん', 0.4964569), ('ayuhara', 0.5258151), ('ep', 0.590856)], 'fraxinus': [('ulmus', 0.70254225), ('fraxinifolius', 0.72393185), ('fraxinet', 0.7258455), ('fraxinifolia', 0.7464289), ('alnus', 0.7499359), ('fraxini', 0.76759934), ('fraxinea', 0.8157925), ('fraxino', 0.83247775)], 'acero': [('titanio', 0.6464133), ('galvaniza', 0.6477157), ('acero»', 0.6550579), ('galvanizado', 0.6635209), ('aluminio', 0.66734576), ('metálica', 0.6877708), ('inoxidables', 0.69346553), ('inoxidable', 0.7690549)], 'piedra': [('‘piedra', 0.6488254), ('piedra»', 0.6584062), ('piedradura', 0.6630252), ('arenisca', 0.6635126), ('caliza', 0.669152), ('piedras', 0.68192273), ('granito', 0.6869306), ('piedra,', 0.7017998)], 'media': [('mediajo', 0.5369985), ('xmedia', 0.5370618), ('mediana', 0.5400482), ('#media', 0.54623), ('media,', 0.5639889), ('dmedia', 0.570907), ('media®', 0.6027938), ('media#baja', 0.61555064)], 'hormigon': [('hormigoneras', 0.79392374), ('hormigonada', 0.799249), ('hormigonado', 0.81973743), ('hormigo', 0.82976043), ('hormigonando', 0.8301599), ('hormigones', 0.84735), ('hormigonera', 0.851002), ('hormigonar', 0.8662707)], 'fresno': [('fuentelfresno', 0.65773576), ('valdefresno', 0.68211186), ('fresnosa', 0.69163597), ('fresno»', 0.7025736), ('arroyofresno', 0.71282864), ('riofresno', 0.7179924), ('presno', 0.7767286), ('resno', 0.80046487)], 'polietileno': [('poliéster', 0.77024454), ('poliestirenos', 0.7735092), ('poliestireno', 0.79341555), ('polietilenglicol', 0.79828167), ('polipropileno', 0.81250215), ('polietilenimina', 0.8609773), ('polietilentereftalato', 0.86607766), ('polietilenos', 0.93530416)], 'acacia': [('~acacia~', 0.63432926), ('pseudacacia', 0.6587245), ('acaciae', 0.65909994), ('arracacia', 0.70165086), ('acaciano', 0.70715), ('pseudoacacia', 0.7176361), ('acacias', 0.7291738), ('nothacacia', 0.75922984)], 'costata': [('microcostata', 0.85828465), ('unicostata', 0.859792), ('tenuicostata', 0.8630677), ('octocostata', 0.86315346), ('rubrocostata', 0.86479795), ('subcostata', 0.86845386), ('acostata', 0.8705834), ('bicostata', 0.8964956)], 'papel': [('papel,', 0.6141791), ('coprotagónico', 0.6338901), ('protagónica', 0.6352961), ('protagónicos', 0.6365064), ('papel—', 0.63841754), ('papeles', 0.68557), ('rol', 0.69538975), ('protagónico', 0.7254857)], 'metal': [('metalmetal', 0.7608541), ('metalduro', 0.7665052), ('metaldoom', 0.769704), ('metal/heavy', 0.7726117), ('metalco', 0.77702284), ('metal/thrash', 0.77886665), ('#metal', 0.78289366), ('metal/metal', 0.8042722)], 'espuma': [('spuma', 0.70515364), ('espumados', 0.72642326), ('espumita', 0.73409057), ('espumadera', 0.74597204), ('espuma»', 0.79071665), ('espumado', 0.79678816), ('espumas', 0.7998743), ('espumar', 0.81209886)], 'cerezo': [('ciruelos', 0.5840031), ('ciruelo', 0.5982437), ('manzano', 0.6003555), ('cerezos', 0.60440785), ('arrocerezo', 0.61564296), ('riocerezo', 0.6275226), ('cerezeda', 0.6491128), ('cerezo»', 0.75758743)], 'regia': [('vinegia', 0.48557284), ('imperiale', 0.48618078), ('regiane', 0.50104123), ('regiae', 0.5044072), ('egregia', 0.5249477), ('regia»', 0.5339695), ('regiamente', 0.5463626), ('regiao', 0.585418)], 'galvanizado': [('galvanizar', 0.7692419), ('galvanizadora', 0.7732851), ('galvanize', 0.7876107), ('galvanizó', 0.7983175), ('galvanizadas', 0.81983215), ('galvaniza', 0.8301228), ('galvanizados', 0.8514605), ('galvanizada', 0.90929365)], 'cerámico': [('cerámica—', 0.7226279), ('cerámica»', 0.73849463), ('cerámicas', 0.75906867), ('cerámida', 0.7679124), ('cerámica,', 0.7861821), ('cerámica', 0.7959788), ('cerámicos', 0.8223862), ('acerámico', 0.88061357)], 'ulmus': [('prunus', 0.647755), ('betula', 0.6480231), ('quercus', 0.6487097), ('aesculus', 0.6570634), ('corylus', 0.66053337), ('carpinus', 0.6959698), ('fraxinus', 0.70254225), ('alnus', 0.7112218)], 'triplochiton': [('leptochiton', 0.8026419), ('rhodochiton', 0.80944985), ('eriochiton', 0.81980735), ('exochiton', 0.8235435), ('apochiton', 0.8245918), ('chaunochiton', 0.8255238), ('creochiton', 0.8639125), ('aplochiton', 0.88267964)], 'cabra': [('cabrais', 0.59305865), ('cabrahigo', 0.5943072), ('carnero', 0.5956771), ('cabras', 0.61149585), ('cabrito', 0.61632615), ('cabracán', 0.62300706), ('vaca', 0.64199275), ('oveja', 0.64561135)], 'caoba': [('ébano', 0.6206119), ('nogal', 0.63113153), ('caobilla', 0.6432739), ('caobania', 0.6673678), ('caob', 0.71879154), ('cedro', 0.72266936), ('caobo', 0.73745), ('caobas', 0.8143264)], 'samanea': [('samanera', 0.62939024), ('liguanea', 0.63705707), ('sipanea', 0.6464275), ('manea', 0.6670642), ('samane', 0.69137394), ('pseudosamanea', 0.69973963), ('arthrosamanea', 0.7573084), ('macrosamanea', 0.7888909)], 'mays': [('tabacum', 0.48597968), ('capshaw', 0.49294725), ('maíz', 0.4976009), ('pinkston', 0.50664586), ('umays', 0.5071139), ('jayma', 0.52684677), ('zea', 0.5641223), ('mayson', 0.56981623)], 'sintético': [('sintéticos»', 0.75218624), ('semisintético', 0.7634386), ('sintéticamente', 0.7918292), ('sintéticas', 0.8102702), ('sintética»', 0.813271), ('sintéticos', 0.81998724), ('sintético»', 0.8815981), ('sintética', 0.904608)], 'saman': [('massaman', 0.623067), ('samani', 0.6436206), ('samand', 0.6436453), ('samanu', 0.64810824), ('samanya', 0.67095256), ('samanamud', 0.6728), ('samaní', 0.70999295), ('samana', 0.7187577)], 'cemento': [('cementario', 0.71758366), ('cal/cemento', 0.71822304), ('ferrocemento', 0.7225414), ('cemento»', 0.7332263), ('fibrocemento', 0.740252), ('cementar', 0.74356157), ('cementa', 0.74501455), ('cementos', 0.81285495)], 'rafia': [('hafia', 0.58936185), ('serafia', 0.5950519), ('mussafia', 0.60195196), ('zafia', 0.6316413), ('grafia', 0.661968), ('nafia', 0.6744951), ('agrafia', 0.68556595), ('afia', 0.69286704)], 'templado': [('húmedo', 0.7764181), ('perhúmedo', 0.78259224), ('clima', 0.7835917), ('subtemplado', 0.79042184), ('cálido', 0.79140407), ('templado»', 0.79219085), ('templado/mesotermal', 0.8089865), ('templados', 0.81607753)], 'plástico': [('antiplástico', 0.6685985), ('galvanoplástico', 0.6700788), ('superplástico', 0.67623293), ('bioplástico', 0.68688184), ('plásticamente', 0.7089638), ('plástica', 0.7274593), ('plástico»', 0.74299705), ('plásticos', 0.7706914)], 'latón': [('ferroníquel', 0.6306888), ('bimetálicos', 0.6406539), ('inoxidable', 0.6408739), ('bimetálica', 0.6479556), ('cuproníquel', 0.6500661), ('aluminio', 0.65156895), ('bimetálicas', 0.6623895), ('chapado', 0.6644833)], 'sintética': [('sintéticos»', 0.74350256), ('semisintética', 0.74723715), ('sintéticamente', 0.79712874), ('sintéticos', 0.80601645), ('sintético»', 0.8233549), ('sintéticas', 0.8403905), ('sintética»', 0.87338585), ('sintético', 0.904608)], 'algodón': [('hilado', 0.623213), ('textileras', 0.625217), ('tabaco', 0.6252916), ('textilera', 0.6256117), ('cáñamo', 0.6429021), ('yute', 0.6803706), ('algodón»', 0.7765906), ('algodón—', 0.80492145)], 'vinilo': [('casete', 0.7100564), ('viniles', 0.71336704), ('viniléster', 0.7510841), ('vinilocasetedisco', 0.76272345), ('vinilodisco', 0.7679918), ('vinilo»', 0.79519945), ('vinilos', 0.8264463), ('vinil', 0.8277749)], 'manufacturada': [('manufacturarse', 0.82997763), ('manufactura', 0.83462125), ('manufacturaba', 0.8461943), ('manufacturador', 0.84925413), ('manufacturados', 0.8692631), ('manufacturadora', 0.877407), ('manufacturadas', 0.8999456), ('manufacturado', 0.92300326)], 'maciza': [('troncónica', 0.6051817), ('semicilíndrica', 0.60745263), ('troncopiramidal', 0.6125565), ('troncocónico', 0.65213233), ('troncocónica', 0.66915154), ('macizado', 0.71355706), ('macizas', 0.76172036), ('macizada', 0.77839017)], 'tejer': [('tejida', 0.6310895), ('bordar', 0.63232315), ('coser', 0.63497025), ('hilar', 0.6569401), ('tejerse', 0.659019), ('telar', 0.67675394), ('tejerlo', 0.6955085), ('entretejer', 0.69557196)], 'azedarach': [('chamaebuxus', 0.5743451), ('datilera', 0.57662374), ('azadirachta', 0.5773383), ('koelreuteria', 0.5798602), ('melia', 0.6035512), ('darach', 0.6078497), ('azederach', 0.6908382), ('azeda', 0.7009814)], 'aucoumea': [('rochebeaucourt', 0.59578055), ('bourgeaui', 0.601061), ('hutereaui', 0.6102207), ('couma', 0.6127016), ('apoucouita', 0.6141354), ('macoubea', 0.6147296), ('beaupreopsis', 0.6179471), ('doumea', 0.71144414)], 'lino': [('colchado', 0.5162882), ('esparto', 0.5167842), ('centeno', 0.51784325), ('arpillera', 0.5213657), ('lanas', 0.52998394), ('lana', 0.5469875), ('algodón', 0.5690663), ('cáñamo', 0.5849064)], 'globulosa': [('globulotuboides', 0.7877038), ('tubulosa', 0.7921194), ('globulos', 0.81848985), ('globulotuba', 0.8186441), ('globula', 0.8316642), ('globulosas', 0.83832204), ('globulo', 0.83967054), ('globuloso', 0.8497471)], 'búfalo': [('antílope', 0.56535697), ('búfalas', 0.6013656), ('búfala', 0.6556913), ('búffalo', 0.65978336), ('buffalo', 0.66121495), ('búfalos', 0.7404352), ('búfalo»', 0.79041296), ('‘búfalo', 0.8370725)], 'nylon': [('nylón', 0.5843208), ('neopreno', 0.58903736), ('polietileno', 0.6015316), ('polipropileno', 0.60812765), ('silicona', 0.60825855), ('poliéster', 0.65181607), ('nailon', 0.6716054), ('nylons', 0.7246647)], 'yute': [('textil', 0.59161323), ('textiles', 0.5976298), ('cáñamo', 0.6123697), ('hilado', 0.61246675), ('textileras', 0.61649436), ('textilera', 0.6255707), ('yutera', 0.6776503), ('algodón', 0.6803706)], 'contrachapado': [('fibrocemento', 0.65806925), ('laminado', 0.6608091), ('chapados', 0.68274266), ('enchapados', 0.69771), ('enchapado', 0.7535908), ('chapado', 0.7712991), ('contrachapados', 0.9338452), ('contrachapada', 0.94013846)], 'arce': [('arceo', 0.51298285), ('maples', 0.51410216), ('pino', 0.51487786), ('castañon', 0.5189042), ('acer', 0.5215801), ('avellano', 0.533485), ('arces', 0.54248095), ('robles', 0.5432893)], 'pinaster': [('laricio', 0.6303601), ('quejigo', 0.63572425), ('tajinaste', 0.6358481), ('tajinastes', 0.6441768), ('pinea', 0.664996), ('echinaster', 0.69915056), ('pinus', 0.7058302), ('lupinaster', 0.82212585)], 'lana': [('oveja', 0.53603595), ('hilaza', 0.53733385), ('cuero', 0.54535437), ('lino', 0.5469875), ('tejida', 0.56559443), ('algodón', 0.5698867), ('seda', 0.6459733), ('lanas', 0.7199051)], 'recicladas': [('reciclando', 0.76046675), ('recicla', 0.7615947), ('reciclaban', 0.7626934), ('reciclables', 0.8012926), ('reciclado', 0.81541), ('reciclan', 0.8267589), ('reciclada', 0.82899153), ('reciclados', 0.862285)], 'tapizado': [('tapizan', 0.67359203), ('tapizante', 0.69084084), ('tapizando', 0.69855726), ('tapizar', 0.714284), ('tapizadas', 0.7567603), ('tapiza', 0.77542275), ('tapizados', 0.82590854), ('tapizada', 0.8844345)], 'fimbristylis': [('monostylis', 0.82078296), ('aporostylis', 0.8247278), ('adenostylis', 0.83348763), ('julostylis', 0.8342575), ('coilostylis', 0.8343635), ('brevistylis', 0.8415667), ('longistylis', 0.84212303), ('distylis', 0.8524307)], 'tectona': [('tecto', 0.60782677), ('tectonofísica', 0.6094832), ('tectonics', 0.64071584), ('tectoria', 0.6574535), ('tectofilosida', 0.65801567), ('tectonic', 0.72125214), ('tecton', 0.7225823), ('tectonica', 0.777291)], 'piel': [('cicatrizada', 0.6110417), ('cuero', 0.6146654), ('dermatomucosas', 0.61499894), ('uñas', 0.6190833), ('arrugas', 0.62110364), ('mucosas', 0.64407784), ('pelo', 0.6471682), ('cabelludo', 0.6728822)], 'naturales': [('seminaturales', 0.67884827), ('natural', 0.67945576), ('natural,', 0.6951108), ('naturales—', 0.7285186), ('naturales»', 0.7728663), ('naturalesa', 0.77885455), ('naturales,', 0.81303877), ('naturales…', 0.83697397)], 'partículas': [('cuasipartículas', 0.8405031), ('antipartículas', 0.8418437), ('micropartículas', 0.84854937), ('macropartículas', 0.84856755), ('astropartículas', 0.8497417), ('partículares', 0.8515727), ('partículas»', 0.8817432), ('spartículas', 0.89440036)], 'tela': [('encolada', 0.56704694), ('encolado', 0.5674425), ('cartón', 0.5743097), ('acrílica', 0.5805937), ('lienzo', 0.58798665), ('tejida', 0.61224854), ('telas', 0.61899185), ('arpillera', 0.62296313)], 'resina': [('resinosas', 0.6401919), ('látex', 0.6408222), ('iresina', 0.66668), ('oleoresina', 0.67625076), ('resinoso', 0.67838293), ('oleorresina', 0.67957115), ('resinosa', 0.6993238), ('resinas', 0.80724466)], 'roble': [('quercus', 0.57657284), ('roblería', 0.5765821), ('encina', 0.5869356), ('cedro', 0.5872724), ('encino', 0.5990381), ('pino', 0.6054475), ('nogal', 0.6276413), ('‘roble', 0.6333244)], 'tejido': [('fibrocitos', 0.6433577), ('tejidos—', 0.64570403), ('colágeno', 0.6464043), ('fibro', 0.66628253), ('fibroso', 0.66683346), ('fibrocito', 0.6713756), ('protejido', 0.69450104), ('tejidos', 0.78726846)], 'marinas': [('intermareales', 0.63773006), ('oceánicas', 0.64529186), ('mareales', 0.64700025), ('submarinas', 0.681085), ('estuarinas', 0.6852559), ('marinos', 0.6878237), ('marinas»', 0.7131309), ('marinas—', 0.72785705)], 'pino': [('roble', 0.6054475), ('encina', 0.6067245), ('resinero', 0.6219841), ('abeto', 0.62522376), ('pinos', 0.63941133), ('piñonero', 0.6427276), ('encino', 0.64825153), ('pinus', 0.67258835)], 'abs': [('pilipinas', 0.47359073), ('sabs', 0.47528392), ('wsbs', 0.47547242), ('tcs', 0.47688165), ('antibloqueo', 0.48296463), ('telelever', 0.48800248), ('gma', 0.59710175), ('cbn', 0.6815967)], 'ratán': [('bejuco', 0.55311626), ('izote', 0.55405825), ('izotes', 0.5560747), ('chicozapotes', 0.5655823), ('zaratán', 0.57272834), ('ratá', 0.57822704), ('chicozapote', 0.5991727), ('atán', 0.6191637)], 'felpa': [('peluche»', 0.6108701), ('peluches', 0.61119556), ('pelucho', 0.61914253), ('peluce', 0.6275842), ('peluchín', 0.63137263), ('felpudo', 0.64605886), ('peluche', 0.6619369), ('felpas', 0.76333463)], 'elastica': [('elastix', 0.7020327), ('plastica', 0.717231), ('elastic', 0.74363536), ('agelastica', 0.7513081), ('elasticina', 0.7729158), ('elasti', 0.7804973), ('elasticas', 0.82977414), ('elastico', 0.85138273)], 'cuerda': [('afinación', 0.58664167), ('ejecutante', 0.5999446), ('cuerdas—', 0.61199594), ('cuerdecilla', 0.6219968), ('cuerdas»', 0.6518818), ('cuerdo', 0.6744177), ('cuerda»', 0.7151437), ('cuerdas', 0.79922813)], 'melia': [('darymelia', 0.6381819), ('emelia', 0.6538408), ('melias', 0.65874887), ('eumelia', 0.6604371), ('bumelia', 0.6651226), ('osmelia', 0.67858386), ('cosmelia', 0.6836722), ('ismelia', 0.7119799)], 'albizia': [('opizia', 0.66900355), ('myrtoleucodendron', 0.6710552), ('ardisiandra', 0.6787137), ('chamaeclitandra', 0.7030504), ('bizia', 0.74008816), ('hesperalbizia', 0.76604515), ('albizzia', 0.8019119), ('albizi', 0.8077638)], 'policloruro': [('policloropreno', 0.8616152), ('policlorado', 0.8616905), ('dicloruro', 0.8729264), ('oxicloruro', 0.901973), ('tricloruro', 0.90312237), ('bicloruro', 0.90632653), ('policloro', 0.91469043), ('policloruros', 0.9521339)], 'betula': [('betulus', 0.74124855), ('betul', 0.746895), ('betulla', 0.76112914), ('betularia', 0.78439945), ('chamaebetula', 0.78569245), ('betulae', 0.78723246), ('betular', 0.8246704), ('betulaefolia', 0.8278264)], 'madera': [('palmadera', 0.63029414), ('enchapado', 0.64429766), ('maderamen', 0.6613706), ('madera»', 0.6739848), ('maderada', 0.6792779), ('madera,', 0.7411423), ('maderas', 0.7719377), ('maderaje', 0.7736996)], 'terrazo': [('terrazada', 0.5992844), ('solería', 0.6011829), ('terraza', 0.6023817), ('terrazado', 0.60381263), ('perrazo', 0.6462856), ('ferrazo', 0.69123507), ('cerrazo', 0.71656907), ('terrazos', 0.8179532)], 'poliéster': [('poliestireno', 0.7094428), ('polietilenos', 0.71254915), ('polietilentereftalato', 0.7207228), ('triéster', 0.7347442), ('polipropileno', 0.7506626), ('poliuretano', 0.76719505), ('polietileno', 0.77024454), ('poliésteres', 0.90878326)], 'mármol': [('pórfido', 0.67631865), ('alabastro', 0.6768279), ('granito', 0.67821085), ('yeso', 0.69024), ('terracota', 0.69093657), ('mármoles', 0.7473026), ('mármol»', 0.8071919), ('mármol,', 0.85831517)], 'alba': [('castañar', 0.4628655), ('albata', 0.4731263), ('ontalba', 0.47722757), ('roseoalba', 0.48074916), ('ficalba', 0.48726258), ('estremera', 0.4923909), ('alba,', 0.5120065), ('tormes', 0.5386016)], 'teca': [('exocarpio', 0.50218296), ('polispermo', 0.50705695), ('tecajete', 0.5084419), ('mopane', 0.51997197), ('tecana', 0.5303616), ('polisperma', 0.53762895), ('epiteca', 0.57782966), ('tecas', 0.60141087)], 'poliuretano': [('poliestirenos', 0.75350875), ('polietileno', 0.7642316), ('poliéster', 0.76719505), ('poliestireno', 0.7755266), ('uretano', 0.7890177), ('poliurea', 0.79187477), ('poliureas', 0.80881107), ('poliuretanos', 0.89992326)], 'gris': [('pardogrisáceo', 0.65886873), ('azulado', 0.6641058), ('pálido', 0.66695166), ('oscuro', 0.67046934), ('grisácea', 0.6808258), ('rojizo', 0.6871444), ('marrón', 0.6958032), ('grisáceo', 0.7120673)], 'cobre': [('manganeso', 0.65470403), ('ferroníquel', 0.66170585), ('cobre,', 0.6670332), ('molibdenita', 0.6691217), ('zinc', 0.6720352), ('níquel', 0.69788694), ('plomo', 0.71748906), ('estaño', 0.75026876)], 'natural': [('seminatural', 0.62920415), ('‘natural', 0.6513181), ('natural—', 0.6623862), ('natural»', 0.6711085), ('naturales', 0.67945576), ('—natural', 0.70367396), ('naturala', 0.7181092), ('natural,', 0.7997792)], 'negro': [('rojo', 0.6276467), ('negro◆dragón', 0.63091034), ('negro\\xa0', 0.639391), ('negro—', 0.6514698), ('negro/blanco', 0.66040933), ('negro…', 0.7014928), ('negro,', 0.7299983), ('blanco', 0.7671346)], 'dorado': [('dorador', 0.6108978), ('doradas', 0.6125025), ('dorado»', 0.62167895), ('plateado', 0.63406295), ('dorados', 0.6516066), ('amarillo/dorado', 0.66286016), ('‘‘dorado', 0.67994004), ('dorada', 0.7035005)], 'marrón': [('pardogrisáceo', 0.7397933), ('amarillenta', 0.747536), ('marrones', 0.7505106), ('amarillentos', 0.7515473), ('anaranjado', 0.7547711), ('rojizo', 0.78681093), ('amarillento', 0.7932404), ('grisáceo', 0.8030405)], 'mostaza': [('vinagre', 0.56229496), ('picante', 0.56254613), ('vinagreta', 0.5634969), ('mostazal', 0.6160346), ('pimienta', 0.61842614), ('mostazo', 0.6851837), ('mostaza»', 0.78832614), ('mostazas', 0.8721358)], 'blanco': [('amarillo', 0.65671545), ('negro/blanco', 0.67266804), ('blanco/gris', 0.67399406), ('amarillo/blanco', 0.6945428), ('blanco█', 0.7039028), ('blanco•', 0.70869046), ('blanco,', 0.7352085), ('negro', 0.7671346)], 'plateado': [('gateado', 0.6551634), ('electroplateado', 0.72666883), ('plateada»', 0.7323158), ('plateadas', 0.76404405), ('cariplateado', 0.76423836), ('plateado»', 0.79636705), ('plateados', 0.80193067), ('plateada', 0.82166773)], 'lila': [('rosazul', 0.50308734), ('yelila', 0.5074197), ('lilas', 0.5153321), ('violetas', 0.537437), ('rosado', 0.5440571), ('rosa', 0.5549489), ('violeta', 0.5890016), ('lilar', 0.6172757)], 'rojo': [('verde', 0.62912774), ('amarillo/verde', 0.6309027), ('amarillo,', 0.63937837), ('blanco', 0.643926), ('amarillo/blanco', 0.6462051), ('azul', 0.703332), ('amarillo', 0.7255315), ('rojo,', 0.752561)], 'transparente': [('transparentan', 0.83816814), ('transparentando', 0.854486), ('transparente»', 0.8579176), ('semitransparente', 0.86161774), ('transparentar', 0.8635501), ('transparentemente', 0.8906899), ('bgtransparente', 0.9147485), ('transparenta', 0.9213086)], 'naranja': [('naranjazo', 0.76510334), ('naranjas', 0.7655604), ('naranjay', 0.7658573), ('naranja—', 0.779736), ('rojo/naranja', 0.785415), ('amarillo/naranja', 0.79271024), ('naranjado', 0.80338323), ('naranjada', 0.82052636)], 'multicolor': [('cuatricolor', 0.6453568), ('atricolor', 0.64684975), ('anticolor', 0.6516811), ('quinticolor', 0.6611199), ('lacticolor', 0.66624653), ('nocticolor', 0.68537176), ('multicolores', 0.8631835), ('multicolored', 0.8786366)], 'turquesa': [('turquet', 0.6249025), ('aturquesado', 0.6259525), ('turque', 0.64189875), ('turqué', 0.65465623), ('turques', 0.7149381), ('turqueza', 0.72080076), ('turquesas', 0.8065446), ('turquesa»', 0.8498717)], 'azul': [('azúl', 0.69615114), ('rojo', 0.703332), ('amarillo', 0.70708936), ('amarillo/verde', 0.70750326), ('amarillo/blanco', 0.7130082), ('azul/', 0.7229201), ('azul/verde', 0.7412634), ('azul,', 0.7496192)], 'amarillo': [('amarillos', 0.7531645), ('amarill', 0.76101875), ('amarillo/blanco', 0.76249987), ('amarillo—', 0.7735785), ('amarillo/verde', 0.7937664), ('amarilloso', 0.803796), ('amarillo/naranja', 0.8166584), ('amarillo,', 0.8410516)], 'verde': [('verde/blanco', 0.65619904), ('amarillo', 0.65800554), ('azul/verde', 0.6637619), ('azul', 0.6681175), ('verdeț', 0.6727487), ('verdes', 0.67648137), ('amarillo/verde', 0.6866418), ('verde,', 0.71606165)], 'beige': [('anaranjada', 0.61923194), ('grisáceo', 0.6432217), ('marrón', 0.6439445), ('gris', 0.64657533), ('anaranjado', 0.65558434), ('beigel', 0.656947), ('color', 0.67312294), ('beiges', 0.75259477)], 'rosa': [('rosalito', 0.57345355), ('rosas', 0.58420646), ('rosado', 0.5844633), ('rosazul', 0.59573674), ('rosas,', 0.60023415), ('rosa,', 0.6474016), ('rosal', 0.64772916), ('rosaza', 0.64882594)], 'baño': [('baños', 0.607163), ('duchar', 0.6116919), ('hidromasaje', 0.6160284), ('duchas', 0.6206067), ('jacuzzi', 0.6215224), ('lavabo', 0.64047664), ('bañera', 0.67244226), ('ducha', 0.73516184)], 'cocina': [('cocine', 0.6836707), ('culinario', 0.6884785), ('cocina»', 0.6899375), ('cocino', 0.694138), ('culinaria', 0.69655913), ('cocinase', 0.7029755), ('cocinar', 0.7153864), ('cocinas', 0.7910848)], 'recibidor': [('recepcionada', 0.57059866), ('recepcionó', 0.5721369), ('recibido»', 0.58133006), ('recepcional', 0.591245), ('recepcionado', 0.5966833), ('recibid', 0.6011057), ('recepciona', 0.6029949), ('recibidores', 0.71913815)], 'dormitorio': [('dormitar', 0.66676706), ('comedor', 0.68941176), ('dormita', 0.71998715), ('habitación', 0.7304181), ('dormitory', 0.7538106), ('antedormitorio', 0.801872), ('dormitorios', 0.83147514), ('dormitorio»', 0.850073)], 'comedor': [('dormitorio»', 0.6346631), ('cafetería', 0.6363247), ('habitaciones', 0.6367131), ('patio', 0.6468086), ('comedora', 0.6867879), ('dormitorio', 0.68941176), ('dormitorios', 0.7196337), ('comedores', 0.7345829)], 'trabajo': [('trabajar', 0.6616763), ('¿trabajo', 0.6643325), ('trabajò', 0.69584185), ('trabajo»', 0.705437), ('trabajor', 0.7384868), ('trabajo\\xa0', 0.7449772), ('trabajo,', 0.7528501), ('trabajo…', 0.7942616)], 'salón': [('sala', 0.59017736), ('salón»', 0.59393185), ('salón\\xa0de', 0.6167724), ('salone', 0.6386234), ('antesalón', 0.6541769), ('el\\xa0salón', 0.6777929), ('salon', 0.68673664), ('salones', 0.70202124)], 'terraza': [('aterrazamiento', 0.6211753), ('azotea', 0.62656975), ('berraza', 0.67986673), ('aterrazado', 0.69976604), ('terrazas', 0.7089755), ('aterrazada', 0.73134625), ('terrazado', 0.74283975), ('terrazada', 0.7777989)], 'romántico': [('románticos', 0.78454006), ('prerromántico', 0.78603005), ('neoromántico', 0.7862095), ('posromántico', 0.79238564), ('postromántico', 0.8042276), ('quiromántico', 0.8085648), ('romántica', 0.81948066), ('romántico»', 0.8304577)], 'bohemio': [('bohem', 0.59139127), ('bohemian', 0.62622255), ('bohemias', 0.6722294), ('prohemio', 0.6810171), ('bohemia»', 0.69851154), ('bohemia', 0.706443), ('bohemios', 0.75229716), ('bohemio»', 0.81143445)], 'clásico': [('clásicas', 0.6156635), ('clasico', 0.6203161), ('clásicamúsica', 0.63578975), ('clásica', 0.6435837), ('anticlásico', 0.65488845), ('clásicos', 0.6728105), ('clásico—', 0.6998973), ('clásico»', 0.7596334)], 'escandinavo': [('nórdico»', 0.73466486), ('nórdico', 0.74341995), ('escandinavia', 0.7534633), ('escandinavismo', 0.77430177), ('escandinavas', 0.77895856), ('escandinava', 0.8038921), ('escandinavos', 0.8078248), ('escandinava»', 0.8428346)], 'minimalista': [('minimalistas»', 0.7479122), ('minimalism', 0.7559604), ('minimalismos', 0.7709107), ('minimalist', 0.8000624), ('minimalistas', 0.80243564), ('posminimalismo', 0.8116183), ('minimalista»', 0.8780213), ('minimalismo', 0.88807774)], 'ecléctico': [('neoecléctica', 0.7874166), ('eclecticista', 0.80775744), ('eclécticas', 0.8200643), ('eclécticos', 0.8470803), ('eclécticismo', 0.85108197), ('ecléctico»', 0.8560169), ('ecléctica', 0.8750403), ('neoecléctico', 0.8784227)], 'moderno': [('neomoderno', 0.6337456), ('moderna', 0.64914304), ('ultramoderno', 0.6594756), ('contemporáneo', 0.6687181), ('premoderno', 0.66966), ('moderno/', 0.70175886), ('moderno»', 0.713637), ('moderno,', 0.79032797)], 'nórdico': [('nórdicos»', 0.7336549), ('nórdicas', 0.7425121), ('escandinavo', 0.74341995), ('protonórdico', 0.74367285), ('nórdica»', 0.74591875), ('nórdica', 0.7518657), ('nórdicos', 0.76924145), ('nórdico»', 0.8479529)], 'oriental': [('suroccidental', 0.7192957), ('noriental', 0.727591), ('sudoriental', 0.7319424), ('occidental,', 0.73844415), ('sudoccidental', 0.74418825), ('soroccidental', 0.74905366), ('nordoccidental', 0.7619391), ('occidental', 0.84751505)], 'industrial': [('petroindustrial', 0.80098367), ('industrial—', 0.81777984), ('industrialnu', 0.8218012), ('industriall', 0.8349466), ('industrial»', 0.84452844), ('tecnoindustrial', 0.8646356), ('ndustrial', 0.8754567), ('industrial,', 0.88409966)], 'vintage': [('vinta', 0.50512123), ('scrapbooking', 0.51235193), ('vintas', 0.51280606), ('tintagel', 0.5146939), ('custom', 0.5222954), ('montage', 0.5417167), ('vintagesynth', 0.73548365), ('vintages', 0.84633154)], 'rústico': [('caústico', 0.5893609), ('rústica»', 0.5946179), ('rúst', 0.62619084), ('rustico', 0.65561694), ('rústicas', 0.6717141), ('rústicos', 0.7402392), ('rústica', 0.74620813), ('rústico»', 0.77350736)], 'náutico': [('naúticos', 0.64595485), ('motonáutica', 0.6485924), ('naútica', 0.667706), ('nautico', 0.7160274), ('motonáutico', 0.7484902), ('náutica', 0.75826687), ('naútico', 0.7645944), ('náuticos', 0.79597294)], 'cónico': [], 'triangular': [], 'cuadrado': [], 'cuadrada': [], 'ovalado': [], 'ovalada': [], 'rectangular': [], 'cilindrica': [], 'cilindrico': [], 'geométrico': [], 'hexágono': [], 'imitación': [], 'amorfo': [], 'circular': []}\n"
     ]
    }
   ],
   "source": [
    "print(five_nearest)"
   ]
  },
  {
   "cell_type": "code",
   "execution_count": 7,
   "id": "335ea5b8",
   "metadata": {},
   "outputs": [],
   "source": [
    "five_nearest = {'hevea': [('clevea', 0.5767525), ('cinchona', 0.58249086), ('guayule', 0.5908155), ('caesalpinia', 0.59144944), ('manilkara', 0.6030914), ('evea', 0.604401), ('rauwolfia', 0.6078694), ('theobroma', 0.6243575)], 'cunninghamia': [('cunn', 0.75701255), ('grahamia', 0.765645), ('kinghamia', 0.7836007), ('binghamia', 0.79250836), ('cunninghamiaceae', 0.80535614), ('cunninghami', 0.91155696), ('cunninghamii', 0.9265138), ('cunninghamiana', 0.9407989)], 'hierro': [('hierros', 0.7133952), ('hierro\\xa0', 0.7149045), ('hierro»', 0.73215944), ('hierro\\xa0el', 0.7436724), ('hierro/', 0.7444764), ('hierro—', 0.75035375), ('hierro\\xa0con', 0.77947783), ('hierro,', 0.80689937)], 'poliestireno': [('polietilentereftalato', 0.74012107), ('polipropileno', 0.7600731), ('poliuretano', 0.7755266), ('poliester', 0.7773732), ('polibutadieno', 0.78782123), ('polietileno', 0.79341555), ('estireno', 0.85882294), ('poliestirenos', 0.9606501)], 'radiata': [('radiat', 0.6631408), ('breviradiata', 0.71226263), ('quinqueradiata', 0.7460325), ('pauciradiata', 0.7676494), ('multiradiata', 0.7716311), ('quadriradiata', 0.79807734), ('luteoradiata', 0.7985501), ('triradiata', 0.81418175)], 'tablero': [('juego,', 0.5805119), ('juego', 0.6096222), ('tableras', 0.64042616), ('cablero', 0.65030414), ('tabler', 0.6777238), ('tablero»', 0.7471751), ('tableroot', 0.7517202), ('tableros', 0.7689135)], 'nogal': [('nogalar', 0.57564276), ('ébano', 0.5764201), ('ñogal', 0.5816711), ('nogalito', 0.60473156), ('ciprés', 0.608725), ('roble', 0.6276413), ('caoba', 0.63113153), ('cedro', 0.68509835)], 'melamina': [('etanolamina', 0.71932405), ('tripropilamina', 0.73004335), ('filamina', 0.7320326), ('propilamina', 0.735128), ('dodecilamina', 0.738962), ('dialilamina', 0.7440249), ('alilamina', 0.7514196), ('amilamina', 0.7594062)], 'aluminio': [('laca/aluminio', 0.77094734), ('aleación', 0.7750525), ('aluminij', 0.77955174), ('aluminios', 0.7869648), ('alumino', 0.7994239), ('duraluminio', 0.81096816), ('aluminio»', 0.8293825), ('cuproaluminio', 0.8402441)], 'lato': [('equisetaceae', 0.5012836), ('cladonia', 0.5021669), ('altingiaceae', 0.50223356), ('derbesiaceae', 0.5032773), ('millettieae', 0.50742584), ('diplaziopsidaceae', 0.5143541), ('stricto', 0.53864807), ('sensu', 0.6394489)], 'caña': [('guanábana', 0.59366673), ('chontaduro', 0.5942371), ('panelera', 0.59801847), ('maracuyá', 0.598468), ('banano', 0.5989164), ('yuca', 0.6065487), ('plátano', 0.610476), ('azúcar', 0.65092725)], 'vaca': [('ubre', 0.59206635), ('leche', 0.60380274), ('gallina', 0.6130362), ('cerdo', 0.6142319), ('carnero', 0.629055), ('vacas', 0.6316502), ('cabra', 0.64199275), ('oveja', 0.64769816)], 'mangium': [('sarcozygium', 0.7159687), ('platanifolium', 0.7196597), ('palmifolium', 0.7211248), ('sorangium', 0.75615317), ('alangium', 0.7956712), ('changium', 0.82841945), ('rangium', 0.8427554), ('pangium', 0.85723996)], 'viña': [('viñamarina', 0.548094), ('viña»', 0.554211), ('viñas', 0.5542559), ('reñaca', 0.5545001), ('viñamarino', 0.566461), ('mar/valparaíso/quilpué', 0.57156765), ('olmué', 0.5732536), ('valparaíso/viña', 0.65691066)], 'haya': [('¿hubiera', 0.58104), ('haber', 0.58118683), ('hubieras', 0.60413295), ('habrá', 0.60771126), ('hayamos', 0.60958415), ('hubiese', 0.6166556), ('hubiera', 0.6552529), ('hayan', 0.67137784)], 'polipropileno': [('polietilentereftalato', 0.74561614), ('poliuretano', 0.74689215), ('poliéster', 0.7506626), ('polietilenos', 0.75838643), ('poliestireno', 0.7600731), ('poliestirenos', 0.7651601), ('polietileno', 0.81250215), ('propileno', 0.8408079)], 'eps': [('nijiiro', 0.48347223), ('eiyū', 0.48367414), ('utatsuki', 0.4859674), ('~enishi~', 0.48778242), ('koibana', 0.48953214), ('上ちゃん', 0.4964569), ('ayuhara', 0.5258151), ('ep', 0.590856)], 'fraxinus': [('ulmus', 0.70254225), ('fraxinifolius', 0.72393185), ('fraxinet', 0.7258455), ('fraxinifolia', 0.7464289), ('alnus', 0.7499359), ('fraxini', 0.76759934), ('fraxinea', 0.8157925), ('fraxino', 0.83247775)], 'acero': [('titanio', 0.6464133), ('galvaniza', 0.6477157), ('acero»', 0.6550579), ('galvanizado', 0.6635209), ('aluminio', 0.66734576), ('metálica', 0.6877708), ('inoxidables', 0.69346553), ('inoxidable', 0.7690549)], 'piedra': [('‘piedra', 0.6488254), ('piedra»', 0.6584062), ('piedradura', 0.6630252), ('arenisca', 0.6635126), ('caliza', 0.669152), ('piedras', 0.68192273), ('granito', 0.6869306), ('piedra,', 0.7017998)], 'media': [('mediajo', 0.5369985), ('xmedia', 0.5370618), ('mediana', 0.5400482), ('#media', 0.54623), ('media,', 0.5639889), ('dmedia', 0.570907), ('media®', 0.6027938), ('media#baja', 0.61555064)], 'hormigon': [('hormigoneras', 0.79392374), ('hormigonada', 0.799249), ('hormigonado', 0.81973743), ('hormigo', 0.82976043), ('hormigonando', 0.8301599), ('hormigones', 0.84735), ('hormigonera', 0.851002), ('hormigonar', 0.8662707)], 'fresno': [('fuentelfresno', 0.65773576), ('valdefresno', 0.68211186), ('fresnosa', 0.69163597), ('fresno»', 0.7025736), ('arroyofresno', 0.71282864), ('riofresno', 0.7179924), ('presno', 0.7767286), ('resno', 0.80046487)], 'polietileno': [('poliéster', 0.77024454), ('poliestirenos', 0.7735092), ('poliestireno', 0.79341555), ('polietilenglicol', 0.79828167), ('polipropileno', 0.81250215), ('polietilenimina', 0.8609773), ('polietilentereftalato', 0.86607766), ('polietilenos', 0.93530416)], 'acacia': [('~acacia~', 0.63432926), ('pseudacacia', 0.6587245), ('acaciae', 0.65909994), ('arracacia', 0.70165086), ('acaciano', 0.70715), ('pseudoacacia', 0.7176361), ('acacias', 0.7291738), ('nothacacia', 0.75922984)], 'costata': [('microcostata', 0.85828465), ('unicostata', 0.859792), ('tenuicostata', 0.8630677), ('octocostata', 0.86315346), ('rubrocostata', 0.86479795), ('subcostata', 0.86845386), ('acostata', 0.8705834), ('bicostata', 0.8964956)], 'papel': [('papel,', 0.6141791), ('coprotagónico', 0.6338901), ('protagónica', 0.6352961), ('protagónicos', 0.6365064), ('papel—', 0.63841754), ('papeles', 0.68557), ('rol', 0.69538975), ('protagónico', 0.7254857)], 'metal': [('metalmetal', 0.7608541), ('metalduro', 0.7665052), ('metaldoom', 0.769704), ('metal/heavy', 0.7726117), ('metalco', 0.77702284), ('metal/thrash', 0.77886665), ('#metal', 0.78289366), ('metal/metal', 0.8042722)], 'espuma': [('spuma', 0.70515364), ('espumados', 0.72642326), ('espumita', 0.73409057), ('espumadera', 0.74597204), ('espuma»', 0.79071665), ('espumado', 0.79678816), ('espumas', 0.7998743), ('espumar', 0.81209886)], 'cerezo': [('ciruelos', 0.5840031), ('ciruelo', 0.5982437), ('manzano', 0.6003555), ('cerezos', 0.60440785), ('arrocerezo', 0.61564296), ('riocerezo', 0.6275226), ('cerezeda', 0.6491128), ('cerezo»', 0.75758743)], 'regia': [('vinegia', 0.48557284), ('imperiale', 0.48618078), ('regiane', 0.50104123), ('regiae', 0.5044072), ('egregia', 0.5249477), ('regia»', 0.5339695), ('regiamente', 0.5463626), ('regiao', 0.585418)], 'galvanizado': [('galvanizar', 0.7692419), ('galvanizadora', 0.7732851), ('galvanize', 0.7876107), ('galvanizó', 0.7983175), ('galvanizadas', 0.81983215), ('galvaniza', 0.8301228), ('galvanizados', 0.8514605), ('galvanizada', 0.90929365)], 'cerámico': [('cerámica—', 0.7226279), ('cerámica»', 0.73849463), ('cerámicas', 0.75906867), ('cerámida', 0.7679124), ('cerámica,', 0.7861821), ('cerámica', 0.7959788), ('cerámicos', 0.8223862), ('acerámico', 0.88061357)], 'ulmus': [('prunus', 0.647755), ('betula', 0.6480231), ('quercus', 0.6487097), ('aesculus', 0.6570634), ('corylus', 0.66053337), ('carpinus', 0.6959698), ('fraxinus', 0.70254225), ('alnus', 0.7112218)], 'triplochiton': [('leptochiton', 0.8026419), ('rhodochiton', 0.80944985), ('eriochiton', 0.81980735), ('exochiton', 0.8235435), ('apochiton', 0.8245918), ('chaunochiton', 0.8255238), ('creochiton', 0.8639125), ('aplochiton', 0.88267964)], 'cabra': [('cabrais', 0.59305865), ('cabrahigo', 0.5943072), ('carnero', 0.5956771), ('cabras', 0.61149585), ('cabrito', 0.61632615), ('cabracán', 0.62300706), ('vaca', 0.64199275), ('oveja', 0.64561135)], 'caoba': [('ébano', 0.6206119), ('nogal', 0.63113153), ('caobilla', 0.6432739), ('caobania', 0.6673678), ('caob', 0.71879154), ('cedro', 0.72266936), ('caobo', 0.73745), ('caobas', 0.8143264)], 'samanea': [('samanera', 0.62939024), ('liguanea', 0.63705707), ('sipanea', 0.6464275), ('manea', 0.6670642), ('samane', 0.69137394), ('pseudosamanea', 0.69973963), ('arthrosamanea', 0.7573084), ('macrosamanea', 0.7888909)], 'mays': [('tabacum', 0.48597968), ('capshaw', 0.49294725), ('maíz', 0.4976009), ('pinkston', 0.50664586), ('umays', 0.5071139), ('jayma', 0.52684677), ('zea', 0.5641223), ('mayson', 0.56981623)], 'sintético': [('sintéticos»', 0.75218624), ('semisintético', 0.7634386), ('sintéticamente', 0.7918292), ('sintéticas', 0.8102702), ('sintética»', 0.813271), ('sintéticos', 0.81998724), ('sintético»', 0.8815981), ('sintética', 0.904608)], 'saman': [('massaman', 0.623067), ('samani', 0.6436206), ('samand', 0.6436453), ('samanu', 0.64810824), ('samanya', 0.67095256), ('samanamud', 0.6728), ('samaní', 0.70999295), ('samana', 0.7187577)], 'cemento': [('cementario', 0.71758366), ('cal/cemento', 0.71822304), ('ferrocemento', 0.7225414), ('cemento»', 0.7332263), ('fibrocemento', 0.740252), ('cementar', 0.74356157), ('cementa', 0.74501455), ('cementos', 0.81285495)], 'rafia': [('hafia', 0.58936185), ('serafia', 0.5950519), ('mussafia', 0.60195196), ('zafia', 0.6316413), ('grafia', 0.661968), ('nafia', 0.6744951), ('agrafia', 0.68556595), ('afia', 0.69286704)], 'templado': [('húmedo', 0.7764181), ('perhúmedo', 0.78259224), ('clima', 0.7835917), ('subtemplado', 0.79042184), ('cálido', 0.79140407), ('templado»', 0.79219085), ('templado/mesotermal', 0.8089865), ('templados', 0.81607753)], 'plástico': [('antiplástico', 0.6685985), ('galvanoplástico', 0.6700788), ('superplástico', 0.67623293), ('bioplástico', 0.68688184), ('plásticamente', 0.7089638), ('plástica', 0.7274593), ('plástico»', 0.74299705), ('plásticos', 0.7706914)], 'latón': [('ferroníquel', 0.6306888)\n",
    ", ('bimetálicos', 0.6406539), ('inoxidable', 0.6408739), ('bimetálica', 0.6479556), ('cuproníquel', 0.6500661), ('aluminio', 0.65156895), ('bimetálicas', 0.6623895), ('chapado', 0.6644833)], 'sintética': [('sintéticos»', 0.74350256), ('semisintética', 0.74723715), ('sintéticamente', 0.79712874), ('sintéticos', 0.80601645), ('sintético»', 0.8233549), ('sintéticas', 0.8403905), ('sintética»', 0.87338585), ('sintético', 0.904608)], 'algodón': [('hilado', 0.623213), ('textileras', 0.625217), ('tabaco', 0.6252916), ('textilera', 0.6256117), ('cáñamo', 0.6429021), ('yute', 0.6803706), ('algodón»', 0.7765906), ('algodón—', 0.80492145)], 'vinilo': [('casete', 0.7100564), ('viniles', 0.71336704), ('viniléster', 0.7510841), ('vinilocasetedisco', 0.76272345), ('vinilodisco', 0.7679918), ('vinilo»', 0.79519945), ('vinilos', 0.8264463), ('vinil', 0.8277749)], 'manufacturada': [('manufacturarse', 0.82997763), ('manufactura', 0.83462125), ('manufacturaba', 0.8461943), ('manufacturador', 0.84925413), ('manufacturados', 0.8692631), ('manufacturadora', 0.877407), ('manufacturadas', 0.8999456), ('manufacturado', 0.92300326)], 'maciza': [('troncónica', 0.6051817), ('semicilíndrica', 0.60745263), ('troncopiramidal', 0.6125565), ('troncocónico', 0.65213233), ('troncocónica', 0.66915154), ('macizado', 0.71355706), ('macizas', 0.76172036), ('macizada', 0.77839017)], 'tejer': [('tejida', 0.6310895), ('bordar', 0.63232315), ('coser', 0.63497025), ('hilar', 0.6569401), ('tejerse', 0.659019), ('telar', 0.67675394), ('tejerlo', 0.6955085), ('entretejer', 0.69557196)], 'azedarach': [('chamaebuxus', 0.5743451), ('datilera', 0.57662374), ('azadirachta', 0.5773383), ('koelreuteria', 0.5798602), ('melia', 0.6035512), ('darach', 0.6078497), ('azederach', 0.6908382), ('azeda', 0.7009814)], 'aucoumea': [('rochebeaucourt', 0.59578055), ('bourgeaui', 0.601061), ('hutereaui', 0.6102207), ('couma', 0.6127016), ('apoucouita', 0.6141354), ('macoubea', 0.6147296), ('beaupreopsis', 0.6179471), ('doumea', 0.71144414)], 'lino': [('colchado', 0.5162882), ('esparto', 0.5167842), ('centeno', 0.51784325), ('arpillera', 0.5213657), ('lanas', 0.52998394), ('lana', 0.5469875), ('algodón', 0.5690663), ('cáñamo', 0.5849064)], 'globulosa': [('globulotuboides', 0.7877038), ('tubulosa', 0.7921194), ('globulos', 0.81848985), ('globulotuba', 0.8186441), ('globula', 0.8316642), ('globulosas', 0.83832204), ('globulo', 0.83967054), ('globuloso', 0.8497471)], 'búfalo': [('antílope', 0.56535697), ('búfalas', 0.6013656), ('búfala', 0.6556913), ('búffalo', 0.65978336), ('buffalo', 0.66121495), ('búfalos', 0.7404352), ('búfalo»', 0.79041296), ('‘búfalo', 0.8370725)], 'nylon': [('nylón', 0.5843208), ('neopreno', 0.58903736), ('polietileno', 0.6015316), ('polipropileno', 0.60812765), ('silicona', 0.60825855), ('poliéster', 0.65181607), ('nailon', 0.6716054), ('nylons', 0.7246647)], 'yute': [('textil', 0.59161323), ('textiles', 0.5976298), ('cáñamo', 0.6123697), ('hilado', 0.61246675), ('textileras', 0.61649436), ('textilera', 0.6255707), ('yutera', 0.6776503), ('algodón', 0.6803706)], 'contrachapado': [('fibrocemento', 0.65806925), ('laminado', 0.6608091), ('chapados', 0.68274266), ('enchapados', 0.69771), ('enchapado', 0.7535908), ('chapado', 0.7712991), ('contrachapados', 0.9338452), ('contrachapada', 0.94013846)], 'arce': [('arceo', 0.51298285), ('maples', 0.51410216), ('pino', 0.51487786), ('castañon', 0.5189042), ('acer', 0.5215801), ('avellano', 0.533485), ('arces', 0.54248095), ('robles', 0.5432893)], 'pinaster': [('laricio', 0.6303601), ('quejigo', 0.63572425), ('tajinaste', 0.6358481), ('tajinastes', 0.6441768), ('pinea', 0.664996), ('echinaster', 0.69915056), ('pinus', 0.7058302), ('lupinaster', 0.82212585)], 'lana': [('oveja', 0.53603595), ('hilaza', 0.53733385), ('cuero', 0.54535437), ('lino', 0.5469875), ('tejida', 0.56559443), ('algodón', 0.5698867), ('seda', 0.6459733), ('lanas', 0.7199051)], 'recicladas': [('reciclando', 0.76046675), ('recicla', 0.7615947), ('reciclaban', 0.7626934), ('reciclables', 0.8012926), ('reciclado', 0.81541), ('reciclan', 0.8267589), ('reciclada', 0.82899153), ('reciclados', 0.862285)], 'tapizado': [('tapizan', 0.67359203), ('tapizante', 0.69084084), ('tapizando', 0.69855726), ('tapizar', 0.714284), ('tapizadas', 0.7567603), ('tapiza', 0.77542275), ('tapizados', 0.82590854), ('tapizada', 0.8844345)], 'fimbristylis': [('monostylis', 0.82078296), ('aporostylis', 0.8247278), ('adenostylis', 0.83348763), ('julostylis', 0.8342575), ('coilostylis', 0.8343635), ('brevistylis', 0.8415667), ('longistylis', 0.84212303), ('distylis', 0.8524307)], 'tectona': [('tecto', 0.60782677), ('tectonofísica', 0.6094832), ('tectonics', 0.64071584), ('tectoria', 0.6574535), ('tectofilosida', 0.65801567), ('tectonic', 0.72125214), ('tecton', 0.7225823), ('tectonica', 0.777291)], 'piel': [('cicatrizada', 0.6110417), ('cuero', 0.6146654), ('dermatomucosas', 0.61499894), ('uñas', 0.6190833), ('arrugas', 0.62110364), ('mucosas', 0.64407784), ('pelo', 0.6471682), ('cabelludo', 0.6728822)], 'naturales': [('seminaturales', 0.67884827), ('natural', 0.67945576), ('natural,', 0.6951108), ('naturales—', 0.7285186), ('naturales»', 0.7728663), ('naturalesa', 0.77885455), ('naturales,', 0.81303877), ('naturales…', 0.83697397)], 'partículas': [('cuasipartículas', 0.8405031), ('antipartículas', 0.8418437), ('micropartículas', 0.84854937), ('macropartículas', 0.84856755), ('astropartículas', 0.8497417), ('partículares', 0.8515727), ('partículas»', 0.8817432), ('spartículas', 0.89440036)], 'tela': [('encolada', 0.56704694), ('encolado', 0.5674425), ('cartón', 0.5743097), ('acrílica', 0.5805937), ('lienzo', 0.58798665), ('tejida', 0.61224854), ('telas', 0.61899185), ('arpillera', 0.62296313)], 'resina': [('resinosas', 0.6401919), ('látex', 0.6408222), ('iresina', 0.66668), ('oleoresina', 0.67625076), ('resinoso', 0.67838293), ('oleorresina', 0.67957115), ('resinosa', 0.6993238), ('resinas', 0.80724466)], 'roble': [('quercus', 0.57657284), ('roblería', 0.5765821), ('encina', 0.5869356), ('cedro', 0.5872724), ('encino', 0.5990381), ('pino', 0.6054475), ('nogal', 0.6276413), ('‘roble', 0.6333244)], 'tejido': [('fibrocitos', 0.6433577), ('tejidos—', 0.64570403), ('colágeno', 0.6464043), ('fibro', 0.66628253), ('fibroso', 0.66683346), ('fibrocito', 0.6713756), ('protejido', 0.69450104), ('tejidos', 0.78726846)], 'marinas': [('intermareales', 0.63773006), ('oceánicas', 0.64529186), ('mareales', 0.64700025), ('submarinas', 0.681085), ('estuarinas', 0.6852559), ('marinos', 0.6878237), ('marinas»', 0.7131309), ('marinas—', 0.72785705)], 'pino': [('roble', 0.6054475), ('encina', 0.6067245), ('resinero', 0.6219841), ('abeto', 0.62522376), ('pinos', 0.63941133), ('piñonero', 0.6427276), ('encino', 0.64825153), ('pinus', 0.67258835)], 'abs': [('pilipinas', 0.47359073), ('sabs', 0.47528392), ('wsbs', 0.47547242), ('tcs', 0.47688165), ('antibloqueo', 0.48296463), ('telelever', 0.48800248), ('gma', 0.59710175), ('cbn', 0.6815967)], 'ratán': [('bejuco', 0.55311626), ('izote', 0.55405825), ('izotes', 0.5560747), ('chicozapotes', 0.5655823), ('zaratán', 0.57272834), ('ratá', 0.57822704), ('chicozapote', 0.5991727), ('atán', 0.6191637)], 'felpa': [('peluche»', 0.6108701), ('peluches', 0.61119556), ('pelucho', 0.61914253), ('peluce', 0.6275842), ('peluchín', 0.63137263), ('felpudo', 0.64605886), ('peluche', 0.6619369), ('felpas', 0.76333463)], 'elastica': [('elastix', 0.7020327), ('plastica', 0.717231), ('elastic', 0.74363536), ('agelastica', 0.7513081), ('elasticina', 0.7729158), ('elasti', 0.7804973), ('elasticas', 0.82977414), ('elastico', 0.85138273)], 'cuerda': [('afinación', 0.58664167), ('ejecutante', 0.5999446), ('cuerdas—', 0.61199594), ('cuerdecilla', 0.6219968), ('cuerdas»', 0.6518818), ('cuerdo', 0.6744177), ('cuerda»', 0.7151437), ('cuerdas', 0.79922813)], 'melia': [('darymelia', 0.6381819), ('emelia', 0.6538408), ('melias', 0.65874887), ('eumelia', 0.6604371), ('bumelia', 0.6651226), ('osmelia', 0.67858386), ('cosmelia', 0.6836722), ('ismelia', 0.7119799)], 'albizia': [('opizia', 0.66900355), ('myrtoleucodendron', 0.6710552), ('ardisiandra', 0.6787137), ('chamaeclitandra', 0.7030504), ('bizia', 0.74008816), ('hesperalbizia', 0.76604515), ('albizzia', 0.8019119), ('albizi', 0.8077638)], 'policloruro': [('policloropreno', 0.8616152), ('policlorado', 0.8616905), ('dicloruro', 0.8729264), ('oxicloruro', 0.901973), ('tricloruro', 0.90312237), ('bicloruro', 0.90632653), ('policloro', 0.91469043), ('policloruros', 0.9521339)], 'betula': [('betulus', 0.74124855), ('betul', 0.746895), ('betulla', 0.76112914), ('betularia', 0.78439945), ('chamaebetula', 0.78569245), ('betulae', 0.78723246), ('betular', 0.8246704), ('betulaefolia', 0.8278264)], 'madera': [('palmadera', 0.63029414), ('enchapado', 0.64429766), ('maderamen', 0.6613706), ('madera»', 0.6739848), ('maderada', 0.6792779), ('madera,', 0.7411423), ('maderas', 0.7719377), ('maderaje', 0.7736996)], 'terrazo': [('terrazada', 0.5992844), ('solería', 0.6011829), ('terraza', 0.6023817), ('terrazado', 0.60381263), ('perrazo', 0.6462856), ('ferrazo', 0.69123507), ('cerrazo', 0.71656907), ('terrazos', 0.8179532)], 'poliéster': [('poliestireno', 0.7094428), ('polietilenos', 0.71254915), ('polietilentereftalato', 0.7207228), ('triéster', 0.7347442), ('polipropileno', 0.7506626), ('poliuretano', 0.76719505), ('polietileno', 0.77024454), ('poliésteres', 0.90878326)], 'mármol': [('pórfido', 0.67631865), ('alabastro', 0.6768279), ('granito', 0.67821085), ('yeso', 0.69024), ('terracota', 0.69093657), ('mármoles', 0.7473026), ('mármol»', 0.8071919), ('mármol,', 0.85831517)], 'alba': [('castañar', 0.4628655), ('albata', 0.4731263), ('ontalba', 0.47722757), ('roseoalba', 0.48074916), ('ficalba', 0.48726258), ('estremera', 0.4923909), ('alba,', 0.5120065), ('tormes', 0.5386016)], 'teca': [('exocarpio', 0.50218296), ('polispermo', 0.50705695), ('tecajete', 0.5084419), ('mopane', 0.51997197), ('tecana', 0.5303616), ('polisperma', 0.53762895), ('epiteca', 0.57782966),\n",
    "('tecas', 0.60141087)], 'poliuretano': [('poliestirenos', 0.75350875), ('polietileno', 0.7642316), ('poliéster', 0.76719505), ('poliestireno', 0.7755266), ('uretano', 0.7890177), ('poliurea', 0.79187477), ('poliureas', 0.80881107), ('poliuretanos', 0.89992326)], 'gris': [('pardogrisáceo', 0.65886873), ('azulado', 0.6641058), ('pálido', 0.66695166), ('oscuro', 0.67046934), ('grisácea', 0.6808258), ('rojizo', 0.6871444), ('marrón', 0.6958032), ('grisáceo', 0.7120673)], 'cobre': [('manganeso', 0.65470403), ('ferroníquel', 0.66170585), ('cobre,', 0.6670332), ('molibdenita', 0.6691217), ('zinc', 0.6720352), ('níquel', 0.69788694), ('plomo', 0.71748906), ('estaño', 0.75026876)], 'natural': [('seminatural', 0.62920415), ('‘natural', 0.6513181), ('natural—', 0.6623862), ('natural»', 0.6711085), ('naturales', 0.67945576), ('—natural', 0.70367396), ('naturala', 0.7181092), ('natural,', 0.7997792)], 'negro': [('rojo', 0.6276467), ('negro◆dragón', 0.63091034), ('negro\\xa0', 0.639391), ('negro—', 0.6514698), ('negro/blanco', 0.66040933), ('negro…', 0.7014928), ('negro,', 0.7299983), ('blanco', 0.7671346)], 'dorado': [('dorador', 0.6108978), ('doradas', 0.6125025), ('dorado»', 0.62167895), ('plateado', 0.63406295), ('dorados', 0.6516066), ('amarillo/dorado', 0.66286016), ('‘‘dorado', 0.67994004), ('dorada', 0.7035005)], 'marrón': [('pardogrisáceo', 0.7397933), ('amarillenta', 0.747536), ('marrones', 0.7505106), ('amarillentos', 0.7515473), ('anaranjado', 0.7547711), ('rojizo', 0.78681093), ('amarillento', 0.7932404), ('grisáceo', 0.8030405)], 'mostaza': [('vinagre', 0.56229496), ('picante', 0.56254613), ('vinagreta', 0.5634969), ('mostazal', 0.6160346), ('pimienta', 0.61842614), ('mostazo', 0.6851837), ('mostaza»', 0.78832614), ('mostazas', 0.8721358)], 'blanco': [('amarillo', 0.65671545), ('negro/blanco', 0.67266804), ('blanco/gris', 0.67399406), ('amarillo/blanco', 0.6945428), ('blanco█', 0.7039028), ('blanco•', 0.70869046), ('blanco,', 0.7352085), ('negro', 0.7671346)], 'plateado': [('gateado', 0.6551634), ('electroplateado', 0.72666883), ('plateada»', 0.7323158), ('plateadas', 0.76404405), ('cariplateado', 0.76423836), ('plateado»', 0.79636705), ('plateados', 0.80193067), ('plateada', 0.82166773)], 'lila': [('rosazul', 0.50308734), ('yelila', 0.5074197), ('lilas', 0.5153321), ('violetas', 0.537437), ('rosado', 0.5440571), ('rosa', 0.5549489), ('violeta', 0.5890016), ('lilar', 0.6172757)], 'rojo': [('verde', 0.62912774), ('amarillo/verde', 0.6309027), ('amarillo,', 0.63937837), ('blanco', 0.643926), ('amarillo/blanco', 0.6462051), ('azul', 0.703332), ('amarillo', 0.7255315), ('rojo,', 0.752561)], 'transparente': [('transparentan', 0.83816814), ('transparentando', 0.854486), ('transparente»', 0.8579176), ('semitransparente', 0.86161774), ('transparentar', 0.8635501), ('transparentemente', 0.8906899), ('bgtransparente', 0.9147485), ('transparenta', 0.9213086)], 'naranja': [('naranjazo', 0.76510334), ('naranjas', 0.7655604), ('naranjay', 0.7658573), ('naranja—', 0.779736), ('rojo/naranja', 0.785415), ('amarillo/naranja', 0.79271024), ('naranjado', 0.80338323), ('naranjada', 0.82052636)], 'multicolor': [('cuatricolor', 0.6453568), ('atricolor', 0.64684975), ('anticolor', 0.6516811), ('quinticolor', 0.6611199), ('lacticolor', 0.66624653), ('nocticolor', 0.68537176), ('multicolores', 0.8631835), ('multicolored', 0.8786366)], 'turquesa': [('turquet', 0.6249025), ('aturquesado', 0.6259525), ('turque', 0.64189875), ('turqué', 0.65465623), ('turques', 0.7149381), ('turqueza', 0.72080076), ('turquesas', 0.8065446), ('turquesa»', 0.8498717)], 'azul': [('azúl', 0.69615114), ('rojo', 0.703332), ('amarillo', 0.70708936), ('amarillo/verde', 0.70750326), ('amarillo/blanco', 0.7130082), ('azul/', 0.7229201), ('azul/verde', 0.7412634), ('azul,', 0.7496192)], 'amarillo': [('amarillos', 0.7531645), ('amarill', 0.76101875), ('amarillo/blanco', 0.76249987), ('amarillo—', 0.7735785), ('amarillo/verde', 0.7937664), ('amarilloso', 0.803796), ('amarillo/naranja', 0.8166584), ('amarillo,', 0.8410516)], 'verde': [('verde/blanco', 0.65619904), ('amarillo', 0.65800554), ('azul/verde', 0.6637619), ('azul', 0.6681175), ('verdeț', 0.6727487), ('verdes', 0.67648137), ('amarillo/verde', 0.6866418), ('verde,', 0.71606165)], 'beige': [('anaranjada', 0.61923194), ('grisáceo', 0.6432217), ('marrón', 0.6439445), ('gris', 0.64657533), ('anaranjado', 0.65558434), ('beigel', 0.656947), ('color', 0.67312294), ('beiges', 0.75259477)], 'rosa': [('rosalito', 0.57345355), ('rosas', 0.58420646), ('rosado', 0.5844633), ('rosazul', 0.59573674), ('rosas,', 0.60023415), ('rosa,', 0.6474016), ('rosal', 0.64772916), ('rosaza', 0.64882594)], 'baño': [('baños', 0.607163), ('duchar', 0.6116919), ('hidromasaje', 0.6160284), ('duchas', 0.6206067), ('jacuzzi', 0.6215224), ('lavabo', 0.64047664), ('bañera', 0.67244226), ('ducha', 0.73516184)], 'cocina': [('cocine', 0.6836707), ('culinario', 0.6884785), ('cocina»', 0.6899375), ('cocino', 0.694138), ('culinaria', 0.69655913), ('cocinase', 0.7029755), ('cocinar', 0.7153864), ('cocinas', 0.7910848)], 'recibidor': [('recepcionada', 0.57059866), ('recepcionó', 0.5721369), ('recibido»', 0.58133006), ('recepcional', 0.591245), ('recepcionado', 0.5966833), ('recibid', 0.6011057), ('recepciona', 0.6029949), ('recibidores', 0.71913815)], 'dormitorio': [('dormitar', 0.66676706), ('comedor', 0.68941176), ('dormita', 0.71998715), ('habitación', 0.7304181), ('dormitory', 0.7538106), ('antedormitorio', 0.801872), ('dormitorios', 0.83147514), ('dormitorio»', 0.850073)], 'comedor': [('dormitorio»', 0.6346631), ('cafetería', 0.6363247), ('habitaciones', 0.6367131), ('patio', 0.6468086), ('comedora', 0.6867879), ('dormitorio', 0.68941176), ('dormitorios', 0.7196337), ('comedores', 0.7345829)], 'trabajo': [('trabajar', 0.6616763), ('¿trabajo', 0.6643325), ('trabajò', 0.69584185), ('trabajo»', 0.705437), ('trabajor', 0.7384868), ('trabajo\\xa0', 0.7449772), ('trabajo,', 0.7528501), ('trabajo…', 0.7942616)], 'salón': [('sala', 0.59017736), ('salón»', 0.59393185), ('salón\\xa0de', 0.6167724), ('salone', 0.6386234), ('antesalón', 0.6541769), ('el\\xa0salón', 0.6777929), ('salon', 0.68673664), ('salones', 0.70202124)],'terraza': [('aterrazamiento', 0.6211753), ('azotea', 0.62656975), ('berraza', 0.67986673), ('aterrazado', 0.69976604), ('terrazas', 0.7089755), ('aterrazada', 0.73134625), ('terrazado', 0.74283975), ('terrazada', 0.7777989)], 'romántico': [('románticos', 0.78454006), ('prerromántico', 0.78603005), ('neoromántico', 0.7862095), ('posromántico', 0.79238564), ('postromántico', 0.8042276), ('quiromántico', 0.8085648), ('romántica', 0.81948066), ('romántico»', 0.8304577)], 'bohemio': [('bohem', 0.59139127), ('bohemian', 0.62622255), ('bohemias', 0.6722294), ('prohemio', 0.6810171), ('bohemia»', 0.69851154), ('bohemia', 0.706443), ('bohemios', 0.75229716), ('bohemio»', 0.81143445)], 'clásico': [('clásicas', 0.6156635), ('clasico', 0.6203161), ('clásicamúsica', 0.63578975), ('clásica', 0.6435837), ('anticlásico', 0.65488845), ('clásicos', 0.6728105), ('clásico—', 0.6998973), ('clásico»', 0.7596334)], 'escandinavo': [('nórdico»', 0.73466486), ('nórdico', 0.74341995), ('escandinavia', 0.7534633), ('escandinavismo', 0.77430177), ('escandinavas', 0.77895856), ('escandinava', 0.8038921), ('escandinavos', 0.8078248), ('escandinava»', 0.8428346)], 'minimalista': [('minimalistas»', 0.7479122), ('minimalism', 0.7559604), ('minimalismos', 0.7709107), ('minimalist', 0.8000624), ('minimalistas', 0.80243564), ('posminimalismo', 0.8116183), ('minimalista»', 0.8780213), ('minimalismo', 0.88807774)], 'ecléctico': [('neoecléctica', 0.7874166), ('eclecticista', 0.80775744), ('eclécticas', 0.8200643), ('eclécticos', 0.8470803), ('eclécticismo', 0.85108197), ('ecléctico»', 0.8560169), ('ecléctica', 0.8750403), ('neoecléctico', 0.8784227)], 'moderno': [('neomoderno', 0.6337456), ('moderna', 0.64914304), ('ultramoderno', 0.6594756), ('contemporáneo', 0.6687181), ('premoderno', 0.66966), ('moderno/', 0.70175886), ('moderno»', 0.713637), ('moderno,', 0.79032797)], 'nórdico': [('nórdicos»', 0.7336549), ('nórdicas', 0.7425121), ('escandinavo', 0.74341995), ('protonórdico', 0.74367285), ('nórdica»', 0.74591875), ('nórdica', 0.7518657), ('nórdicos', 0.76924145), ('nórdico»', 0.8479529)], 'oriental': [('suroccidental', 0.7192957), ('noriental', 0.727591), ('sudoriental', 0.7319424), ('occidental,', 0.73844415), ('sudoccidental', 0.74418825), ('soroccidental', 0.74905366), ('nordoccidental', 0.7619391), ('occidental', 0.84751505)], 'industrial': [('petroindustrial', 0.80098367), ('industrial—', 0.81777984), ('industrialnu', 0.8218012), ('industriall', 0.8349466), ('industrial»', 0.84452844), ('tecnoindustrial', 0.8646356), ('ndustrial', 0.8754567), ('industrial,', 0.88409966)], 'vintage': [('vinta', 0.50512123), ('scrapbooking', 0.51235193), ('vintas', 0.51280606), ('tintagel', 0.5146939), ('custom', 0.5222954), ('montage', 0.5417167), ('vintagesynth', 0.73548365), ('vintages', 0.84633154)], 'rústico': [('caústico', 0.5893609), ('rústica»', 0.5946179), ('rúst', 0.62619084), ('rustico', 0.65561694), ('rústicas', 0.6717141), ('rústicos', 0.7402392), ('rústica', 0.74620813), ('rústico»', 0.77350736)], 'náutico': [('naúticos', 0.64595485), ('motonáutica', 0.6485924), ('naútica', 0.667706), ('nautico', 0.7160274), ('motonáutico', 0.7484902), ('náutica', 0.75826687), ('naútico', 0.7645944), ('náuticos', 0.79597294)], 'cónico': [], 'triangular': [], 'cuadrado': [], 'cuadrada': [], 'ovalado': [], 'ovalada': [], 'rectangular': [], 'cilindrica': [], 'cilindrico': [], 'geométrico': [], 'hexágono': [], 'imitación': [], 'amorfo': [], 'circular': []}"
   ]
  },
  {
   "cell_type": "code",
   "execution_count": 8,
   "id": "e757cf3e",
   "metadata": {},
   "outputs": [
    {
     "name": "stdout",
     "output_type": "stream",
     "text": [
      "{'poliuretano', 'polietilentereftalato', 'polietilenos', 'propileno', 'poliestireno', 'poliestirenos', 'polietileno', 'poliéster'}\n",
      "{'fraxinus', 'betula', 'carpinus', 'alnus', 'aesculus', 'prunus', 'corylus', 'quercus'}\n",
      "{'ejecutante', 'cuerdas', 'afinación', 'cuerdas—', 'cuerdo', 'cuerdas»', 'cuerda»', 'cuerdecilla'}\n",
      "{'lanas', 'lana', 'colchado', 'esparto', 'centeno', 'algodón', 'cáñamo', 'arpillera'}\n",
      "{'piedradura', 'piedras', 'arenisca', 'granito', '‘piedra', 'piedra»', 'caliza', 'piedra,'}\n",
      "{'antipartículas', 'spartículas', 'cuasipartículas', 'partículares', 'astropartículas', 'macropartículas', 'partículas»', 'micropartículas'}\n",
      "{'derbesiaceae', 'cladonia', 'stricto', 'sensu', 'millettieae', 'equisetaceae', 'altingiaceae', 'diplaziopsidaceae'}\n",
      "{'textilera', 'algodón»', 'yute', 'algodón—', 'hilado', 'cáñamo', 'tabaco', 'textileras'}\n",
      "{'regia»', 'regiae', 'vinegia', 'regiao', 'imperiale', 'egregia', 'regiamente', 'regiane'}\n",
      "{'uñas', 'cicatrizada', 'dermatomucosas', 'pelo', 'cuero', 'cabelludo', 'arrugas', 'mucosas'}\n",
      "{'seda', 'tejida', 'hilaza', 'lanas', 'cuero', 'oveja', 'algodón', 'lino'}\n",
      "{'cerámicas', 'cerámica', 'cerámica—', 'acerámico', 'cerámica,', 'cerámida', 'cerámica»', 'cerámicos'}\n",
      "{'multiradiata', 'radiat', 'quadriradiata', 'luteoradiata', 'quinqueradiata', 'triradiata', 'breviradiata', 'pauciradiata'}\n",
      "{'myrtoleucodendron', 'albizzia', 'bizia', 'chamaeclitandra', 'ardisiandra', 'opizia', 'hesperalbizia', 'albizi'}\n",
      "{'presno', 'riofresno', 'valdefresno', 'fuentelfresno', 'fresno»', 'fresnosa', 'resno', 'arroyofresno'}\n",
      "{'policloropreno', 'policloro', 'policlorado', 'tricloruro', 'dicloruro', 'bicloruro', 'policloruros', 'oxicloruro'}\n",
      "{'sintética»', 'sintéticamente', 'sintéticos', 'sintético»', 'semisintético', 'sintéticas', 'sintética', 'sintéticos»'}\n",
      "{'nafia', 'mussafia', 'zafia', 'serafia', 'grafia', 'agrafia', 'hafia', 'afia'}\n",
      "{'mareales', 'oceánicas', 'intermareales', 'marinas»', 'estuarinas', 'marinas—', 'marinos', 'submarinas'}\n",
      "{'poliuretano', 'polietilentereftalato', 'polietilenos', 'polipropileno', 'poliésteres', 'poliestireno', 'polietileno', 'triéster'}\n",
      "{'sabs', 'gma', 'telelever', 'cbn', 'tcs', 'wsbs', 'antibloqueo', 'pilipinas'}\n",
      "{'cemento»', 'ferrocemento', 'fibrocemento', 'cementar', 'cementa', 'cementos', 'cementario', 'cal/cemento'}\n",
      "{'arceo', 'avellano', 'pino', 'maples', 'arces', 'robles', 'acer', 'castañon'}\n",
      "{'granito', 'pórfido', 'mármol»', 'alabastro', 'mármol,', 'mármoles', 'terracota', 'yeso'}\n",
      "{'maracuyá', 'plátano', 'panelera', 'banano', 'azúcar', 'guanábana', 'yuca', 'chontaduro'}\n",
      "{'unicostata', 'acostata', 'octocostata', 'subcostata', 'bicostata', 'microcostata', 'rubrocostata', 'tenuicostata'}\n",
      "{'hubiese', 'haber', 'habrá', 'hayamos', '¿hubiera', 'hubiera', 'hayan', 'hubieras'}\n",
      "{'gallina', 'cabra', 'vacas', 'ubre', 'leche', 'oveja', 'carnero', 'cerdo'}\n",
      "{'cerrazo', 'terrazada', 'ferrazo', 'perrazo', 'terrazos', 'solería', 'terraza', 'terrazado'}\n",
      "{'encina', 'encino', 'pino', 'roblería', 'quercus', 'nogal', '‘roble', 'cedro'}\n",
      "{'hormigonar', 'hormigonada', 'hormigonera', 'hormigonado', 'hormigonando', 'hormigo', 'hormigoneras', 'hormigones'}\n",
      "{'bordar', 'tejerlo', 'entretejer', 'tejida', 'hilar', 'telar', 'tejerse', 'coser'}\n",
      "{'xmedia', 'media#baja', 'mediana', 'dmedia', '#media', 'media,', 'media®', 'mediajo'}\n",
      "{'poliuretano', 'polietilentereftalato', 'polipropileno', 'estireno', 'poliester', 'polietileno', 'poliestirenos', 'polibutadieno'}\n",
      "{'platanifolium', 'sorangium', 'palmifolium', 'rangium', 'sarcozygium', 'alangium', 'changium', 'pangium'}\n",
      "{'pinus', 'echinaster', 'tajinaste', 'quejigo', 'tajinastes', 'laricio', 'pinea', 'lupinaster'}\n",
      "{'theobroma', 'rauwolfia', 'manilkara', 'cinchona', 'caesalpinia', 'clevea', 'evea', 'guayule'}\n",
      "{'manufacturador', 'manufacturados', 'manufacturadas', 'manufactura', 'manufacturado', 'manufacturadora', 'manufacturaba', 'manufacturarse'}\n",
      "{'viñamarina', 'viñas', 'olmué', 'mar/valparaíso/quilpué', 'viñamarino', 'valparaíso/viña', 'reñaca', 'viña»'}\n",
      "{'datilera', 'melia', 'koelreuteria', 'darach', 'azeda', 'azederach', 'chamaebuxus', 'azadirachta'}\n",
      "{'fibrocitos', 'fibroso', 'colágeno', 'fibro', 'tejidos—', 'tejidos', 'fibrocito', 'protejido'}\n",
      "{'dodecilamina', 'tripropilamina', 'amilamina', 'filamina', 'etanolamina', 'alilamina', 'propilamina', 'dialilamina'}\n",
      "{'tectoria', 'tectofilosida', 'tectonofísica', 'tecton', 'tecto', 'tectonics', 'tectonic', 'tectonica'}\n",
      "{'resinoso', 'resinosas', 'oleorresina', 'látex', 'iresina', 'oleoresina', 'resinosa', 'resinas'}\n",
      "{'troncocónica', 'macizada', 'semicilíndrica', 'macizado', 'macizas', 'troncónica', 'troncocónico', 'troncopiramidal'}\n",
      "{'caob', 'caobilla', 'caobas', 'ébano', 'nogal', 'caobo', 'cedro', 'caobania'}\n",
      "{'distylis', 'coilostylis', 'longistylis', 'brevistylis', 'aporostylis', 'monostylis', 'adenostylis', 'julostylis'}\n",
      "{'eumelia', 'cosmelia', 'melias', 'bumelia', 'ismelia', 'emelia', 'darymelia', 'osmelia'}\n",
      "{'vinilocasetedisco', 'viniléster', 'viniles', 'vinil', 'casete', 'vinilo»', 'vinilodisco', 'vinilos'}\n",
      "{'liguanea', 'arthrosamanea', 'macrosamanea', 'samanera', 'pseudosamanea', 'samane', 'sipanea', 'manea'}\n",
      "{'plásticamente', 'plásticos', 'plástica', 'superplástico', 'bioplástico', 'antiplástico', 'plástico»', 'galvanoplástico'}\n",
      "{'ñogal', 'nogalar', 'caoba', 'ébano', 'ciprés', 'roble', 'nogalito', 'cedro'}\n",
      "{'acero»', 'metálica', 'inoxidables', 'inoxidable', 'galvaniza', 'galvanizado', 'aluminio', 'titanio'}\n",
      "{'semisintética', 'sintéticamente', 'sintética»', 'sintéticos', 'sintético»', 'sintéticas', 'sintético', 'sintéticos»'}\n",
      "{'tapizados', 'tapizadas', 'tapizar', 'tapizante', 'tapizando', 'tapizada', 'tapiza', 'tapizan'}\n",
      "{'uretano', 'poliureas', 'poliestireno', 'polietileno', 'poliestirenos', 'poliuretanos', 'poliurea', 'poliéster'}\n",
      "{'arrocerezo', 'cerezos', 'riocerezo', 'ciruelo', 'cerezeda', 'cerezo»', 'manzano', 'ciruelos'}\n",
      "{'fraxinifolia', 'fraxini', 'fraxino', 'fraxinet', 'ulmus', 'fraxinea', 'alnus', 'fraxinifolius'}\n",
      "{'protagónica', 'papel,', 'papeles', 'papel—', 'protagónico', 'protagónicos', 'coprotagónico', 'rol'}\n",
      "{'encina', 'pinus', 'pinos', 'piñonero', 'roble', 'encino', 'resinero', 'abeto'}\n",
      "{'kinghamia', 'cunninghamiana', 'cunninghami', 'cunninghamii', 'cunn', 'binghamia', 'cunninghamiaceae', 'grahamia'}\n",
      "{'elasti', 'elastix', 'plastica', 'elasticina', 'elasticas', 'agelastica', 'elastico', 'elastic'}\n",
      "{'tubulosa', 'globulo', 'globuloso', 'globulotuba', 'globulosas', 'globulos', 'globula', 'globulotuboides'}\n",
      "{'rochebeaucourt', 'hutereaui', 'couma', 'bourgeaui', 'macoubea', 'beaupreopsis', 'doumea', 'apoucouita'}\n",
      "{'textil', 'textilera', 'yutera', 'hilado', 'cáñamo', 'textiles', 'algodón', 'textileras'}\n",
      "{'samaní', 'samana', 'samanya', 'samanamud', 'samani', 'samand', 'samanu', 'massaman'}\n",
      "{'acrílica', 'cartón', 'encolado', 'tejida', 'telas', 'encolada', 'lienzo', 'arpillera'}\n",
      "{'bimetálicas', 'inoxidable', 'bimetálica', 'chapado', 'cuproníquel', 'aluminio', 'ferroníquel', 'bimetálicos'}\n",
      "{'laminado', 'chapado', 'enchapados', 'chapados', 'enchapado', 'contrachapados', 'contrachapada', 'fibrocemento'}\n",
      "{'metalduro', 'metalco', 'metaldoom', '#metal', 'metal/metal', 'metal/heavy', 'metalmetal', 'metal/thrash'}\n",
      "{'juego,', 'tabler', 'juego', 'tableroot', 'tableros', 'cablero', 'tablero»', 'tableras'}\n",
      "{'espumado', 'espumas', 'espumadera', 'espumita', 'espumados', 'espumar', 'espuma»', 'spuma'}\n",
      "{'acaciae', '~acacia~', 'arracacia', 'acacias', 'acaciano', 'pseudacacia', 'nothacacia', 'pseudoacacia'}\n",
      "{'polietilentereftalato', 'polietilenos', 'polipropileno', 'poliestireno', 'polietilenimina', 'polietilenglicol', 'poliestirenos', 'poliéster'}\n",
      "{'aleación', 'cuproaluminio', 'aluminio»', 'aluminios', 'laca/aluminio', 'duraluminio', 'aluminij', 'alumino'}\n",
      "{'subtemplado', 'húmedo', 'cálido', 'perhúmedo', 'templados', 'clima', 'templado»', 'templado/mesotermal'}\n",
      "{'hierros', 'hierro\\xa0', 'hierro\\xa0con', 'hierro/', 'hierro—', 'hierro,', 'hierro\\xa0el', 'hierro»'}\n",
      "{'cabrais', 'cabrahigo', 'cabras', 'oveja', 'cabracán', 'carnero', 'vaca', 'cabrito'}\n",
      "{'leptochiton', 'aplochiton', 'chaunochiton', 'exochiton', 'apochiton', 'eriochiton', 'rhodochiton', 'creochiton'}\n",
      "{'utatsuki', '~enishi~', 'ayuhara', '上ちゃん', 'eiyū', 'nijiiro', 'koibana', 'ep'}\n",
      "{'maderada', 'madera,', 'maderaje', 'maderas', 'maderamen', 'madera»', 'enchapado', 'palmadera'}\n",
      "{'galvanizar', 'galvanizadas', 'galvaniza', 'galvanizados', 'galvanizó', 'galvanizadora', 'galvanize', 'galvanizada'}\n",
      "{'búfalo»', '‘búfalo', 'buffalo', 'búfalos', 'búfala', 'búfalas', 'antílope', 'búffalo'}\n",
      "{'polisperma', 'mopane', 'exocarpio', 'polispermo', 'epiteca', 'tecajete', 'tecana', 'tecas'}\n",
      "{'reciclando', 'recicla', 'reciclaban', 'reciclado', 'reciclables', 'reciclada', 'reciclados', 'reciclan'}\n",
      "{'nailon', 'nylons', 'neopreno', 'polipropileno', 'nylón', 'polietileno', 'silicona', 'poliéster'}\n",
      "{'peluche»', 'peluce', 'peluchín', 'felpudo', 'peluche', 'felpas', 'peluches', 'pelucho'}\n",
      "{'betulaefolia', 'betulla', 'betularia', 'betul', 'chamaebetula', 'betulus', 'betular', 'betulae'}\n",
      "{'albata', 'ficalba', 'ontalba', 'alba,', 'castañar', 'roseoalba', 'tormes', 'estremera'}\n",
      "{'natural,', 'naturales—', 'naturales»', 'seminaturales', 'naturales…', 'naturales,', 'naturalesa', 'natural'}\n",
      "{'maíz', 'zea', 'umays', 'mayson', 'capshaw', 'pinkston', 'jayma', 'tabacum'}\n",
      "{'chicozapotes', 'ratá', 'atán', 'izote', 'zaratán', 'bejuco', 'chicozapote', 'izotes'}\n",
      "{'color', 'marrón', 'beigel', 'anaranjado', 'anaranjada', 'gris', 'grisáceo', 'beiges'}\n",
      "{'rosa', 'violetas', 'lilar', 'lilas', 'yelila', 'rosazul', 'rosado', 'violeta'}\n",
      "{'molibdenita', 'plomo', 'estaño', 'cobre,', 'níquel', 'manganeso', 'zinc', 'ferroníquel'}\n",
      "{'negro/blanco', 'amarillo/blanco', 'blanco/gris', 'blanco•', 'amarillo', 'blanco█', 'negro', 'blanco,'}\n",
      "{'picante', 'pimienta', 'mostaza»', 'mostazas', 'mostazo', 'vinagre', 'vinagreta', 'mostazal'}\n",
      "{'negro/blanco', 'negro…', 'blanco', 'negro◆dragón', 'negro,', 'negro\\xa0', 'negro—', 'rojo'}\n",
      "{'pardogrisáceo', 'marrones', 'anaranjado', 'rojizo', 'amarillentos', 'amarillento', 'grisáceo', 'amarillenta'}\n",
      "{'plateados', 'plateada', 'plateadas', 'electroplateado', 'plateada»', 'plateado»', 'gateado', 'cariplateado'}\n",
      "{'rosaza', 'rosalito', 'rosazul', 'rosa,', 'rosas,', 'rosas', 'rosado', 'rosal'}\n",
      "{'rojo/naranja', 'naranjada', 'amarillo/naranja', 'naranjay', 'naranja—', 'naranjado', 'naranjas', 'naranjazo'}\n",
      "{'verde/blanco', 'amarillo/verde', 'azul/verde', 'verdes', 'verde,', 'verdeț', 'amarillo', 'azul'}\n",
      "{'turquesas', 'turquet', 'turqué', 'turqueza', 'turquesa»', 'turque', 'turques', 'aturquesado'}\n",
      "{'amarillo—', 'amarilloso', 'amarillo/blanco', 'amarillo/naranja', 'amarillo/verde', 'amarillo,', 'amarillos', 'amarill'}\n",
      "{'lacticolor', 'multicolored', 'cuatricolor', 'quinticolor', 'nocticolor', 'anticolor', 'multicolores', 'atricolor'}\n",
      "{'azul,', 'amarillo/blanco', 'amarillo/verde', 'azul/verde', 'azul/', 'azúl', 'amarillo', 'rojo'}\n",
      "{'pardogrisáceo', 'pálido', 'azulado', 'marrón', 'oscuro', 'grisáceo', 'grisácea', 'rojizo'}\n",
      "{'dorado»', 'dorados', 'amarillo/dorado', 'plateado', 'doradas', 'dorada', '‘‘dorado', 'dorador'}\n",
      "{'transparentar', 'transparenta', 'semitransparente', 'transparente»', 'bgtransparente', 'transparentan', 'transparentemente', 'transparentando'}\n",
      "{'amarillo/blanco', 'blanco', 'amarillo/verde', 'rojo,', 'amarillo,', 'amarillo', 'azul', 'verde'}\n",
      "{'seminatural', '—natural', 'natural,', 'natural—', '‘natural', 'naturales', 'naturala', 'natural»'}\n",
      "{'comedora', 'comedores', 'patio', 'dormitorio', 'dormitorio»', 'dormitorios', 'cafetería', 'habitaciones'}\n",
      "{'recepcionado', 'recibido»', 'recibid', 'recepciona', 'recibidores', 'recepcionada', 'recepcional', 'recepcionó'}\n",
      "{'comedor', 'habitación', 'antedormitorio', 'dormitar', 'dormita', 'dormitorio»', 'dormitory', 'dormitorios'}\n",
      "{'cocinase', 'culinario', 'cocine', 'culinaria', 'cocinar', 'cocinas', 'cocina»', 'cocino'}\n",
      "{'aterrazamiento', 'terrazada', 'azotea', 'aterrazada', 'aterrazado', 'terrazas', 'berraza', 'terrazado'}\n",
      "{'trabajo,', 'trabajo…', 'trabajo\\xa0', 'trabajò', 'trabajar', 'trabajo»', 'trabajor', '¿trabajo'}\n",
      "{'salones', 'salon', 'salón»', 'salón\\xa0de', 'antesalón', 'salone', 'sala', 'el\\xa0salón'}\n",
      "{'duchar', 'lavabo', 'baños', 'bañera', 'jacuzzi', 'ducha', 'duchas', 'hidromasaje'}\n",
      "{'suroccidental', 'noriental', 'sudoriental', 'soroccidental', 'sudoccidental', 'occidental,', 'nordoccidental', 'occidental'}\n",
      "{'premoderno', 'contemporáneo', 'moderna', 'moderno/', 'neomoderno', 'moderno»', 'ultramoderno', 'moderno,'}\n",
      "{'motonáutica', 'naútica', 'náutica', 'motonáutico', 'náuticos', 'naútico', 'naúticos', 'nautico'}\n",
      "{'industrial—', 'industrialnu', 'ndustrial', 'industrial»', 'petroindustrial', 'tecnoindustrial', 'industrial,', 'industriall'}\n",
      "{'scrapbooking', 'vintas', 'tintagel', 'vintagesynth', 'montage', 'vinta', 'vintages', 'custom'}\n",
      "{'rústicas', 'rúst', 'rustico', 'rústico»', 'rústica»', 'rústicos', 'caústico', 'rústica'}\n",
      "{'postromántico', 'romántica', 'neoromántico', 'romántico»', 'quiromántico', 'románticos', 'prerromántico', 'posromántico'}\n",
      "{'clásicas', 'clásicamúsica', 'clásico—', 'anticlásico', 'clásicos', 'clásica', 'clasico', 'clásico»'}\n",
      "{'ecléctico»', 'eclécticos', 'neoecléctico', 'eclecticista', 'eclécticismo', 'neoecléctica', 'eclécticas', 'ecléctica'}\n",
      "{'nórdicos', 'nórdicos»', 'protonórdico', 'nórdicas', 'nórdica»', 'nórdico»', 'nórdica', 'escandinavo'}\n",
      "{'minimalism', 'minimalistas»', 'minimalist', 'minimalistas', 'minimalista»', 'minimalismos', 'posminimalismo', 'minimalismo'}\n",
      "{'escandinava', 'escandinavas', 'escandinavismo', 'escandinavia', 'escandinava»', 'nórdico»', 'nórdico', 'escandinavos'}\n",
      "{'bohem', 'bohemia»', 'bohemio»', 'prohemio', 'bohemia', 'bohemian', 'bohemias', 'bohemios'}\n",
      "set()\n",
      "set()\n",
      "set()\n",
      "set()\n",
      "set()\n",
      "set()\n",
      "set()\n",
      "set()\n",
      "set()\n",
      "set()\n",
      "set()\n",
      "set()\n",
      "set()\n",
      "set()\n"
     ]
    }
   ],
   "source": [
    "augmented_cluster_dict = cluster_dict.copy()\n",
    "for cat in augmented_cluster_dict.keys():\n",
    "    for elem in augmented_cluster_dict[cat]:\n",
    "        if elem.lower() in five_nearest:\n",
    "            l = [e[0] for e in five_nearest[elem.lower()]]\n",
    "            print(set(l))\n",
    "            augmented_cluster_dict[cat] = augmented_cluster_dict[cat].union(set(l))"
   ]
  },
  {
   "cell_type": "markdown",
   "id": "959d9c37",
   "metadata": {},
   "source": [
    "# Labeling"
   ]
  },
  {
   "cell_type": "code",
   "execution_count": null,
   "id": "53cdea0c",
   "metadata": {},
   "outputs": [],
   "source": []
  },
  {
   "cell_type": "code",
   "execution_count": 9,
   "id": "260053b6",
   "metadata": {},
   "outputs": [],
   "source": [
    "none_category = np.array(list(model.key_to_index.keys()))\n",
    "np.random.shuffle(none_category)\n",
    "none_category = none_category[:4000]"
   ]
  },
  {
   "cell_type": "code",
   "execution_count": 10,
   "id": "98ca190b",
   "metadata": {},
   "outputs": [
    {
     "name": "stdout",
     "output_type": "stream",
     "text": [
      "NOT FOUND\n",
      "NOT FOUND\n",
      "NOT FOUND\n"
     ]
    }
   ],
   "source": [
    "wrds = []\n",
    "embs = []\n",
    "y = []\n",
    "\n",
    "for k in augmented_cluster_dict.keys():\n",
    "    for word in augmented_cluster_dict[k]:\n",
    "        #print(word)\n",
    "        if word.lower() in model:\n",
    "            wrds.append(word.lower())\n",
    "            embs.append(model[word.lower()])\n",
    "            y.append(k)\n",
    "        else:\n",
    "            print(\"NOT FOUND\")\n",
    "for j in none_category:\n",
    "    wrds.append(j)\n",
    "    embs.append(model[j])\n",
    "    y.append(\"not_an_attr\")"
   ]
  },
  {
   "cell_type": "markdown",
   "id": "a7017a35",
   "metadata": {},
   "source": [
    "# KNN"
   ]
  },
  {
   "cell_type": "code",
   "execution_count": 11,
   "id": "dad5e939",
   "metadata": {},
   "outputs": [],
   "source": [
    "arr = np.arange(len(y))\n",
    "np.random.shuffle(arr)"
   ]
  },
  {
   "cell_type": "code",
   "execution_count": 12,
   "id": "d60df3c0",
   "metadata": {},
   "outputs": [],
   "source": [
    "X = []\n",
    "Y = []\n",
    "for indx in arr:\n",
    "    X.append(np.array(embs[indx]))\n",
    "    Y.append(y[indx])\n",
    "X = np.array(X)\n",
    "Y = np.array(Y)"
   ]
  },
  {
   "cell_type": "code",
   "execution_count": 13,
   "id": "d825cf84",
   "metadata": {},
   "outputs": [],
   "source": [
    "# Import train_test_split function\n",
    "from sklearn.model_selection import train_test_split\n",
    "\n",
    "# Split dataset into training set and test set\n",
    "X_train, X_test, y_train, y_test = train_test_split(X, Y, test_size=0.25) # 70% training and 30% test"
   ]
  },
  {
   "cell_type": "code",
   "execution_count": 14,
   "id": "7269f3b0",
   "metadata": {},
   "outputs": [
    {
     "name": "stdout",
     "output_type": "stream",
     "text": [
      "Time:  0.041972676000114006\n",
      "Time:  0.2143435630005115\n"
     ]
    }
   ],
   "source": [
    "#Import knearest neighbors Classifier model\n",
    "from sklearn.neighbors import KNeighborsClassifier\n",
    "import pickle\n",
    "#Create KNN Classifier\n",
    "knn = KNeighborsClassifier(n_neighbors=5)\n",
    "\n",
    "\n",
    "import timeit\n",
    "start = timeit.default_timer()\n",
    "#Train the model using the training sets\n",
    "knn.fit(X_train, y_train)\n",
    "stop = timeit.default_timer()\n",
    "print('Time: ', stop - start) \n",
    "\n",
    "\n",
    "# save the model to disk\n",
    "filename = 'model_v7.sav'\n",
    "pickle.dump(knn, open(filename, 'wb'))\n",
    "\n",
    "\n",
    "#Predict the response for test dataset\n",
    "start = timeit.default_timer()\n",
    "y_pred = knn.predict(X_test)\n",
    "stop = timeit.default_timer()\n",
    "print('Time: ', stop - start) "
   ]
  },
  {
   "cell_type": "code",
   "execution_count": 15,
   "id": "c4d787b1",
   "metadata": {},
   "outputs": [
    {
     "name": "stdout",
     "output_type": "stream",
     "text": [
      "Accuracy: 0.934748427672956\n"
     ]
    }
   ],
   "source": [
    "#Import scikit-learn metrics module for accuracy calculation\n",
    "from sklearn import metrics\n",
    "# Model Accuracy, how often is the classifier correct?\n",
    "print(\"Accuracy:\",metrics.accuracy_score(y_test, y_pred))"
   ]
  },
  {
   "cell_type": "code",
   "execution_count": 16,
   "id": "6f9e7821",
   "metadata": {},
   "outputs": [
    {
     "name": "stdout",
     "output_type": "stream",
     "text": [
      "Accuracy: 0.934748427672956\n"
     ]
    }
   ],
   "source": [
    "print(\"Accuracy:\",metrics.accuracy_score(y_test, y_pred))\n",
    "#print(\"F1:\",metrics.f1_score(y_test, y_pred))\n",
    "#print(\"Recall:\",metrics.recall_score(y_test, y_pred))\n",
    "#print(\"Precision:\",metrics.precision_score(y_test, y_pred))"
   ]
  },
  {
   "cell_type": "markdown",
   "id": "7f53f66f",
   "metadata": {},
   "source": [
    "# Load and test"
   ]
  },
  {
   "cell_type": "code",
   "execution_count": 17,
   "id": "ac5b6d79",
   "metadata": {},
   "outputs": [],
   "source": [
    "import pickle\n",
    "# load the model from disk\n",
    "loaded_model = pickle.load(open(\"model_v7.sav\", 'rb'))"
   ]
  },
  {
   "cell_type": "code",
   "execution_count": 18,
   "id": "ee5b04c9",
   "metadata": {},
   "outputs": [],
   "source": [
    "word = \"pasillo\""
   ]
  },
  {
   "cell_type": "code",
   "execution_count": 19,
   "id": "464f222e",
   "metadata": {},
   "outputs": [
    {
     "name": "stdout",
     "output_type": "stream",
     "text": [
      "['Habitación']\n"
     ]
    }
   ],
   "source": [
    "result = loaded_model.predict(np.array([model[word]]))\n",
    "print(result)"
   ]
  },
  {
   "cell_type": "code",
   "execution_count": 20,
   "id": "bfe647e1",
   "metadata": {},
   "outputs": [],
   "source": [
    "words = []\n",
    "x = []\n",
    "for k in cluster_dict.keys():\n",
    "    words.append(k)\n",
    "    x.append(model[k.lower()])\n",
    "    for j in cluster_dict[k]:\n",
    "        if j in model:\n",
    "            x.append(model[j])\n",
    "            words.append(j)\n",
    "\n",
    "result = loaded_model.predict(x)"
   ]
  },
  {
   "cell_type": "code",
   "execution_count": 21,
   "id": "cb74fd35",
   "metadata": {},
   "outputs": [],
   "source": [
    "classification = dict()\n",
    "for i,j in zip(words, result):\n",
    "    if j not in classification.keys():\n",
    "        classification[j] = []\n",
    "    classification[j].append(i)"
   ]
  },
  {
   "cell_type": "code",
   "execution_count": 22,
   "id": "21705a5e",
   "metadata": {},
   "outputs": [
    {
     "name": "stdout",
     "output_type": "stream",
     "text": [
      "Material\n",
      "\n",
      "['Material', 'polipropileno', 'ulmus', 'cuerda', 'lino', 'piedra', 'partículas', 'lato', 'algodón', 'regia', 'piel', 'lana', 'cerámico', 'radiata', 'albizia', 'fresno', 'policloruro', 'sintético', 'rafia', 'marinas', 'poliéster', 'abs', 'cemento', 'arce', 'mármol', 'caña', 'costata', 'haya', 'vaca', 'terrazo', 'roble', 'hormigon', 'tejer', 'media', 'poliestireno', 'mangium', 'pinaster', 'hevea', 'manufacturada', 'viña', 'azedarach', 'tejido', 'melamina', 'tectona', 'resina', 'maciza', 'caoba', 'fimbristylis', 'melia', 'vinilo', 'samanea', 'plástico', 'nogal', 'acero', 'sintética', 'tapizado', 'poliuretano', 'cerezo', 'fraxinus', 'papel', 'pino', 'cunninghamia', 'elastica', 'globulosa', 'aucoumea', 'yute', 'saman', 'tela', 'latón', 'contrachapado', 'metal', 'tablero', 'espuma', 'acacia', 'polietileno', 'aluminio', 'templado', 'hierro', 'cabra', 'triplochiton', 'eps', 'madera', 'galvanizado', 'búfalo', 'teca', 'recicladas', 'nylon', 'felpa', 'betula', 'alba', 'naturales', 'mays', 'ratán']\n",
      "\n",
      "Color\n",
      "\n",
      "['Color', 'beige', 'lila', 'cobre', 'blanco', 'mostaza', 'negro', 'marrón', 'plateado', 'rosa', 'naranja', 'verde', 'turquesa', 'amarillo', 'multicolor', 'azul', 'gris', 'dorado', 'transparente', 'rojo', 'natural']\n",
      "\n",
      "Habitación\n",
      "\n",
      "['Habitación', 'comedor', 'recibidor', 'dormitorio', 'cocina', 'terraza', 'trabajo', 'salón', 'baño']\n",
      "\n",
      "Estilo\n",
      "\n",
      "['Estilo', 'oriental', 'moderno', 'náutico', 'industrial', 'vintage', 'rústico', 'romántico', 'clásico', 'ecléctico', 'nórdico', 'minimalista', 'escandinavo', 'bohemio']\n",
      "\n",
      "Forma\n",
      "\n",
      "['Forma']\n",
      "\n"
     ]
    }
   ],
   "source": [
    "for k in classification.keys():\n",
    "    print(k)\n",
    "    print()\n",
    "    print(classification[k])\n",
    "    print()"
   ]
  },
  {
   "cell_type": "code",
   "execution_count": null,
   "id": "c5b616af",
   "metadata": {},
   "outputs": [],
   "source": []
  }
 ],
 "metadata": {
  "kernelspec": {
   "display_name": "Python 3",
   "language": "python",
   "name": "python3"
  },
  "language_info": {
   "codemirror_mode": {
    "name": "ipython",
    "version": 3
   },
   "file_extension": ".py",
   "mimetype": "text/x-python",
   "name": "python",
   "nbconvert_exporter": "python",
   "pygments_lexer": "ipython3",
   "version": "3.6.9"
  }
 },
 "nbformat": 4,
 "nbformat_minor": 5
}
